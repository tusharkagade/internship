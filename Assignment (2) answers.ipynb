{
 "cells": [
  {
   "cell_type": "code",
   "execution_count": 2,
   "id": "45ef9632",
   "metadata": {},
   "outputs": [],
   "source": [
    "import pandas as pd\n",
    "import numpy as np\n",
    "import regex as re"
   ]
  },
  {
   "cell_type": "code",
   "execution_count": 2,
   "id": "858726d5",
   "metadata": {},
   "outputs": [
    {
     "name": "stdout",
     "output_type": "stream",
     "text": [
      "Python:Exercise::PHP:exercise:\n"
     ]
    }
   ],
   "source": [
    "# qustion(1)\n",
    "\n",
    "sample_text='Python Exercise, PHP exercise.'\n",
    "\n",
    "pattern=re.sub(r'[ ,.]',':', sample_text)\n",
    "print(pattern)"
   ]
  },
  {
   "cell_type": "code",
   "execution_count": 3,
   "id": "93ad8836",
   "metadata": {},
   "outputs": [
    {
     "name": "stdout",
     "output_type": "stream",
     "text": [
      "          SUMMRY\n",
      "0    hello world\n",
      "1           text\n",
      "2  four five six\n"
     ]
    }
   ],
   "source": [
    "# question (2)\n",
    "\n",
    "dictionary = {'SUMMRY':['hello, world!', 'XXXXX text', '123four, five:; six...']}\n",
    "\n",
    "df= pd.DataFrame(dictionary)\n",
    "def remove_non_alphabetic(text):\n",
    "    pattern= re.compile(r'[^a-z\\s]')\n",
    "    text= re.sub(pattern, '', text)\n",
    "    return text\n",
    "for col in df.columns:\n",
    "    df[col] = df[col].apply(remove_non_alphabetic)\n",
    "print(df)"
   ]
  },
  {
   "cell_type": "code",
   "execution_count": 5,
   "id": "7f71e403",
   "metadata": {},
   "outputs": [
    {
     "name": "stdout",
     "output_type": "stream",
     "text": [
      "['fliprobo', 'technology', 'given', 'assignment', 'practice', 'purpose']\n"
     ]
    }
   ],
   "source": [
    "# question (3)\n",
    "text= 'The fliprobo technology given by the assignment for practice purpose'\n",
    "\n",
    "pattern= re.compile(r'\\b\\w{4,}\\b')\n",
    "matches= pattern.findall(text)\n",
    "print(matches)"
   ]
  },
  {
   "cell_type": "code",
   "execution_count": 8,
   "id": "fb1e8e25",
   "metadata": {},
   "outputs": [
    {
     "name": "stdout",
     "output_type": "stream",
     "text": [
      "['The', 'data', 'and', 'very', 'good', 'learn', 'the', 'data']\n"
     ]
    }
   ],
   "source": [
    "# question (4)\n",
    "\n",
    "text='The data trained and fliprobo is a very good platform to learn the data scince'\n",
    "\n",
    "pattern = re.compile(r'\\b\\w{3,5}\\b')\n",
    "matches = pattern.findall(text)\n",
    "print(matches)"
   ]
  },
  {
   "cell_type": "code",
   "execution_count": 10,
   "id": "3f64052c",
   "metadata": {},
   "outputs": [
    {
     "name": "stdout",
     "output_type": "stream",
     "text": [
      "['example .com', 'hrfliprobo .com', 'github .com', 'Hello Data Scince World', 'Data Scientist']\n"
     ]
    }
   ],
   "source": [
    "# question (5)\n",
    "\n",
    "Sample_Text=['example (.com)', 'hr@fliprobo (.com)','github (.com)', 'Hello (Data Scince World)', 'Data (Scientist)']\n",
    "\n",
    "pattern = re.compile(r'[^\\w\\s.]')\n",
    "matches= [pattern.sub('',s) for s in Sample_Text]\n",
    "print(matches)"
   ]
  },
  {
   "cell_type": "code",
   "execution_count": 11,
   "id": "2e2b0916",
   "metadata": {},
   "outputs": [
    {
     "name": "stdout",
     "output_type": "stream",
     "text": [
      "['example', 'hr@fliprobo', 'github', 'Hello', 'Data']\n"
     ]
    }
   ],
   "source": [
    "# question (6)\n",
    "\n",
    "Sample_Text= ['example (.com)', 'hr@fliprobo (.com)', 'github (.com)', 'Hello (Data Scince World)', 'Data (Scientist)']\n",
    "\n",
    "pattern = re.compile(r'\\s*\\(.*?\\)\\s*')\n",
    "matches = [pattern.sub('', s) for s in Sample_Text]\n",
    "print(matches)"
   ]
  },
  {
   "cell_type": "code",
   "execution_count": 17,
   "id": "90842526",
   "metadata": {},
   "outputs": [
    {
     "name": "stdout",
     "output_type": "stream",
     "text": [
      "['Importance', 'Of', 'Regular', 'Expression', 'In', 'Python']\n"
     ]
    }
   ],
   "source": [
    "# question(7)\n",
    "\n",
    "Sample_Text ='ImportanceOfRegularExpressionInPython'\n",
    "\n",
    "pattern = re.compile(r'[A-Z][^A-Z]*')\n",
    "matches = pattern.findall(Sample_Text)\n",
    "print(matches)"
   ]
  },
  {
   "cell_type": "code",
   "execution_count": 21,
   "id": "4fab1f9d",
   "metadata": {},
   "outputs": [
    {
     "name": "stdout",
     "output_type": "stream",
     "text": [
      "RegularExpression 1IsAn 2ImportantTopic 3InPython\n"
     ]
    }
   ],
   "source": [
    "# question(8)\n",
    "\n",
    "Sample_Text= 'RegularExpression1IsAn2ImportantTopic3InPython'\n",
    "\n",
    "pattern = re.compile(r'(\\d)')\n",
    "matches = pattern.sub(r' \\1',Sample_Text)\n",
    "print(matches)\n"
   ]
  },
  {
   "cell_type": "code",
   "execution_count": 22,
   "id": "70e89431",
   "metadata": {},
   "outputs": [
    {
     "name": "stdout",
     "output_type": "stream",
     "text": [
      "RegularExpression 1 IsAn 2 ImportantTopic 3 InPython\n"
     ]
    }
   ],
   "source": [
    "# question(9)\n",
    "\n",
    "Sample_Text= 'RegularExpression1IsAn2ImportantTopic3InPython'\n",
    "\n",
    "pattern = re.compile(r'(\\d)')\n",
    "matches = pattern.sub(r' \\1 ',Sample_Text)\n",
    "print(matches)"
   ]
  },
  {
   "cell_type": "code",
   "execution_count": 23,
   "id": "0eb58ea4",
   "metadata": {},
   "outputs": [
    {
     "data": {
      "text/html": [
       "<div>\n",
       "<style scoped>\n",
       "    .dataframe tbody tr th:only-of-type {\n",
       "        vertical-align: middle;\n",
       "    }\n",
       "\n",
       "    .dataframe tbody tr th {\n",
       "        vertical-align: top;\n",
       "    }\n",
       "\n",
       "    .dataframe thead th {\n",
       "        text-align: right;\n",
       "    }\n",
       "</style>\n",
       "<table border=\"1\" class=\"dataframe\">\n",
       "  <thead>\n",
       "    <tr style=\"text-align: right;\">\n",
       "      <th></th>\n",
       "      <th>Country</th>\n",
       "      <th>Region</th>\n",
       "      <th>Happiness Rank</th>\n",
       "      <th>Happiness Score</th>\n",
       "      <th>Standard Error</th>\n",
       "      <th>Economy (GDP per Capita)</th>\n",
       "      <th>Family</th>\n",
       "      <th>Health (Life Expectancy)</th>\n",
       "      <th>Freedom</th>\n",
       "      <th>Trust (Government Corruption)</th>\n",
       "      <th>Generosity</th>\n",
       "      <th>Dystopia Residual</th>\n",
       "    </tr>\n",
       "  </thead>\n",
       "  <tbody>\n",
       "    <tr>\n",
       "      <th>0</th>\n",
       "      <td>Switzerland</td>\n",
       "      <td>Western Europe</td>\n",
       "      <td>1</td>\n",
       "      <td>7.587</td>\n",
       "      <td>0.03411</td>\n",
       "      <td>1.39651</td>\n",
       "      <td>1.34951</td>\n",
       "      <td>0.94143</td>\n",
       "      <td>0.66557</td>\n",
       "      <td>0.41978</td>\n",
       "      <td>0.29678</td>\n",
       "      <td>2.51738</td>\n",
       "    </tr>\n",
       "    <tr>\n",
       "      <th>1</th>\n",
       "      <td>Iceland</td>\n",
       "      <td>Western Europe</td>\n",
       "      <td>2</td>\n",
       "      <td>7.561</td>\n",
       "      <td>0.04884</td>\n",
       "      <td>1.30232</td>\n",
       "      <td>1.40223</td>\n",
       "      <td>0.94784</td>\n",
       "      <td>0.62877</td>\n",
       "      <td>0.14145</td>\n",
       "      <td>0.43630</td>\n",
       "      <td>2.70201</td>\n",
       "    </tr>\n",
       "    <tr>\n",
       "      <th>2</th>\n",
       "      <td>Denmark</td>\n",
       "      <td>Western Europe</td>\n",
       "      <td>3</td>\n",
       "      <td>7.527</td>\n",
       "      <td>0.03328</td>\n",
       "      <td>1.32548</td>\n",
       "      <td>1.36058</td>\n",
       "      <td>0.87464</td>\n",
       "      <td>0.64938</td>\n",
       "      <td>0.48357</td>\n",
       "      <td>0.34139</td>\n",
       "      <td>2.49204</td>\n",
       "    </tr>\n",
       "    <tr>\n",
       "      <th>3</th>\n",
       "      <td>Norway</td>\n",
       "      <td>Western Europe</td>\n",
       "      <td>4</td>\n",
       "      <td>7.522</td>\n",
       "      <td>0.03880</td>\n",
       "      <td>1.45900</td>\n",
       "      <td>1.33095</td>\n",
       "      <td>0.88521</td>\n",
       "      <td>0.66973</td>\n",
       "      <td>0.36503</td>\n",
       "      <td>0.34699</td>\n",
       "      <td>2.46531</td>\n",
       "    </tr>\n",
       "    <tr>\n",
       "      <th>4</th>\n",
       "      <td>Canada</td>\n",
       "      <td>North America</td>\n",
       "      <td>5</td>\n",
       "      <td>7.427</td>\n",
       "      <td>0.03553</td>\n",
       "      <td>1.32629</td>\n",
       "      <td>1.32261</td>\n",
       "      <td>0.90563</td>\n",
       "      <td>0.63297</td>\n",
       "      <td>0.32957</td>\n",
       "      <td>0.45811</td>\n",
       "      <td>2.45176</td>\n",
       "    </tr>\n",
       "  </tbody>\n",
       "</table>\n",
       "</div>"
      ],
      "text/plain": [
       "       Country          Region  Happiness Rank  Happiness Score  \\\n",
       "0  Switzerland  Western Europe               1            7.587   \n",
       "1      Iceland  Western Europe               2            7.561   \n",
       "2      Denmark  Western Europe               3            7.527   \n",
       "3       Norway  Western Europe               4            7.522   \n",
       "4       Canada   North America               5            7.427   \n",
       "\n",
       "   Standard Error  Economy (GDP per Capita)   Family  \\\n",
       "0         0.03411                   1.39651  1.34951   \n",
       "1         0.04884                   1.30232  1.40223   \n",
       "2         0.03328                   1.32548  1.36058   \n",
       "3         0.03880                   1.45900  1.33095   \n",
       "4         0.03553                   1.32629  1.32261   \n",
       "\n",
       "   Health (Life Expectancy)  Freedom  Trust (Government Corruption)  \\\n",
       "0                   0.94143  0.66557                        0.41978   \n",
       "1                   0.94784  0.62877                        0.14145   \n",
       "2                   0.87464  0.64938                        0.48357   \n",
       "3                   0.88521  0.66973                        0.36503   \n",
       "4                   0.90563  0.63297                        0.32957   \n",
       "\n",
       "   Generosity  Dystopia Residual  \n",
       "0     0.29678            2.51738  \n",
       "1     0.43630            2.70201  \n",
       "2     0.34139            2.49204  \n",
       "3     0.34699            2.46531  \n",
       "4     0.45811            2.45176  "
      ]
     },
     "execution_count": 23,
     "metadata": {},
     "output_type": "execute_result"
    }
   ],
   "source": [
    "# question(10)\n",
    "\n",
    "df= pd.read_csv('https://raw.githubusercontent.com/dsrscientist/DSData/master/happiness_score_dataset.csv')\n",
    "df.head()"
   ]
  },
  {
   "cell_type": "code",
   "execution_count": 23,
   "id": "e9efa659",
   "metadata": {},
   "outputs": [
    {
     "name": "stdout",
     "output_type": "stream",
     "text": [
      "         Country                           Region  Happiness Rank  \\\n",
      "0    Switzerland                   Western Europe               1   \n",
      "1        Iceland                   Western Europe               2   \n",
      "2        Denmark                   Western Europe               3   \n",
      "3         Norway                   Western Europe               4   \n",
      "4         Canada                    North America               5   \n",
      "..           ...                              ...             ...   \n",
      "153       Rwanda               Sub-Saharan Africa             154   \n",
      "154        Benin               Sub-Saharan Africa             155   \n",
      "155        Syria  Middle East and Northern Africa             156   \n",
      "156      Burundi               Sub-Saharan Africa             157   \n",
      "157         Togo               Sub-Saharan Africa             158   \n",
      "\n",
      "     Happiness Score  Standard Error  Economy (GDP per Capita)   Family  \\\n",
      "0              7.587         0.03411                   1.39651  1.34951   \n",
      "1              7.561         0.04884                   1.30232  1.40223   \n",
      "2              7.527         0.03328                   1.32548  1.36058   \n",
      "3              7.522         0.03880                   1.45900  1.33095   \n",
      "4              7.427         0.03553                   1.32629  1.32261   \n",
      "..               ...             ...                       ...      ...   \n",
      "153            3.465         0.03464                   0.22208  0.77370   \n",
      "154            3.340         0.03656                   0.28665  0.35386   \n",
      "155            3.006         0.05015                   0.66320  0.47489   \n",
      "156            2.905         0.08658                   0.01530  0.41587   \n",
      "157            2.839         0.06727                   0.20868  0.13995   \n",
      "\n",
      "     Health (Life Expectancy)  Freedom  Trust (Government Corruption)  \\\n",
      "0                     0.94143  0.66557                        0.41978   \n",
      "1                     0.94784  0.62877                        0.14145   \n",
      "2                     0.87464  0.64938                        0.48357   \n",
      "3                     0.88521  0.66973                        0.36503   \n",
      "4                     0.90563  0.63297                        0.32957   \n",
      "..                        ...      ...                            ...   \n",
      "153                   0.42864  0.59201                        0.55191   \n",
      "154                   0.31910  0.48450                        0.08010   \n",
      "155                   0.72193  0.15684                        0.18906   \n",
      "156                   0.22396  0.11850                        0.10062   \n",
      "157                   0.28443  0.36453                        0.10731   \n",
      "\n",
      "     Generosity  Dystopia Residual first_five_letters  \n",
      "0       0.29678            2.51738             Switze  \n",
      "1       0.43630            2.70201             Icelan  \n",
      "2       0.34139            2.49204             Denmar  \n",
      "3       0.34699            2.46531             Norway  \n",
      "4       0.45811            2.45176             Canada  \n",
      "..          ...                ...                ...  \n",
      "153     0.22628            0.67042             Rwanda  \n",
      "154     0.18260            1.63328              Benin  \n",
      "155     0.47179            0.32858              Syria  \n",
      "156     0.19727            1.83302             Burund  \n",
      "157     0.16681            1.56726               Togo  \n",
      "\n",
      "[158 rows x 13 columns]\n"
     ]
    }
   ],
   "source": [
    "df['first_five_letters'] = df['Country'].str[:6]\n",
    "print(df)"
   ]
  },
  {
   "cell_type": "code",
   "execution_count": 24,
   "id": "610c809e",
   "metadata": {},
   "outputs": [
    {
     "name": "stdout",
     "output_type": "stream",
     "text": [
      "pattern is matching\n"
     ]
    }
   ],
   "source": [
    "# question(11)\n",
    "\n",
    "text= 'ThereIsMoreconfusion_123.'\n",
    "\n",
    "pattern = re.compile(r'[a-zA-Z0-9_.]')\n",
    "if pattern.match(text):\n",
    "    print(f'pattern is matching')\n",
    "else:\n",
    "    print(f'pattern does not match')"
   ]
  },
  {
   "cell_type": "code",
   "execution_count": 25,
   "id": "d9994594",
   "metadata": {},
   "outputs": [
    {
     "name": "stdout",
     "output_type": "stream",
     "text": [
      "pattern is matching\n"
     ]
    }
   ],
   "source": [
    "# question (12)\n",
    "\n",
    "text= '123sampletext'\n",
    "\n",
    "pattern = re.compile(r'\\d')\n",
    "if pattern.match(text):\n",
    "    print(f'pattern is matching')\n",
    "else:\n",
    "    print(f'pattern does not match')"
   ]
  },
  {
   "cell_type": "code",
   "execution_count": 26,
   "id": "54fbe472",
   "metadata": {},
   "outputs": [
    {
     "name": "stdout",
     "output_type": "stream",
     "text": [
      "001 0002 0003 0004 00005\n"
     ]
    }
   ],
   "source": [
    "# question (13)\n",
    "\n",
    "IP_address = '001 0002 0003 0004 00005'\n",
    "\n",
    "pattern = re.compile(r'(\\d+)')\n",
    "matches = pattern.sub(r'\\1',IP_address)\n",
    "print(matches)"
   ]
  },
  {
   "cell_type": "code",
   "execution_count": 31,
   "id": "ea9a2fb1",
   "metadata": {},
   "outputs": [
    {
     "name": "stdout",
     "output_type": "stream",
     "text": [
      "August 15th 1947\n"
     ]
    }
   ],
   "source": [
    "# question (14)\n",
    "\n",
    "sample_text = 'on August 15th 1947 that india was declared independent from British colonialism, and the reins of control were handed over to the leaders of the country'\n",
    "\n",
    "pattern = re.compile(r'(january|Ferbuary|March|April|May|June|July|August|September|October|November|December)\\s\\d{1,2}(st|nd|rd|th)?\\s\\d{4}')\n",
    "match = pattern.search(sample_text)\n",
    "matched = match.group()\n",
    "print(matched)\n"
   ]
  },
  {
   "cell_type": "code",
   "execution_count": 32,
   "id": "506073c9",
   "metadata": {},
   "outputs": [
    {
     "name": "stdout",
     "output_type": "stream",
     "text": [
      "['fox', 'dog']\n"
     ]
    }
   ],
   "source": [
    "# question(15)\n",
    "\n",
    "pattern= 'fox|dog|horse'\n",
    "\n",
    "Sample_text= 'The quick brown fox jumps over the lazy dog.'\n",
    "matches = re.findall(pattern,Sample_text)\n",
    "print(matches)"
   ]
  },
  {
   "cell_type": "code",
   "execution_count": 33,
   "id": "4239b6d5",
   "metadata": {},
   "outputs": [
    {
     "name": "stdout",
     "output_type": "stream",
     "text": [
      "<regex.Match object; span=(16, 19), match='fox'>\n"
     ]
    }
   ],
   "source": [
    "# question (16)\n",
    "\n",
    "Sample_text = 'The quick brown fox jumps over the lazy dog.'\n",
    "\n",
    "search = 'fox'\n",
    "matches = re.search(r'\\b'+ search,Sample_text)\n",
    "print(matches)"
   ]
  },
  {
   "cell_type": "code",
   "execution_count": 35,
   "id": "3e1531a8",
   "metadata": {},
   "outputs": [
    {
     "name": "stdout",
     "output_type": "stream",
     "text": [
      "['exercise', 'exercise', 'exercise']\n"
     ]
    }
   ],
   "source": [
    "#question (17)\n",
    "\n",
    "Sample_text='Python exercises, PHP exercises, C# exercises'\n",
    "\n",
    "pattern = re.compile(r'\\bexercise')\n",
    "matches= pattern.findall(Sample_text)\n",
    "print(matches)"
   ]
  },
  {
   "cell_type": "code",
   "execution_count": 50,
   "id": "4d01afa7",
   "metadata": {},
   "outputs": [
    {
     "name": "stdout",
     "output_type": "stream",
     "text": [
      "{'Python': {'occurrence': 2, 'position': 0}, 'programming': {'occurrence': 1, 'position': 20}, 'analysis': {'occurrence': 1, 'position': 111}}\n"
     ]
    }
   ],
   "source": [
    "#question (18)\n",
    "string = 'Python is a popular programming language. Python is used in various applications, such as web devlopment, data analysis, and artificial intelligence.'\n",
    "\n",
    "substrings = ['Python', 'programming', 'analysis']\n",
    "def find(string, substrings):\n",
    "    result = {}\n",
    "    for substring in substrings:\n",
    "        occurrence = string.count(substring)\n",
    "        position = string.find(substring)\n",
    "        result[substring] = {'occurrence': occurrence, 'position': position}\n",
    "    return result\n",
    "print(find(string, substrings))"
   ]
  },
  {
   "cell_type": "code",
   "execution_count": 51,
   "id": "b126960d",
   "metadata": {},
   "outputs": [
    {
     "name": "stdout",
     "output_type": "stream",
     "text": [
      "01-03-2022\n"
     ]
    }
   ],
   "source": [
    "# question (19)\n",
    "\n",
    "date = '2022-03-01'\n",
    "\n",
    "from datetime import datetime\n",
    "x = datetime.strptime(date, '%Y-%m-%d')\n",
    "date = x.strftime('%d-%m-%Y')\n",
    "print(date)"
   ]
  },
  {
   "cell_type": "code",
   "execution_count": 53,
   "id": "3f3c0bfb",
   "metadata": {},
   "outputs": [
    {
     "name": "stdout",
     "output_type": "stream",
     "text": [
      "['01.12', '32.12', '2.31', '45.8', '3.01', '27.25', '0.25']\n"
     ]
    }
   ],
   "source": [
    "# question (20)\n",
    "\n",
    "\n",
    "Sample_Text = '01.12 0132.123 2.31875 145.8 3.01 27.25 0.25'\n",
    "\n",
    "pattern = re.compile(r'\\d{1,2}\\.\\d{1,2}')\n",
    "matches = pattern.findall(Sample_Text)\n",
    "print(matches)"
   ]
  },
  {
   "cell_type": "code",
   "execution_count": 58,
   "id": "d9132a8d",
   "metadata": {},
   "outputs": [
    {
     "name": "stdout",
     "output_type": "stream",
     "text": [
      "Number: 12345, position: 0\n",
      "Number: 678, position: 1\n",
      "Number: 90, position: 2\n"
     ]
    }
   ],
   "source": [
    "# question (21)\n",
    "\n",
    "def find_position(text):\n",
    "    \n",
    "    numbers = re.findall(r'\\d+',text)\n",
    "    \n",
    "    for i, number in enumerate(numbers):\n",
    "        print(f'Number: {number}, position: {i}')\n",
    "    \n",
    "text = 'The quick brown fox jumps over the lazy dog 12345 678 90'\n",
    "find_position(text)"
   ]
  },
  {
   "cell_type": "code",
   "execution_count": 60,
   "id": "062599cc",
   "metadata": {},
   "outputs": [
    {
     "name": "stdout",
     "output_type": "stream",
     "text": [
      "950\n"
     ]
    }
   ],
   "source": [
    "# question (22)\n",
    "\n",
    "def max_value(text):\n",
    "    \n",
    "    pattern = re.compile(r'\\d+')\n",
    "    numeric_values = pattern.findall(text)\n",
    "    max_value = max(int(value) for value in numeric_values)\n",
    "    return max_value\n",
    "\n",
    "text = 'My marks in each semester are: 947, 896, 926, 524, 734, 950, 642'\n",
    "value = max_value(text)\n",
    "print(value)"
   ]
  },
  {
   "cell_type": "code",
   "execution_count": 61,
   "id": "9ab98687",
   "metadata": {},
   "outputs": [
    {
     "name": "stdout",
     "output_type": "stream",
     "text": [
      "Regular Expression Is An Important Topic In Python\n"
     ]
    }
   ],
   "source": [
    "# quesion (23)\n",
    "\n",
    "text=  'RegularExpressionIsAnImportantTopicInPython'\n",
    "\n",
    "pattern = re.findall(r'[A-Z][^A-Z]*',text)\n",
    "matches = ' '.join(pattern)\n",
    "print(matches)"
   ]
  },
  {
   "cell_type": "code",
   "execution_count": 62,
   "id": "ded49b96",
   "metadata": {},
   "outputs": [
    {
     "name": "stdout",
     "output_type": "stream",
     "text": [
      "['The', 'Person', 'Who', 'Is', 'There', 'He', 'Is', 'Very', 'Hardworking']\n"
     ]
    }
   ],
   "source": [
    "# question (24)\n",
    "\n",
    "text= 'The Person Who Is sitting There, He Is Very Hardworking'\n",
    "\n",
    "pattern=r'[A-Z][a-z]*'\n",
    "matches = re.findall(pattern,text)\n",
    "print(matches)"
   ]
  },
  {
   "cell_type": "code",
   "execution_count": 3,
   "id": "3e0923e2",
   "metadata": {},
   "outputs": [
    {
     "name": "stdout",
     "output_type": "stream",
     "text": [
      "Hello hello world\n"
     ]
    }
   ],
   "source": [
    "# question (25)\n",
    "\n",
    "sample_text = 'Hello hello world world'\n",
    "\n",
    "pattern = r'(\\w+)\\s\\1'\n",
    "matches = re.sub(pattern,r'\\1', sample_text)\n",
    "print(matches)"
   ]
  },
  {
   "cell_type": "code",
   "execution_count": 5,
   "id": "3fb26047",
   "metadata": {},
   "outputs": [
    {
     "name": "stdout",
     "output_type": "stream",
     "text": [
      "Match the pattern\n"
     ]
    }
   ],
   "source": [
    "# question (26)\n",
    "\n",
    "x = 'Maharashtra2005'\n",
    "\n",
    "pattern = r'^\\w+$'\n",
    "if re.match(pattern,x):\n",
    "    print(f'Match the pattern')\n",
    "else:\n",
    "    print(f'pattern does not match')"
   ]
  },
  {
   "cell_type": "code",
   "execution_count": 6,
   "id": "ca52cc37",
   "metadata": {},
   "outputs": [
    {
     "name": "stdout",
     "output_type": "stream",
     "text": [
      "['#Doltiwal', '#xyzabc', '#Demonitization']\n"
     ]
    }
   ],
   "source": [
    "# question (27)\n",
    "\n",
    "Sample_Text='''RT @kapil_kausik: #Doltiwal I mean #xyzabc is 'hurt'by #Demonitization as the same has rendered USELESS <ed><U+00A0><U+00BD><ed><U+00B1><U+0089> 'acquired funds' No wo'''\n",
    "\n",
    "pattern = re.compile(r'#\\w+')\n",
    "matches = pattern.findall(Sample_Text)\n",
    "print(matches)\n"
   ]
  },
  {
   "cell_type": "code",
   "execution_count": 8,
   "id": "190f487a",
   "metadata": {},
   "outputs": [
    {
     "name": "stdout",
     "output_type": "stream",
     "text": [
      "@Jags123456 Bharat band on 28??<ed><U+00A0><U+00BD><ed><U+00B8> Those who are protesting #demonitization are all different party leaders\n"
     ]
    }
   ],
   "source": [
    "# question (28)\n",
    "\n",
    "Sample_Text =\"@Jags123456 Bharat band on 28??<ed><U+00A0><U+00BD><ed><U+00B8><U+0082> Those who are protesting #demonitization are all different party leaders\"\n",
    "\n",
    "pattern = r'<U\\+\\d{4}?>'\n",
    "matches = re.sub(pattern,\"\",Sample_Text)\n",
    "print(matches)"
   ]
  },
  {
   "cell_type": "code",
   "execution_count": 17,
   "id": "f204fc99",
   "metadata": {},
   "outputs": [
    {
     "ename": "SyntaxError",
     "evalue": "(unicode error) 'unicodeescape' codec can't decode bytes in position 2-3: truncated \\UXXXXXXXX escape (1987888701.py, line 3)",
     "output_type": "error",
     "traceback": [
      "\u001b[1;36m  Cell \u001b[1;32mIn[17], line 3\u001b[1;36m\u001b[0m\n\u001b[1;33m    open('C:\\Users\\Tushar kagade\\Documents' 'text_file.txt' 'r') as f:\u001b[0m\n\u001b[1;37m                                                               ^\u001b[0m\n\u001b[1;31mSyntaxError\u001b[0m\u001b[1;31m:\u001b[0m (unicode error) 'unicodeescape' codec can't decode bytes in position 2-3: truncated \\UXXXXXXXX escape\n"
     ]
    }
   ],
   "source": [
    "# question (29)\n",
    "\n",
    "open('C:\\Users\\Tushar kagade\\Documents' 'text_file.txt' 'r') as f:\n",
    "    text = f.read()\n",
    "    \n",
    "pattern = r'(\\d{2}-\\d{2}-\\d{4})'\n",
    "matches = re.findall(pattern,text)\n",
    "print(matches)"
   ]
  },
  {
   "cell_type": "code",
   "execution_count": 3,
   "id": "f7c07c52",
   "metadata": {},
   "outputs": [
    {
     "name": "stdout",
     "output_type": "stream",
     "text": [
      " following example creates  ArrayList  a capacity   elements. 4 elements   added   ArrayList   Arraylist  trimmed accordingly.\n"
     ]
    }
   ],
   "source": [
    "# question (30)\n",
    "\n",
    "Sample_Text = 'The following example creates an ArrayList with a capacity of 50 elements. 4 elements are then added to the ArrayList and the Arraylist is trimmed accordingly.'\n",
    "\n",
    "pattern = re.compile(r'\\b\\w{2,4}\\b')\n",
    "matches = pattern.sub('',Sample_Text)\n",
    "print(matches)"
   ]
  },
  {
   "cell_type": "code",
   "execution_count": null,
   "id": "d9c44347",
   "metadata": {},
   "outputs": [],
   "source": []
  },
  {
   "cell_type": "code",
   "execution_count": null,
   "id": "57fb7eae",
   "metadata": {},
   "outputs": [],
   "source": []
  },
  {
   "cell_type": "code",
   "execution_count": null,
   "id": "d2f7fa50",
   "metadata": {},
   "outputs": [],
   "source": []
  },
  {
   "cell_type": "code",
   "execution_count": null,
   "id": "b25d8519",
   "metadata": {},
   "outputs": [],
   "source": []
  },
  {
   "cell_type": "code",
   "execution_count": null,
   "id": "e3986f23",
   "metadata": {},
   "outputs": [],
   "source": []
  }
 ],
 "metadata": {
  "kernelspec": {
   "display_name": "Python 3 (ipykernel)",
   "language": "python",
   "name": "python3"
  },
  "language_info": {
   "codemirror_mode": {
    "name": "ipython",
    "version": 3
   },
   "file_extension": ".py",
   "mimetype": "text/x-python",
   "name": "python",
   "nbconvert_exporter": "python",
   "pygments_lexer": "ipython3",
   "version": "3.11.4"
  }
 },
 "nbformat": 4,
 "nbformat_minor": 5
}
