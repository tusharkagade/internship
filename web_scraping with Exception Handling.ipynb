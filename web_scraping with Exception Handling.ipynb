{
 "cells": [
  {
   "cell_type": "markdown",
   "id": "3e9afe8d",
   "metadata": {},
   "source": [
    "# 1.Write a python program which searches all the product under a particular product from www.amazon.in. The product to be searched will be taken as input from user. For e.g. If user input is ‘guitar’. Then search for guitars."
   ]
  },
  {
   "cell_type": "code",
   "execution_count": 10,
   "id": "fcffc669",
   "metadata": {},
   "outputs": [
    {
     "name": "stdout",
     "output_type": "stream",
     "text": [
      "Requirement already satisfied: selenium in c:\\users\\ashish patel\\anaconda3\\lib\\site-packages (4.19.0)\n",
      "Requirement already satisfied: urllib3[socks]<3,>=1.26 in c:\\users\\ashish patel\\anaconda3\\lib\\site-packages (from selenium) (1.26.16)\n",
      "Requirement already satisfied: trio~=0.17 in c:\\users\\ashish patel\\anaconda3\\lib\\site-packages (from selenium) (0.25.0)\n",
      "Requirement already satisfied: trio-websocket~=0.9 in c:\\users\\ashish patel\\anaconda3\\lib\\site-packages (from selenium) (0.11.1)\n",
      "Requirement already satisfied: certifi>=2021.10.8 in c:\\users\\ashish patel\\anaconda3\\lib\\site-packages (from selenium) (2023.7.22)\n",
      "Requirement already satisfied: typing_extensions>=4.9.0 in c:\\users\\ashish patel\\anaconda3\\lib\\site-packages (from selenium) (4.10.0)\n",
      "Requirement already satisfied: attrs>=23.2.0 in c:\\users\\ashish patel\\anaconda3\\lib\\site-packages (from trio~=0.17->selenium) (23.2.0)\n",
      "Requirement already satisfied: sortedcontainers in c:\\users\\ashish patel\\anaconda3\\lib\\site-packages (from trio~=0.17->selenium) (2.4.0)\n",
      "Requirement already satisfied: idna in c:\\users\\ashish patel\\anaconda3\\lib\\site-packages (from trio~=0.17->selenium) (3.4)\n",
      "Requirement already satisfied: outcome in c:\\users\\ashish patel\\anaconda3\\lib\\site-packages (from trio~=0.17->selenium) (1.3.0.post0)\n",
      "Requirement already satisfied: sniffio>=1.3.0 in c:\\users\\ashish patel\\anaconda3\\lib\\site-packages (from trio~=0.17->selenium) (1.3.1)\n",
      "Requirement already satisfied: cffi>=1.14 in c:\\users\\ashish patel\\anaconda3\\lib\\site-packages (from trio~=0.17->selenium) (1.15.1)\n",
      "Requirement already satisfied: wsproto>=0.14 in c:\\users\\ashish patel\\anaconda3\\lib\\site-packages (from trio-websocket~=0.9->selenium) (1.2.0)\n",
      "Requirement already satisfied: PySocks!=1.5.7,<2.0,>=1.5.6 in c:\\users\\ashish patel\\anaconda3\\lib\\site-packages (from urllib3[socks]<3,>=1.26->selenium) (1.7.1)\n",
      "Requirement already satisfied: pycparser in c:\\users\\ashish patel\\anaconda3\\lib\\site-packages (from cffi>=1.14->trio~=0.17->selenium) (2.21)\n",
      "Requirement already satisfied: h11<1,>=0.9.0 in c:\\users\\ashish patel\\anaconda3\\lib\\site-packages (from wsproto>=0.14->trio-websocket~=0.9->selenium) (0.14.0)\n"
     ]
    }
   ],
   "source": [
    "! pip install selenium"
   ]
  },
  {
   "cell_type": "code",
   "execution_count": 11,
   "id": "ede4d389",
   "metadata": {},
   "outputs": [],
   "source": [
    "import selenium \n",
    "import pandas as pd\n",
    "import time\n",
    "from bs4 import BeautifulSoup\n",
    "from selenium import webdriver\n",
    "from selenium.common.exceptions import StaleElementReferenceException, NoSuchElementException\n",
    "import requests\n",
    "from selenium.webdriver.common.by import By\n",
    "import warnings\n",
    "warnings.filterwarnings('ignore')"
   ]
  },
  {
   "cell_type": "code",
   "execution_count": 12,
   "id": "02d632cc",
   "metadata": {},
   "outputs": [],
   "source": [
    "driver = webdriver.Chrome()"
   ]
  },
  {
   "cell_type": "code",
   "execution_count": 13,
   "id": "6e9bbd49",
   "metadata": {},
   "outputs": [],
   "source": [
    "driver.get('https://www.amazon.in/')"
   ]
  },
  {
   "cell_type": "code",
   "execution_count": 14,
   "id": "cac5fda2",
   "metadata": {},
   "outputs": [],
   "source": [
    "input=driver.find_element(By.XPATH,'//div[@class=\"nav-search-field \"]//input')\n",
    "input.send_keys(\"guitar\")"
   ]
  },
  {
   "cell_type": "code",
   "execution_count": null,
   "id": "20540b63",
   "metadata": {},
   "outputs": [],
   "source": []
  },
  {
   "cell_type": "code",
   "execution_count": null,
   "id": "9c86b982",
   "metadata": {},
   "outputs": [],
   "source": []
  },
  {
   "cell_type": "markdown",
   "id": "a963f297",
   "metadata": {},
   "source": [
    "# 2. In the above question, now scrape the following details of each product listed in first 3 pages of your search results and save it in a data frame and csv. In case if any product has less than 3 pages in search results then scrape all the products available under that product name. Details to be scraped are: \"Brand  Name\", \"Name of the Product\", \"Price\", \"Return/Exchange\", \"Expected Delivery\", \"Availability\" and  “Product URL”. In case, if any of the details are missing for any of the product then replace it by “-“."
   ]
  },
  {
   "cell_type": "code",
   "execution_count": 183,
   "id": "2b7062a3",
   "metadata": {},
   "outputs": [],
   "source": [
    "import selenium \n",
    "import pandas as pd\n",
    "import time\n",
    "from bs4 import BeautifulSoup\n",
    "from selenium import webdriver\n",
    "from selenium.common.exceptions import StaleElementReferenceException, NoSuchElementException\n",
    "import requests\n",
    "from selenium.webdriver.common.by import By\n",
    "import warnings\n",
    "warnings.filterwarnings('ignore')"
   ]
  },
  {
   "cell_type": "code",
   "execution_count": 184,
   "id": "2265473c",
   "metadata": {},
   "outputs": [],
   "source": [
    "driver=webdriver.Chrome()"
   ]
  },
  {
   "cell_type": "code",
   "execution_count": 185,
   "id": "a322a5a3",
   "metadata": {},
   "outputs": [],
   "source": [
    "driver.get('https://www.amazon.in/')"
   ]
  },
  {
   "cell_type": "code",
   "execution_count": 186,
   "id": "fc3d093f",
   "metadata": {},
   "outputs": [],
   "source": [
    "input=driver.find_element(By.XPATH,'//div[@class=\"nav-search-field \"]//input')\n",
    "input.send_keys(\"guitars\")"
   ]
  },
  {
   "cell_type": "code",
   "execution_count": 187,
   "id": "b1d5e6ec",
   "metadata": {},
   "outputs": [],
   "source": [
    "search=driver.find_element(By.XPATH,'//div[@class=\"nav-search-submit nav-sprite\"]/span')\n",
    "search.click()"
   ]
  },
  {
   "cell_type": "code",
   "execution_count": 189,
   "id": "59e80e8c",
   "metadata": {},
   "outputs": [],
   "source": [
    "product_url = []\n",
    "start=0\n",
    "end=3\n",
    "for page in range(start,end):\n",
    "    url=driver.find_elements(By.XPATH,'//div[@class=\"a-section aok-relative s-image-square-aspect\"]')\n",
    "    for i in url:\n",
    "        product_url.append(i.get_attribute(\"href\"))\n",
    "    next_button=driver.find_element(By.XPATH,'//a[@class=\"s-pagination-item s-pagination-next s-pagination-button s-pagination-separator\"]')\n",
    "    next_button.click()\n",
    "    time.sleep(2)"
   ]
  },
  {
   "cell_type": "code",
   "execution_count": 190,
   "id": "3f8871ce",
   "metadata": {},
   "outputs": [
    {
     "data": {
      "text/plain": [
       "157"
      ]
     },
     "execution_count": 190,
     "metadata": {},
     "output_type": "execute_result"
    }
   ],
   "source": [
    "len(product_url)"
   ]
  },
  {
   "cell_type": "code",
   "execution_count": 201,
   "id": "47f2d889",
   "metadata": {},
   "outputs": [],
   "source": [
    "Brand = []\n",
    "Product=[]\n",
    "Price=[]\n",
    "Return=[]\n",
    "Delivery=[]\n",
    "\n",
    "\n",
    "for url in product_url:\n",
    "    \n",
    "    \n",
    "    try:\n",
    "        brand=driver.find_element(By.XPATH,'//span[@class=\"a-size-base-plus a-color-base a-text-normal\"]')\n",
    "        Brand.append(brand.text)\n",
    "    except NoSuchElementExcept:\n",
    "        Brand.append('-')\n",
    "        \n",
    "        \n",
    "    try:\n",
    "        product=driver.find_element(By.XPATH,'//h2[@class=\"a-size-mini a-spacing-none a-color-base s-line-clamp-4\"]')\n",
    "        Product.append(product.text)\n",
    "    except NoSuchElementExcept:\n",
    "        Product.append('-')\n",
    "        \n",
    "        \n",
    "    try:\n",
    "        price=driver.find_element(By.XPATH,'//span[@class=\"a-price-whole\"]')\n",
    "        Price.append(price.text)\n",
    "    except NoSuchElementExcept:\n",
    "        Price.append('-')\n",
    "        "
   ]
  },
  {
   "cell_type": "code",
   "execution_count": 202,
   "id": "5c27f272",
   "metadata": {},
   "outputs": [
    {
     "name": "stdout",
     "output_type": "stream",
     "text": [
      "157 157 157\n"
     ]
    }
   ],
   "source": [
    "print(len(Brand),len(Product),len(Price))"
   ]
  },
  {
   "cell_type": "code",
   "execution_count": 203,
   "id": "b0206ffe",
   "metadata": {},
   "outputs": [
    {
     "data": {
      "text/html": [
       "<div>\n",
       "<style scoped>\n",
       "    .dataframe tbody tr th:only-of-type {\n",
       "        vertical-align: middle;\n",
       "    }\n",
       "\n",
       "    .dataframe tbody tr th {\n",
       "        vertical-align: top;\n",
       "    }\n",
       "\n",
       "    .dataframe thead th {\n",
       "        text-align: right;\n",
       "    }\n",
       "</style>\n",
       "<table border=\"1\" class=\"dataframe\">\n",
       "  <thead>\n",
       "    <tr style=\"text-align: right;\">\n",
       "      <th></th>\n",
       "      <th>brand</th>\n",
       "      <th>product</th>\n",
       "      <th>price</th>\n",
       "    </tr>\n",
       "  </thead>\n",
       "  <tbody>\n",
       "    <tr>\n",
       "      <th>0</th>\n",
       "      <td>Henrix 38C 38 Inch Cutaway Acoustic Guitar Wit...</td>\n",
       "      <td>Henrix 38C 38 Inch Cutaway Acoustic Guitar Wit...</td>\n",
       "      <td>3,099</td>\n",
       "    </tr>\n",
       "    <tr>\n",
       "      <th>1</th>\n",
       "      <td>Henrix 38C 38 Inch Cutaway Acoustic Guitar Wit...</td>\n",
       "      <td>Henrix 38C 38 Inch Cutaway Acoustic Guitar Wit...</td>\n",
       "      <td>3,099</td>\n",
       "    </tr>\n",
       "    <tr>\n",
       "      <th>2</th>\n",
       "      <td>Henrix 38C 38 Inch Cutaway Acoustic Guitar Wit...</td>\n",
       "      <td>Henrix 38C 38 Inch Cutaway Acoustic Guitar Wit...</td>\n",
       "      <td>3,099</td>\n",
       "    </tr>\n",
       "    <tr>\n",
       "      <th>3</th>\n",
       "      <td>Henrix 38C 38 Inch Cutaway Acoustic Guitar Wit...</td>\n",
       "      <td>Henrix 38C 38 Inch Cutaway Acoustic Guitar Wit...</td>\n",
       "      <td>3,099</td>\n",
       "    </tr>\n",
       "    <tr>\n",
       "      <th>4</th>\n",
       "      <td>Henrix 38C 38 Inch Cutaway Acoustic Guitar Wit...</td>\n",
       "      <td>Henrix 38C 38 Inch Cutaway Acoustic Guitar Wit...</td>\n",
       "      <td>3,099</td>\n",
       "    </tr>\n",
       "    <tr>\n",
       "      <th>...</th>\n",
       "      <td>...</td>\n",
       "      <td>...</td>\n",
       "      <td>...</td>\n",
       "    </tr>\n",
       "    <tr>\n",
       "      <th>152</th>\n",
       "      <td>Henrix 38C 38 Inch Cutaway Acoustic Guitar Wit...</td>\n",
       "      <td>Henrix 38C 38 Inch Cutaway Acoustic Guitar Wit...</td>\n",
       "      <td>3,099</td>\n",
       "    </tr>\n",
       "    <tr>\n",
       "      <th>153</th>\n",
       "      <td>Henrix 38C 38 Inch Cutaway Acoustic Guitar Wit...</td>\n",
       "      <td>Henrix 38C 38 Inch Cutaway Acoustic Guitar Wit...</td>\n",
       "      <td>3,099</td>\n",
       "    </tr>\n",
       "    <tr>\n",
       "      <th>154</th>\n",
       "      <td>Henrix 38C 38 Inch Cutaway Acoustic Guitar Wit...</td>\n",
       "      <td>Henrix 38C 38 Inch Cutaway Acoustic Guitar Wit...</td>\n",
       "      <td>3,099</td>\n",
       "    </tr>\n",
       "    <tr>\n",
       "      <th>155</th>\n",
       "      <td>Henrix 38C 38 Inch Cutaway Acoustic Guitar Wit...</td>\n",
       "      <td>Henrix 38C 38 Inch Cutaway Acoustic Guitar Wit...</td>\n",
       "      <td>3,099</td>\n",
       "    </tr>\n",
       "    <tr>\n",
       "      <th>156</th>\n",
       "      <td>Henrix 38C 38 Inch Cutaway Acoustic Guitar Wit...</td>\n",
       "      <td>Henrix 38C 38 Inch Cutaway Acoustic Guitar Wit...</td>\n",
       "      <td>3,099</td>\n",
       "    </tr>\n",
       "  </tbody>\n",
       "</table>\n",
       "<p>157 rows × 3 columns</p>\n",
       "</div>"
      ],
      "text/plain": [
       "                                                 brand  \\\n",
       "0    Henrix 38C 38 Inch Cutaway Acoustic Guitar Wit...   \n",
       "1    Henrix 38C 38 Inch Cutaway Acoustic Guitar Wit...   \n",
       "2    Henrix 38C 38 Inch Cutaway Acoustic Guitar Wit...   \n",
       "3    Henrix 38C 38 Inch Cutaway Acoustic Guitar Wit...   \n",
       "4    Henrix 38C 38 Inch Cutaway Acoustic Guitar Wit...   \n",
       "..                                                 ...   \n",
       "152  Henrix 38C 38 Inch Cutaway Acoustic Guitar Wit...   \n",
       "153  Henrix 38C 38 Inch Cutaway Acoustic Guitar Wit...   \n",
       "154  Henrix 38C 38 Inch Cutaway Acoustic Guitar Wit...   \n",
       "155  Henrix 38C 38 Inch Cutaway Acoustic Guitar Wit...   \n",
       "156  Henrix 38C 38 Inch Cutaway Acoustic Guitar Wit...   \n",
       "\n",
       "                                               product  price  \n",
       "0    Henrix 38C 38 Inch Cutaway Acoustic Guitar Wit...  3,099  \n",
       "1    Henrix 38C 38 Inch Cutaway Acoustic Guitar Wit...  3,099  \n",
       "2    Henrix 38C 38 Inch Cutaway Acoustic Guitar Wit...  3,099  \n",
       "3    Henrix 38C 38 Inch Cutaway Acoustic Guitar Wit...  3,099  \n",
       "4    Henrix 38C 38 Inch Cutaway Acoustic Guitar Wit...  3,099  \n",
       "..                                                 ...    ...  \n",
       "152  Henrix 38C 38 Inch Cutaway Acoustic Guitar Wit...  3,099  \n",
       "153  Henrix 38C 38 Inch Cutaway Acoustic Guitar Wit...  3,099  \n",
       "154  Henrix 38C 38 Inch Cutaway Acoustic Guitar Wit...  3,099  \n",
       "155  Henrix 38C 38 Inch Cutaway Acoustic Guitar Wit...  3,099  \n",
       "156  Henrix 38C 38 Inch Cutaway Acoustic Guitar Wit...  3,099  \n",
       "\n",
       "[157 rows x 3 columns]"
      ]
     },
     "execution_count": 203,
     "metadata": {},
     "output_type": "execute_result"
    }
   ],
   "source": [
    "df=pd.DataFrame({'brand':Brand,'product':Product,'price':Price})\n",
    "df"
   ]
  },
  {
   "cell_type": "code",
   "execution_count": null,
   "id": "25a0bf2c",
   "metadata": {},
   "outputs": [],
   "source": []
  },
  {
   "cell_type": "code",
   "execution_count": null,
   "id": "1a2d4322",
   "metadata": {},
   "outputs": [],
   "source": []
  },
  {
   "cell_type": "markdown",
   "id": "73ebb6a4",
   "metadata": {},
   "source": [
    "# 3. Write a python program to access the search bar and search button on images.google.com and scrape 10 images each for keywords ‘fruits’, ‘cars’ and ‘Machine Learning’, ‘Guitar’, ‘Cakes’."
   ]
  },
  {
   "cell_type": "code",
   "execution_count": 204,
   "id": "21ad6067",
   "metadata": {},
   "outputs": [],
   "source": [
    "import selenium \n",
    "import pandas as pd\n",
    "import time\n",
    "from bs4 import BeautifulSoup\n",
    "from selenium import webdriver\n",
    "from selenium.common.exceptions import StaleElementReferenceException, NoSuchElementException\n",
    "import requests\n",
    "from selenium.webdriver.common.by import By\n",
    "import warnings\n",
    "warnings.filterwarnings('ignore')"
   ]
  },
  {
   "cell_type": "code",
   "execution_count": 205,
   "id": "c0d4d175",
   "metadata": {},
   "outputs": [],
   "source": [
    "driver = webdriver.Chrome()"
   ]
  },
  {
   "cell_type": "code",
   "execution_count": 206,
   "id": "118ff26e",
   "metadata": {},
   "outputs": [],
   "source": [
    "driver.get('https://images.google.com/')"
   ]
  },
  {
   "cell_type": "code",
   "execution_count": 207,
   "id": "eac44a20",
   "metadata": {},
   "outputs": [],
   "source": [
    "search_bar = driver.find_element(By.CLASS_NAME,\"gLFyf\")\n",
    "search_bar.send_keys(\"cakes\")"
   ]
  },
  {
   "cell_type": "code",
   "execution_count": 209,
   "id": "ae080063",
   "metadata": {},
   "outputs": [],
   "source": [
    "search = driver.find_element(By.XPATH,'/html/body/div[1]/div[3]/form/div[1]/div[1]/div[1]/button/div/span')\n",
    "search.click()"
   ]
  },
  {
   "cell_type": "code",
   "execution_count": 210,
   "id": "afa5c038",
   "metadata": {},
   "outputs": [],
   "source": [
    "for _ in range(5):\n",
    "    driver.execute_script(\"window.scrollBy(0,200)\")\n",
    "    \n",
    "    \n",
    "img_urls = []\n",
    "images = driver.find_elements(By.XPATH,'//div[@class=\"zoom-slide zoom-active\"]')\n",
    "for image in images:\n",
    "    source=image.get_attribute('src')\n",
    "    if source is not None:\n",
    "        if (source[0:4] == 'http'):\n",
    "            img_urls.append(source)\n",
    "            \n",
    "            \n",
    "for i in range (len(img_urls)):\n",
    "    if i >10:\n",
    "        break"
   ]
  },
  {
   "cell_type": "code",
   "execution_count": 211,
   "id": "b63aadff",
   "metadata": {},
   "outputs": [
    {
     "data": {
      "text/plain": [
       "0"
      ]
     },
     "execution_count": 211,
     "metadata": {},
     "output_type": "execute_result"
    }
   ],
   "source": [
    "len(img_urls)"
   ]
  },
  {
   "cell_type": "code",
   "execution_count": null,
   "id": "36d46547",
   "metadata": {},
   "outputs": [],
   "source": []
  },
  {
   "cell_type": "markdown",
   "id": "bc5b8167",
   "metadata": {},
   "source": [
    "# 4. Write a python program to search for a smartphone(e.g.: Oneplus Nord pixel 4A, etc.) on www.flipkart.com and scrape following details for all the search results displayed on 1st page. Details to be scraped: “Brand Name”, “Smartphone name”, “Colour”, “RAM”, “Storage(ROM)”, “Primary Camera”,  “Secondary Camera”, “Display Size”, “Battery Capacity”, “Price”, “Product URL”. Incase if any of the details is missing then replace it by “- “. Save your results in a dataframe and CSV."
   ]
  },
  {
   "cell_type": "code",
   "execution_count": 212,
   "id": "d4a8caa8",
   "metadata": {},
   "outputs": [],
   "source": [
    "import selenium \n",
    "import pandas as pd\n",
    "import time\n",
    "from bs4 import BeautifulSoup\n",
    "from selenium import webdriver\n",
    "from selenium.common.exceptions import StaleElementReferenceException, NoSuchElementException\n",
    "import requests\n",
    "from selenium.webdriver.common.by import By\n",
    "import warnings\n",
    "warnings.filterwarnings('ignore')"
   ]
  },
  {
   "cell_type": "code",
   "execution_count": 213,
   "id": "16f233ee",
   "metadata": {},
   "outputs": [],
   "source": [
    "driver = webdriver.Chrome()"
   ]
  },
  {
   "cell_type": "code",
   "execution_count": 214,
   "id": "7830b40e",
   "metadata": {},
   "outputs": [],
   "source": [
    "driver.get('https://www.flipkart.com/')"
   ]
  },
  {
   "cell_type": "code",
   "execution_count": 215,
   "id": "13295ac1",
   "metadata": {},
   "outputs": [],
   "source": [
    "product=driver.find_element(By.CLASS_NAME,\"Pke_EE\")\n",
    "product.send_keys(\"Oneplus Nord pixel 4A\")"
   ]
  },
  {
   "cell_type": "code",
   "execution_count": 216,
   "id": "580a3e7a",
   "metadata": {},
   "outputs": [],
   "source": [
    "search=driver.find_element(By.XPATH,'/html/body/div[1]/div/div[1]/div/div/div/div/div[1]/div/div[1]/div/div[1]/div[1]/header/div[1]/div[2]/form/div/button')\n",
    "search.click()"
   ]
  },
  {
   "cell_type": "code",
   "execution_count": 217,
   "id": "b8310db3",
   "metadata": {},
   "outputs": [],
   "source": [
    "Brand_Name = []\n",
    "start=0\n",
    "end = 1\n",
    "\n",
    "for page in range(start,end):\n",
    "    url = driver.find_elements(By.XPATH,'//div[@class=\"KzDlHZ\"]')\n",
    "    for i in url:\n",
    "        Brand_Name.append(i.get_attribute('href'))   \n",
    "        \n",
    "        "
   ]
  },
  {
   "cell_type": "code",
   "execution_count": 221,
   "id": "f3fcf1af",
   "metadata": {},
   "outputs": [
    {
     "data": {
      "text/plain": [
       "10"
      ]
     },
     "execution_count": 221,
     "metadata": {},
     "output_type": "execute_result"
    }
   ],
   "source": [
    "len(Brand_Name)"
   ]
  },
  {
   "cell_type": "code",
   "execution_count": 224,
   "id": "d9d293f5",
   "metadata": {},
   "outputs": [],
   "source": [
    "Brand_Name=[]\n",
    "Phone_Name=[]\n",
    "Colour=[]\n",
    "Ram=[]\n",
    "Rom=[]\n",
    "Primary_Camera=[]\n",
    "Secondary_Camera=[]\n",
    "Battery_Capacity=[]\n",
    "Price=[]"
   ]
  },
  {
   "cell_type": "code",
   "execution_count": 226,
   "id": "b9c12e54",
   "metadata": {},
   "outputs": [],
   "source": [
    "brand_name_tags=driver.find_elements(By.XPATH,'//div[@class=\"KzDlHZ\"]')\n",
    "for i in brand_name_tags:\n",
    "    brand_name_title=i.text\n",
    "    Brand_Name.append(brand_name_title)\n",
    "    \n",
    "phone_name_tags=driver.find_elements(By.XPATH,'//div[@class=\"KzDlHZ\"]')\n",
    "for i in phone_name_tags:\n",
    "    phone_name_title=i.text\n",
    "    Phone_Name.append(phone_name_title)\n",
    "    \n",
    "colour_tags=driver.find_elements(By.XPATH,'//div[@class=\"KzDlHZ\"]')\n",
    "for i in colour_tags:\n",
    "    colour_title=i.text\n",
    "    Colour.append(colour_title)\n",
    "    \n",
    "ram_tags=driver.find_elements(By.XPATH,'//li[@class=\"J+igdf\"]')\n",
    "for i in ram_tags:\n",
    "    ram_title=i.text\n",
    "    Ram.append(ram_title)\n",
    "    \n",
    "rom_tags=driver.find_elements(By.XPATH,'//li[@class=\"J+igdf\"]')\n",
    "for i in rom_tags:\n",
    "    rom_title=i.text\n",
    "    Rom.append(rom_title)\n",
    "    \n",
    "pc_tags=driver.find_elements(By.XPATH,'//li[@class=\"J+igdf\"]')\n",
    "for i in pc_tags:\n",
    "    pc_title=i.text\n",
    "    Primary_Camera.append(pc_title)\n",
    "    \n",
    "sc_tags=driver.find_elements(By.XPATH,'//li[@class=\"J+igdf\"]')\n",
    "for i in sc_tags:\n",
    "    sc_title=i.text\n",
    "    Secondary_Camera.append(sc_title)\n",
    "                       \n",
    "battery_tags=driver.find_elements(By.XPATH,'//li[@class=\"J+igdf\"]')\n",
    "for i in battery_tags:\n",
    "    battery_title=i.text\n",
    "    Battery_Capacity.append(battery_title)\n",
    "                       \n",
    "price_tags=driver.find_elements(By.XPATH,'//div[@class=\"Nx9bqj _4b5DiR\"]')\n",
    "for i in price_tags:\n",
    "    price_title=i.text\n",
    "    Price.append(price_title)\n"
   ]
  },
  {
   "cell_type": "code",
   "execution_count": 227,
   "id": "8d0ec2f9",
   "metadata": {},
   "outputs": [
    {
     "name": "stdout",
     "output_type": "stream",
     "text": [
      "20 20 20 56 56 56 56 56 10\n"
     ]
    }
   ],
   "source": [
    "print(len(Brand_Name),len(Phone_Name),len(Colour),len(Ram),len(Rom),len(Primary_Camera),len(Secondary_Camera),len(Battery_Capacity),len(Price))"
   ]
  },
  {
   "cell_type": "code",
   "execution_count": 228,
   "id": "a8509571",
   "metadata": {},
   "outputs": [
    {
     "data": {
      "text/html": [
       "<div>\n",
       "<style scoped>\n",
       "    .dataframe tbody tr th:only-of-type {\n",
       "        vertical-align: middle;\n",
       "    }\n",
       "\n",
       "    .dataframe tbody tr th {\n",
       "        vertical-align: top;\n",
       "    }\n",
       "\n",
       "    .dataframe thead th {\n",
       "        text-align: right;\n",
       "    }\n",
       "</style>\n",
       "<table border=\"1\" class=\"dataframe\">\n",
       "  <thead>\n",
       "    <tr style=\"text-align: right;\">\n",
       "      <th></th>\n",
       "      <th>Brand_Name</th>\n",
       "      <th>Phone_Name</th>\n",
       "      <th>Colour</th>\n",
       "    </tr>\n",
       "  </thead>\n",
       "  <tbody>\n",
       "    <tr>\n",
       "      <th>0</th>\n",
       "      <td>OnePlus Nord CE 2 5G (Gray Mirror, 128 GB)</td>\n",
       "      <td>OnePlus Nord CE 2 5G (Gray Mirror, 128 GB)</td>\n",
       "      <td>OnePlus Nord CE 2 5G (Gray Mirror, 128 GB)</td>\n",
       "    </tr>\n",
       "    <tr>\n",
       "      <th>1</th>\n",
       "      <td>OnePlus Nord CE 2 5G (Bahama Blue, 128 GB)</td>\n",
       "      <td>OnePlus Nord CE 2 5G (Bahama Blue, 128 GB)</td>\n",
       "      <td>OnePlus Nord CE 2 5G (Bahama Blue, 128 GB)</td>\n",
       "    </tr>\n",
       "    <tr>\n",
       "      <th>2</th>\n",
       "      <td>OnePlus Nord (Gray Onyx, 128 GB)</td>\n",
       "      <td>OnePlus Nord (Gray Onyx, 128 GB)</td>\n",
       "      <td>OnePlus Nord (Gray Onyx, 128 GB)</td>\n",
       "    </tr>\n",
       "    <tr>\n",
       "      <th>3</th>\n",
       "      <td>OnePlus Nord (Blue Marble, 128 GB)</td>\n",
       "      <td>OnePlus Nord (Blue Marble, 128 GB)</td>\n",
       "      <td>OnePlus Nord (Blue Marble, 128 GB)</td>\n",
       "    </tr>\n",
       "    <tr>\n",
       "      <th>4</th>\n",
       "      <td>OnePlus Nord (Blue Marble, 256 GB)</td>\n",
       "      <td>OnePlus Nord (Blue Marble, 256 GB)</td>\n",
       "      <td>OnePlus Nord (Blue Marble, 256 GB)</td>\n",
       "    </tr>\n",
       "    <tr>\n",
       "      <th>5</th>\n",
       "      <td>OnePlus Nord (Blue Marble, 64 GB)</td>\n",
       "      <td>OnePlus Nord (Blue Marble, 64 GB)</td>\n",
       "      <td>OnePlus Nord (Blue Marble, 64 GB)</td>\n",
       "    </tr>\n",
       "    <tr>\n",
       "      <th>6</th>\n",
       "      <td>OnePlus Nord (Gray Onyx, 256 GB)</td>\n",
       "      <td>OnePlus Nord (Gray Onyx, 256 GB)</td>\n",
       "      <td>OnePlus Nord (Gray Onyx, 256 GB)</td>\n",
       "    </tr>\n",
       "    <tr>\n",
       "      <th>7</th>\n",
       "      <td>OnePlus Nord (Gray Onyx, 64 GB)</td>\n",
       "      <td>OnePlus Nord (Gray Onyx, 64 GB)</td>\n",
       "      <td>OnePlus Nord (Gray Onyx, 64 GB)</td>\n",
       "    </tr>\n",
       "    <tr>\n",
       "      <th>8</th>\n",
       "      <td>OnePlus Nord CE 2 5G (Bahama Blue, 128 GB)</td>\n",
       "      <td>OnePlus Nord CE 2 5G (Bahama Blue, 128 GB)</td>\n",
       "      <td>OnePlus Nord CE 2 5G (Bahama Blue, 128 GB)</td>\n",
       "    </tr>\n",
       "    <tr>\n",
       "      <th>9</th>\n",
       "      <td>OnePlus Nord CE 2 5G (Gray Mirror, 128 GB)</td>\n",
       "      <td>OnePlus Nord CE 2 5G (Gray Mirror, 128 GB)</td>\n",
       "      <td>OnePlus Nord CE 2 5G (Gray Mirror, 128 GB)</td>\n",
       "    </tr>\n",
       "    <tr>\n",
       "      <th>10</th>\n",
       "      <td>OnePlus Nord CE 2 5G (Gray Mirror, 128 GB)</td>\n",
       "      <td>OnePlus Nord CE 2 5G (Gray Mirror, 128 GB)</td>\n",
       "      <td>OnePlus Nord CE 2 5G (Gray Mirror, 128 GB)</td>\n",
       "    </tr>\n",
       "    <tr>\n",
       "      <th>11</th>\n",
       "      <td>OnePlus Nord CE 2 5G (Bahama Blue, 128 GB)</td>\n",
       "      <td>OnePlus Nord CE 2 5G (Bahama Blue, 128 GB)</td>\n",
       "      <td>OnePlus Nord CE 2 5G (Bahama Blue, 128 GB)</td>\n",
       "    </tr>\n",
       "    <tr>\n",
       "      <th>12</th>\n",
       "      <td>OnePlus Nord (Gray Onyx, 128 GB)</td>\n",
       "      <td>OnePlus Nord (Gray Onyx, 128 GB)</td>\n",
       "      <td>OnePlus Nord (Gray Onyx, 128 GB)</td>\n",
       "    </tr>\n",
       "    <tr>\n",
       "      <th>13</th>\n",
       "      <td>OnePlus Nord (Blue Marble, 128 GB)</td>\n",
       "      <td>OnePlus Nord (Blue Marble, 128 GB)</td>\n",
       "      <td>OnePlus Nord (Blue Marble, 128 GB)</td>\n",
       "    </tr>\n",
       "    <tr>\n",
       "      <th>14</th>\n",
       "      <td>OnePlus Nord (Blue Marble, 256 GB)</td>\n",
       "      <td>OnePlus Nord (Blue Marble, 256 GB)</td>\n",
       "      <td>OnePlus Nord (Blue Marble, 256 GB)</td>\n",
       "    </tr>\n",
       "    <tr>\n",
       "      <th>15</th>\n",
       "      <td>OnePlus Nord (Blue Marble, 64 GB)</td>\n",
       "      <td>OnePlus Nord (Blue Marble, 64 GB)</td>\n",
       "      <td>OnePlus Nord (Blue Marble, 64 GB)</td>\n",
       "    </tr>\n",
       "    <tr>\n",
       "      <th>16</th>\n",
       "      <td>OnePlus Nord (Gray Onyx, 256 GB)</td>\n",
       "      <td>OnePlus Nord (Gray Onyx, 256 GB)</td>\n",
       "      <td>OnePlus Nord (Gray Onyx, 256 GB)</td>\n",
       "    </tr>\n",
       "    <tr>\n",
       "      <th>17</th>\n",
       "      <td>OnePlus Nord (Gray Onyx, 64 GB)</td>\n",
       "      <td>OnePlus Nord (Gray Onyx, 64 GB)</td>\n",
       "      <td>OnePlus Nord (Gray Onyx, 64 GB)</td>\n",
       "    </tr>\n",
       "    <tr>\n",
       "      <th>18</th>\n",
       "      <td>OnePlus Nord CE 2 5G (Bahama Blue, 128 GB)</td>\n",
       "      <td>OnePlus Nord CE 2 5G (Bahama Blue, 128 GB)</td>\n",
       "      <td>OnePlus Nord CE 2 5G (Bahama Blue, 128 GB)</td>\n",
       "    </tr>\n",
       "    <tr>\n",
       "      <th>19</th>\n",
       "      <td>OnePlus Nord CE 2 5G (Gray Mirror, 128 GB)</td>\n",
       "      <td>OnePlus Nord CE 2 5G (Gray Mirror, 128 GB)</td>\n",
       "      <td>OnePlus Nord CE 2 5G (Gray Mirror, 128 GB)</td>\n",
       "    </tr>\n",
       "  </tbody>\n",
       "</table>\n",
       "</div>"
      ],
      "text/plain": [
       "                                    Brand_Name  \\\n",
       "0   OnePlus Nord CE 2 5G (Gray Mirror, 128 GB)   \n",
       "1   OnePlus Nord CE 2 5G (Bahama Blue, 128 GB)   \n",
       "2             OnePlus Nord (Gray Onyx, 128 GB)   \n",
       "3           OnePlus Nord (Blue Marble, 128 GB)   \n",
       "4           OnePlus Nord (Blue Marble, 256 GB)   \n",
       "5            OnePlus Nord (Blue Marble, 64 GB)   \n",
       "6             OnePlus Nord (Gray Onyx, 256 GB)   \n",
       "7              OnePlus Nord (Gray Onyx, 64 GB)   \n",
       "8   OnePlus Nord CE 2 5G (Bahama Blue, 128 GB)   \n",
       "9   OnePlus Nord CE 2 5G (Gray Mirror, 128 GB)   \n",
       "10  OnePlus Nord CE 2 5G (Gray Mirror, 128 GB)   \n",
       "11  OnePlus Nord CE 2 5G (Bahama Blue, 128 GB)   \n",
       "12            OnePlus Nord (Gray Onyx, 128 GB)   \n",
       "13          OnePlus Nord (Blue Marble, 128 GB)   \n",
       "14          OnePlus Nord (Blue Marble, 256 GB)   \n",
       "15           OnePlus Nord (Blue Marble, 64 GB)   \n",
       "16            OnePlus Nord (Gray Onyx, 256 GB)   \n",
       "17             OnePlus Nord (Gray Onyx, 64 GB)   \n",
       "18  OnePlus Nord CE 2 5G (Bahama Blue, 128 GB)   \n",
       "19  OnePlus Nord CE 2 5G (Gray Mirror, 128 GB)   \n",
       "\n",
       "                                    Phone_Name  \\\n",
       "0   OnePlus Nord CE 2 5G (Gray Mirror, 128 GB)   \n",
       "1   OnePlus Nord CE 2 5G (Bahama Blue, 128 GB)   \n",
       "2             OnePlus Nord (Gray Onyx, 128 GB)   \n",
       "3           OnePlus Nord (Blue Marble, 128 GB)   \n",
       "4           OnePlus Nord (Blue Marble, 256 GB)   \n",
       "5            OnePlus Nord (Blue Marble, 64 GB)   \n",
       "6             OnePlus Nord (Gray Onyx, 256 GB)   \n",
       "7              OnePlus Nord (Gray Onyx, 64 GB)   \n",
       "8   OnePlus Nord CE 2 5G (Bahama Blue, 128 GB)   \n",
       "9   OnePlus Nord CE 2 5G (Gray Mirror, 128 GB)   \n",
       "10  OnePlus Nord CE 2 5G (Gray Mirror, 128 GB)   \n",
       "11  OnePlus Nord CE 2 5G (Bahama Blue, 128 GB)   \n",
       "12            OnePlus Nord (Gray Onyx, 128 GB)   \n",
       "13          OnePlus Nord (Blue Marble, 128 GB)   \n",
       "14          OnePlus Nord (Blue Marble, 256 GB)   \n",
       "15           OnePlus Nord (Blue Marble, 64 GB)   \n",
       "16            OnePlus Nord (Gray Onyx, 256 GB)   \n",
       "17             OnePlus Nord (Gray Onyx, 64 GB)   \n",
       "18  OnePlus Nord CE 2 5G (Bahama Blue, 128 GB)   \n",
       "19  OnePlus Nord CE 2 5G (Gray Mirror, 128 GB)   \n",
       "\n",
       "                                        Colour  \n",
       "0   OnePlus Nord CE 2 5G (Gray Mirror, 128 GB)  \n",
       "1   OnePlus Nord CE 2 5G (Bahama Blue, 128 GB)  \n",
       "2             OnePlus Nord (Gray Onyx, 128 GB)  \n",
       "3           OnePlus Nord (Blue Marble, 128 GB)  \n",
       "4           OnePlus Nord (Blue Marble, 256 GB)  \n",
       "5            OnePlus Nord (Blue Marble, 64 GB)  \n",
       "6             OnePlus Nord (Gray Onyx, 256 GB)  \n",
       "7              OnePlus Nord (Gray Onyx, 64 GB)  \n",
       "8   OnePlus Nord CE 2 5G (Bahama Blue, 128 GB)  \n",
       "9   OnePlus Nord CE 2 5G (Gray Mirror, 128 GB)  \n",
       "10  OnePlus Nord CE 2 5G (Gray Mirror, 128 GB)  \n",
       "11  OnePlus Nord CE 2 5G (Bahama Blue, 128 GB)  \n",
       "12            OnePlus Nord (Gray Onyx, 128 GB)  \n",
       "13          OnePlus Nord (Blue Marble, 128 GB)  \n",
       "14          OnePlus Nord (Blue Marble, 256 GB)  \n",
       "15           OnePlus Nord (Blue Marble, 64 GB)  \n",
       "16            OnePlus Nord (Gray Onyx, 256 GB)  \n",
       "17             OnePlus Nord (Gray Onyx, 64 GB)  \n",
       "18  OnePlus Nord CE 2 5G (Bahama Blue, 128 GB)  \n",
       "19  OnePlus Nord CE 2 5G (Gray Mirror, 128 GB)  "
      ]
     },
     "execution_count": 228,
     "metadata": {},
     "output_type": "execute_result"
    }
   ],
   "source": [
    "df=pd.DataFrame({'Brand_Name':Brand_Name,'Phone_Name':Phone_Name,'Colour':Colour})\n",
    "df"
   ]
  },
  {
   "cell_type": "code",
   "execution_count": null,
   "id": "d03e9d92",
   "metadata": {},
   "outputs": [],
   "source": []
  },
  {
   "cell_type": "code",
   "execution_count": null,
   "id": "3cf7ea53",
   "metadata": {},
   "outputs": [],
   "source": []
  },
  {
   "cell_type": "code",
   "execution_count": null,
   "id": "0eb7d9cd",
   "metadata": {},
   "outputs": [],
   "source": []
  },
  {
   "cell_type": "code",
   "execution_count": null,
   "id": "6c37cd77",
   "metadata": {},
   "outputs": [],
   "source": []
  },
  {
   "cell_type": "code",
   "execution_count": null,
   "id": "87a05c26",
   "metadata": {},
   "outputs": [],
   "source": []
  },
  {
   "cell_type": "markdown",
   "id": "1e90eaff",
   "metadata": {},
   "source": [
    "# 5.Write a program to scrap geospatial coordinates (latitude, longitude) of a city searched on google maps."
   ]
  },
  {
   "cell_type": "code",
   "execution_count": 1,
   "id": "2e943c7e",
   "metadata": {},
   "outputs": [],
   "source": [
    "import selenium \n",
    "import pandas as pd\n",
    "import time\n",
    "from bs4 import BeautifulSoup\n",
    "from selenium import webdriver\n",
    "from selenium.common.exceptions import StaleElementReferenceException, NoSuchElementException\n",
    "import requests\n",
    "from selenium.webdriver.common.by import By\n",
    "import warnings\n",
    "warnings.filterwarnings('ignore')"
   ]
  },
  {
   "cell_type": "code",
   "execution_count": 2,
   "id": "cf7e3dad",
   "metadata": {},
   "outputs": [],
   "source": [
    "driver = webdriver.Chrome()"
   ]
  },
  {
   "cell_type": "code",
   "execution_count": 3,
   "id": "d8769097",
   "metadata": {},
   "outputs": [],
   "source": [
    "driver.get('https://www.google.com/maps/@58.8588079,17.2814052,3z?entry=ttu')"
   ]
  },
  {
   "cell_type": "code",
   "execution_count": 8,
   "id": "56fb1fca",
   "metadata": {},
   "outputs": [],
   "source": [
    "search = driver.find_element(By.XPATH,'//input[@class=\"searchboxinput xiQnY\"]')\n",
    "search.send_keys('Delhi')"
   ]
  },
  {
   "cell_type": "code",
   "execution_count": 9,
   "id": "ebc75aca",
   "metadata": {},
   "outputs": [],
   "source": [
    "search = driver.find_element(By.XPATH,'/html/body/div[1]/div[3]/div[8]/div[3]/div[1]/div[1]/div/div[2]/div[1]/button/span')\n",
    "search.click()"
   ]
  },
  {
   "cell_type": "code",
   "execution_count": 13,
   "id": "63b18e01",
   "metadata": {},
   "outputs": [],
   "source": [
    "from geopy.geocoders import ArcGIS"
   ]
  },
  {
   "cell_type": "code",
   "execution_count": 17,
   "id": "73d147b1",
   "metadata": {},
   "outputs": [],
   "source": [
    "nom = ArcGIS()"
   ]
  },
  {
   "cell_type": "code",
   "execution_count": 18,
   "id": "5826a877",
   "metadata": {},
   "outputs": [],
   "source": [
    "s = nom.geocode('Karol bag')"
   ]
  },
  {
   "cell_type": "code",
   "execution_count": 20,
   "id": "7b358a85",
   "metadata": {},
   "outputs": [
    {
     "data": {
      "text/plain": [
       "28.65136"
      ]
     },
     "execution_count": 20,
     "metadata": {},
     "output_type": "execute_result"
    }
   ],
   "source": [
    "s.latitude"
   ]
  },
  {
   "cell_type": "code",
   "execution_count": 21,
   "id": "8852bff2",
   "metadata": {},
   "outputs": [
    {
     "data": {
      "text/plain": [
       "77.19072"
      ]
     },
     "execution_count": 21,
     "metadata": {},
     "output_type": "execute_result"
    }
   ],
   "source": [
    "s.longitude"
   ]
  },
  {
   "cell_type": "code",
   "execution_count": null,
   "id": "603d1319",
   "metadata": {},
   "outputs": [],
   "source": []
  },
  {
   "cell_type": "code",
   "execution_count": null,
   "id": "60a7a4c6",
   "metadata": {},
   "outputs": [],
   "source": []
  },
  {
   "cell_type": "markdown",
   "id": "a94e8ee5",
   "metadata": {},
   "source": [
    "# 6. Write a program to scrap all the available details of best AI laptops from digit.in."
   ]
  },
  {
   "cell_type": "code",
   "execution_count": 74,
   "id": "0ee8f8d8",
   "metadata": {},
   "outputs": [],
   "source": [
    "import selenium \n",
    "import pandas as pd\n",
    "import time\n",
    "from bs4 import BeautifulSoup\n",
    "from selenium import webdriver\n",
    "from selenium.common.exceptions import StaleElementReferenceException, NoSuchElementException\n",
    "import requests\n",
    "from selenium.webdriver.common.by import By\n",
    "import warnings\n",
    "warnings.filterwarnings('ignore')"
   ]
  },
  {
   "cell_type": "code",
   "execution_count": 75,
   "id": "3bd2afb0",
   "metadata": {},
   "outputs": [],
   "source": [
    "driver = webdriver.Chrome()"
   ]
  },
  {
   "cell_type": "code",
   "execution_count": 76,
   "id": "86015591",
   "metadata": {},
   "outputs": [],
   "source": [
    "driver.get('https://www.digit.in/')"
   ]
  },
  {
   "cell_type": "code",
   "execution_count": 81,
   "id": "cc69a95f",
   "metadata": {},
   "outputs": [],
   "source": [
    "laptop=driver.find_element(By.XPATH,'/html/body/div[6]/div/form/input[1]')\n",
    "laptop.send_keys(\"best AI laptop in india\")"
   ]
  },
  {
   "cell_type": "code",
   "execution_count": 82,
   "id": "03b24040",
   "metadata": {},
   "outputs": [],
   "source": [
    "laptop=driver.find_element(By.XPATH,'/html/body/div[6]/div/form/button/i')\n",
    "laptop.click()"
   ]
  },
  {
   "cell_type": "code",
   "execution_count": 83,
   "id": "ee4acd6e",
   "metadata": {},
   "outputs": [],
   "source": [
    "top_ten=driver.find_element(By.XPATH,'/html/body/div[1]/header/div/div[2]/div/nav/ul/li[3]')\n",
    "top_ten.click()"
   ]
  },
  {
   "cell_type": "code",
   "execution_count": 84,
   "id": "52c9256c",
   "metadata": {},
   "outputs": [],
   "source": [
    "best_AI=driver.find_element(By.XPATH,'/html/body/div[1]/div[3]/div/div[2]/div[1]/div[3]/div[11]/p')\n",
    "best_AI.click()"
   ]
  },
  {
   "cell_type": "code",
   "execution_count": 89,
   "id": "5c6944be",
   "metadata": {},
   "outputs": [],
   "source": [
    "Operating_System = []\n",
    "Display_Size = []\n",
    "Processor = []        "
   ]
  },
  {
   "cell_type": "code",
   "execution_count": 90,
   "id": "da399646",
   "metadata": {},
   "outputs": [],
   "source": [
    "OS_tags=driver.find_elements(By.XPATH,'//span[@class=\"meta_v_value\"]')\n",
    "for i in OS_tags:\n",
    "    OS_title=i.text\n",
    "    Operating_System.append(OS_title)\n",
    "    \n",
    "    \n",
    "size_tags=driver.find_elements(By.XPATH,'//span[@class=\"meta_v_value\"]')\n",
    "for i in size_tags:\n",
    "    size_title=i.text\n",
    "    Display_Size.append(size_title)\n",
    "    \n",
    "    \n",
    "    \n",
    "processor_tags=driver.find_elements(By.XPATH,'//span[@class=\"meta_v_value\"]')\n",
    "for i in processor_tags:\n",
    "    processor_title=i.text\n",
    "    Processor.append(processor_title)"
   ]
  },
  {
   "cell_type": "code",
   "execution_count": 91,
   "id": "1f6a5053",
   "metadata": {},
   "outputs": [
    {
     "name": "stdout",
     "output_type": "stream",
     "text": [
      "21 21 21\n"
     ]
    }
   ],
   "source": [
    "print(len(Operating_System),len(Display_Size),len(Processor))"
   ]
  },
  {
   "cell_type": "code",
   "execution_count": 92,
   "id": "f15b7412",
   "metadata": {},
   "outputs": [
    {
     "data": {
      "text/html": [
       "<div>\n",
       "<style scoped>\n",
       "    .dataframe tbody tr th:only-of-type {\n",
       "        vertical-align: middle;\n",
       "    }\n",
       "\n",
       "    .dataframe tbody tr th {\n",
       "        vertical-align: top;\n",
       "    }\n",
       "\n",
       "    .dataframe thead th {\n",
       "        text-align: right;\n",
       "    }\n",
       "</style>\n",
       "<table border=\"1\" class=\"dataframe\">\n",
       "  <thead>\n",
       "    <tr style=\"text-align: right;\">\n",
       "      <th></th>\n",
       "      <th>Operating_System</th>\n",
       "      <th>Display_Size</th>\n",
       "      <th>Processor</th>\n",
       "    </tr>\n",
       "  </thead>\n",
       "  <tbody>\n",
       "    <tr>\n",
       "      <th>0</th>\n",
       "      <td>Windows 11 Home</td>\n",
       "      <td>Windows 11 Home</td>\n",
       "      <td>Windows 11 Home</td>\n",
       "    </tr>\n",
       "    <tr>\n",
       "      <th>1</th>\n",
       "      <td>14</td>\n",
       "      <td>14</td>\n",
       "      <td>14</td>\n",
       "    </tr>\n",
       "    <tr>\n",
       "      <th>2</th>\n",
       "      <td>7th Gen, AMD Ryzen 9 7940HS</td>\n",
       "      <td>7th Gen, AMD Ryzen 9 7940HS</td>\n",
       "      <td>7th Gen, AMD Ryzen 9 7940HS</td>\n",
       "    </tr>\n",
       "    <tr>\n",
       "      <th>3</th>\n",
       "      <td>Windows 11 Home</td>\n",
       "      <td>Windows 11 Home</td>\n",
       "      <td>Windows 11 Home</td>\n",
       "    </tr>\n",
       "    <tr>\n",
       "      <th>4</th>\n",
       "      <td>17</td>\n",
       "      <td>17</td>\n",
       "      <td>17</td>\n",
       "    </tr>\n",
       "    <tr>\n",
       "      <th>5</th>\n",
       "      <td>Intel Core Ultra 9</td>\n",
       "      <td>Intel Core Ultra 9</td>\n",
       "      <td>Intel Core Ultra 9</td>\n",
       "    </tr>\n",
       "    <tr>\n",
       "      <th>6</th>\n",
       "      <td>Windows 11 Home</td>\n",
       "      <td>Windows 11 Home</td>\n",
       "      <td>Windows 11 Home</td>\n",
       "    </tr>\n",
       "    <tr>\n",
       "      <th>7</th>\n",
       "      <td>16</td>\n",
       "      <td>16</td>\n",
       "      <td>16</td>\n",
       "    </tr>\n",
       "    <tr>\n",
       "      <th>8</th>\n",
       "      <td>AMD Ryzen 7-7840HS</td>\n",
       "      <td>AMD Ryzen 7-7840HS</td>\n",
       "      <td>AMD Ryzen 7-7840HS</td>\n",
       "    </tr>\n",
       "    <tr>\n",
       "      <th>9</th>\n",
       "      <td>Windows 11 Home</td>\n",
       "      <td>Windows 11 Home</td>\n",
       "      <td>Windows 11 Home</td>\n",
       "    </tr>\n",
       "    <tr>\n",
       "      <th>10</th>\n",
       "      <td>15.6</td>\n",
       "      <td>15.6</td>\n",
       "      <td>15.6</td>\n",
       "    </tr>\n",
       "    <tr>\n",
       "      <th>11</th>\n",
       "      <td>AMD Ryzen 7-7000HS</td>\n",
       "      <td>AMD Ryzen 7-7000HS</td>\n",
       "      <td>AMD Ryzen 7-7000HS</td>\n",
       "    </tr>\n",
       "    <tr>\n",
       "      <th>12</th>\n",
       "      <td>Windows 11 Home</td>\n",
       "      <td>Windows 11 Home</td>\n",
       "      <td>Windows 11 Home</td>\n",
       "    </tr>\n",
       "    <tr>\n",
       "      <th>13</th>\n",
       "      <td>16</td>\n",
       "      <td>16</td>\n",
       "      <td>16</td>\n",
       "    </tr>\n",
       "    <tr>\n",
       "      <th>14</th>\n",
       "      <td>AMD Ryzen 9-7940HS</td>\n",
       "      <td>AMD Ryzen 9-7940HS</td>\n",
       "      <td>AMD Ryzen 9-7940HS</td>\n",
       "    </tr>\n",
       "    <tr>\n",
       "      <th>15</th>\n",
       "      <td>Windows 11 Home</td>\n",
       "      <td>Windows 11 Home</td>\n",
       "      <td>Windows 11 Home</td>\n",
       "    </tr>\n",
       "    <tr>\n",
       "      <th>16</th>\n",
       "      <td>16.1</td>\n",
       "      <td>16.1</td>\n",
       "      <td>16.1</td>\n",
       "    </tr>\n",
       "    <tr>\n",
       "      <th>17</th>\n",
       "      <td>AMD Ryzen 7-7840HS</td>\n",
       "      <td>AMD Ryzen 7-7840HS</td>\n",
       "      <td>AMD Ryzen 7-7840HS</td>\n",
       "    </tr>\n",
       "    <tr>\n",
       "      <th>18</th>\n",
       "      <td>Windows 11 Home</td>\n",
       "      <td>Windows 11 Home</td>\n",
       "      <td>Windows 11 Home</td>\n",
       "    </tr>\n",
       "    <tr>\n",
       "      <th>19</th>\n",
       "      <td>15.6</td>\n",
       "      <td>15.6</td>\n",
       "      <td>15.6</td>\n",
       "    </tr>\n",
       "    <tr>\n",
       "      <th>20</th>\n",
       "      <td>AMD Ryzen 5-7640HS</td>\n",
       "      <td>AMD Ryzen 5-7640HS</td>\n",
       "      <td>AMD Ryzen 5-7640HS</td>\n",
       "    </tr>\n",
       "  </tbody>\n",
       "</table>\n",
       "</div>"
      ],
      "text/plain": [
       "               Operating_System                 Display_Size  \\\n",
       "0               Windows 11 Home              Windows 11 Home   \n",
       "1                            14                           14   \n",
       "2   7th Gen, AMD Ryzen 9 7940HS  7th Gen, AMD Ryzen 9 7940HS   \n",
       "3               Windows 11 Home              Windows 11 Home   \n",
       "4                            17                           17   \n",
       "5            Intel Core Ultra 9           Intel Core Ultra 9   \n",
       "6               Windows 11 Home              Windows 11 Home   \n",
       "7                            16                           16   \n",
       "8            AMD Ryzen 7-7840HS           AMD Ryzen 7-7840HS   \n",
       "9               Windows 11 Home              Windows 11 Home   \n",
       "10                         15.6                         15.6   \n",
       "11           AMD Ryzen 7-7000HS           AMD Ryzen 7-7000HS   \n",
       "12              Windows 11 Home              Windows 11 Home   \n",
       "13                           16                           16   \n",
       "14           AMD Ryzen 9-7940HS           AMD Ryzen 9-7940HS   \n",
       "15              Windows 11 Home              Windows 11 Home   \n",
       "16                         16.1                         16.1   \n",
       "17           AMD Ryzen 7-7840HS           AMD Ryzen 7-7840HS   \n",
       "18              Windows 11 Home              Windows 11 Home   \n",
       "19                         15.6                         15.6   \n",
       "20           AMD Ryzen 5-7640HS           AMD Ryzen 5-7640HS   \n",
       "\n",
       "                      Processor  \n",
       "0               Windows 11 Home  \n",
       "1                            14  \n",
       "2   7th Gen, AMD Ryzen 9 7940HS  \n",
       "3               Windows 11 Home  \n",
       "4                            17  \n",
       "5            Intel Core Ultra 9  \n",
       "6               Windows 11 Home  \n",
       "7                            16  \n",
       "8            AMD Ryzen 7-7840HS  \n",
       "9               Windows 11 Home  \n",
       "10                         15.6  \n",
       "11           AMD Ryzen 7-7000HS  \n",
       "12              Windows 11 Home  \n",
       "13                           16  \n",
       "14           AMD Ryzen 9-7940HS  \n",
       "15              Windows 11 Home  \n",
       "16                         16.1  \n",
       "17           AMD Ryzen 7-7840HS  \n",
       "18              Windows 11 Home  \n",
       "19                         15.6  \n",
       "20           AMD Ryzen 5-7640HS  "
      ]
     },
     "execution_count": 92,
     "metadata": {},
     "output_type": "execute_result"
    }
   ],
   "source": [
    "df = pd.DataFrame({'Operating_System':Operating_System,'Display_Size':Display_Size,'Processor':Processor})\n",
    "df"
   ]
  },
  {
   "cell_type": "code",
   "execution_count": null,
   "id": "5cdeaa7e",
   "metadata": {},
   "outputs": [],
   "source": []
  },
  {
   "cell_type": "markdown",
   "id": "703efe60",
   "metadata": {},
   "source": [
    "# 7. Write a python program to scrape the details for all billionaires from www.forbes.com. Details to be scrapped: “Rank”, “Name”, “Net worth”, “Age”, “Citizenship”, “Source”, “Industry”."
   ]
  },
  {
   "cell_type": "code",
   "execution_count": 58,
   "id": "2d35320d",
   "metadata": {},
   "outputs": [],
   "source": [
    "import selenium \n",
    "import pandas as pd\n",
    "import time\n",
    "from bs4 import BeautifulSoup\n",
    "from selenium import webdriver\n",
    "from selenium.common.exceptions import StaleElementReferenceException, NoSuchElementException\n",
    "import requests\n",
    "from selenium.webdriver.common.by import By\n",
    "import warnings\n",
    "warnings.filterwarnings('ignore')"
   ]
  },
  {
   "cell_type": "code",
   "execution_count": 59,
   "id": "9757d6ef",
   "metadata": {},
   "outputs": [],
   "source": [
    "driver = webdriver.Chrome()"
   ]
  },
  {
   "cell_type": "code",
   "execution_count": 60,
   "id": "f89dba7f",
   "metadata": {},
   "outputs": [],
   "source": [
    "driver.get('http://www.forbes.com/')"
   ]
  },
  {
   "cell_type": "code",
   "execution_count": 63,
   "id": "d3e83e09",
   "metadata": {},
   "outputs": [],
   "source": [
    "details=driver.find_element(By.XPATH,'/html/body/div[1]/header/nav/div[1]/div[1]/div/div[2]/ul/li[2]/div[1]')\n",
    "details.click()"
   ]
  },
  {
   "cell_type": "code",
   "execution_count": 64,
   "id": "c6802e92",
   "metadata": {},
   "outputs": [],
   "source": [
    "worlds_billionaires = driver.find_element(By.XPATH,'/html/body/div[1]/header/nav/div[1]/div[1]/div/div[2]/ul/li[2]/div[2]/div[3]/ul/li[1]')\n",
    "worlds_billionaires.click()"
   ]
  },
  {
   "cell_type": "code",
   "execution_count": 65,
   "id": "41e38f22",
   "metadata": {},
   "outputs": [],
   "source": [
    "Rank = []\n",
    "Name = []\n",
    "Networth = []\n",
    "Age = []\n",
    "Country = []\n",
    "Source = []\n",
    "Industry = []"
   ]
  },
  {
   "cell_type": "code",
   "execution_count": 66,
   "id": "acc4681b",
   "metadata": {},
   "outputs": [],
   "source": [
    "rank_tags=driver.find_elements(By.XPATH,'//div[@class=\"Table_rank__X4MKf\"]/div')\n",
    "for i in rank_tags:\n",
    "    rank_title=i.text\n",
    "    Rank.append(rank_title)\n",
    "    \n",
    "    \n",
    "name_tags=driver.find_elements(By.XPATH,'//div[@class=\"Table_personName__Bus2E\"]')\n",
    "for i in name_tags:\n",
    "    name_title=i.text\n",
    "    Name.append(name_title)\n",
    "    \n",
    "\n",
    "worth_tags=driver.find_elements(By.XPATH,'//div[@class=\"Table_finalWorth__UZA6k\"]/span')\n",
    "for i in worth_tags:\n",
    "    worth_title=i.text\n",
    "    Networth.append(worth_title)"
   ]
  },
  {
   "cell_type": "code",
   "execution_count": 67,
   "id": "bd1efd7b",
   "metadata": {},
   "outputs": [
    {
     "name": "stdout",
     "output_type": "stream",
     "text": [
      "200 200 200\n"
     ]
    }
   ],
   "source": [
    "print(len(Rank),len(Name),len(Networth))"
   ]
  },
  {
   "cell_type": "code",
   "execution_count": 68,
   "id": "872297ab",
   "metadata": {},
   "outputs": [
    {
     "data": {
      "text/html": [
       "<div>\n",
       "<style scoped>\n",
       "    .dataframe tbody tr th:only-of-type {\n",
       "        vertical-align: middle;\n",
       "    }\n",
       "\n",
       "    .dataframe tbody tr th {\n",
       "        vertical-align: top;\n",
       "    }\n",
       "\n",
       "    .dataframe thead th {\n",
       "        text-align: right;\n",
       "    }\n",
       "</style>\n",
       "<table border=\"1\" class=\"dataframe\">\n",
       "  <thead>\n",
       "    <tr style=\"text-align: right;\">\n",
       "      <th></th>\n",
       "      <th>Rank</th>\n",
       "      <th>Name</th>\n",
       "      <th>Networth</th>\n",
       "    </tr>\n",
       "  </thead>\n",
       "  <tbody>\n",
       "    <tr>\n",
       "      <th>0</th>\n",
       "      <td>1.</td>\n",
       "      <td>Bernard Arnault &amp; family</td>\n",
       "      <td>$233 B</td>\n",
       "    </tr>\n",
       "    <tr>\n",
       "      <th>1</th>\n",
       "      <td>2.</td>\n",
       "      <td>Elon Musk</td>\n",
       "      <td>$195 B</td>\n",
       "    </tr>\n",
       "    <tr>\n",
       "      <th>2</th>\n",
       "      <td>3.</td>\n",
       "      <td>Jeff Bezos</td>\n",
       "      <td>$194 B</td>\n",
       "    </tr>\n",
       "    <tr>\n",
       "      <th>3</th>\n",
       "      <td>4.</td>\n",
       "      <td>Mark Zuckerberg</td>\n",
       "      <td>$177 B</td>\n",
       "    </tr>\n",
       "    <tr>\n",
       "      <th>4</th>\n",
       "      <td>5.</td>\n",
       "      <td>Larry Ellison</td>\n",
       "      <td>$141 B</td>\n",
       "    </tr>\n",
       "    <tr>\n",
       "      <th>...</th>\n",
       "      <td>...</td>\n",
       "      <td>...</td>\n",
       "      <td>...</td>\n",
       "    </tr>\n",
       "    <tr>\n",
       "      <th>195</th>\n",
       "      <td>195.</td>\n",
       "      <td>Lei Jun</td>\n",
       "      <td>$10.9 B</td>\n",
       "    </tr>\n",
       "    <tr>\n",
       "      <th>196</th>\n",
       "      <td>195.</td>\n",
       "      <td>Georg Schaeffler</td>\n",
       "      <td>$10.9 B</td>\n",
       "    </tr>\n",
       "    <tr>\n",
       "      <th>197</th>\n",
       "      <td>195.</td>\n",
       "      <td>Marcel Herrmann Telles &amp; family</td>\n",
       "      <td>$10.9 B</td>\n",
       "    </tr>\n",
       "    <tr>\n",
       "      <th>198</th>\n",
       "      <td>199.</td>\n",
       "      <td>David Velez &amp; family</td>\n",
       "      <td>$10.8 B</td>\n",
       "    </tr>\n",
       "    <tr>\n",
       "      <th>199</th>\n",
       "      <td>200.</td>\n",
       "      <td>Suleiman Kerimov &amp; family</td>\n",
       "      <td>$10.7 B</td>\n",
       "    </tr>\n",
       "  </tbody>\n",
       "</table>\n",
       "<p>200 rows × 3 columns</p>\n",
       "</div>"
      ],
      "text/plain": [
       "     Rank                             Name Networth\n",
       "0      1.         Bernard Arnault & family   $233 B\n",
       "1      2.                        Elon Musk   $195 B\n",
       "2      3.                       Jeff Bezos   $194 B\n",
       "3      4.                  Mark Zuckerberg   $177 B\n",
       "4      5.                    Larry Ellison   $141 B\n",
       "..    ...                              ...      ...\n",
       "195  195.                          Lei Jun  $10.9 B\n",
       "196  195.                 Georg Schaeffler  $10.9 B\n",
       "197  195.  Marcel Herrmann Telles & family  $10.9 B\n",
       "198  199.             David Velez & family  $10.8 B\n",
       "199  200.        Suleiman Kerimov & family  $10.7 B\n",
       "\n",
       "[200 rows x 3 columns]"
      ]
     },
     "execution_count": 68,
     "metadata": {},
     "output_type": "execute_result"
    }
   ],
   "source": [
    "df=pd.DataFrame({'Rank':Rank,'Name':Name,'Networth':Networth})\n",
    "df"
   ]
  },
  {
   "cell_type": "code",
   "execution_count": null,
   "id": "0b94d76b",
   "metadata": {},
   "outputs": [],
   "source": []
  },
  {
   "cell_type": "code",
   "execution_count": null,
   "id": "8b47ad3d",
   "metadata": {},
   "outputs": [],
   "source": []
  },
  {
   "cell_type": "code",
   "execution_count": null,
   "id": "4349415e",
   "metadata": {},
   "outputs": [],
   "source": []
  },
  {
   "cell_type": "code",
   "execution_count": null,
   "id": "c6966c8f",
   "metadata": {},
   "outputs": [],
   "source": []
  },
  {
   "cell_type": "markdown",
   "id": "9d1d2890",
   "metadata": {},
   "source": [
    "# 8. Write a program to extract at least 500 Comments, Comment upvote and time when comment was posted from any YouTube Video."
   ]
  },
  {
   "cell_type": "code",
   "execution_count": 165,
   "id": "08eb2807",
   "metadata": {},
   "outputs": [],
   "source": [
    "import selenium \n",
    "import pandas as pd\n",
    "import time\n",
    "from bs4 import BeautifulSoup\n",
    "from selenium import webdriver\n",
    "from selenium.common.exceptions import StaleElementReferenceException, NoSuchElementException\n",
    "import requests\n",
    "from selenium.webdriver.common.by import By\n",
    "import warnings\n",
    "warnings.filterwarnings('ignore')"
   ]
  },
  {
   "cell_type": "code",
   "execution_count": 166,
   "id": "4c2501e3",
   "metadata": {},
   "outputs": [],
   "source": [
    "driver=webdriver.Chrome()"
   ]
  },
  {
   "cell_type": "code",
   "execution_count": 167,
   "id": "b8329cd4",
   "metadata": {},
   "outputs": [],
   "source": [
    "driver.get('https://www.youtube.com/')"
   ]
  },
  {
   "cell_type": "code",
   "execution_count": 168,
   "id": "c5463a34",
   "metadata": {},
   "outputs": [],
   "source": [
    "comment=driver.find_element(By.XPATH,'/html/body/ytd-app/div[1]/div/ytd-masthead/div[4]/div[2]/ytd-searchbox/form/div[1]/div[1]/input')\n",
    "comment.send_keys(\"Machine Learning vidio\")"
   ]
  },
  {
   "cell_type": "code",
   "execution_count": 169,
   "id": "2147bcf7",
   "metadata": {},
   "outputs": [],
   "source": [
    "search=driver.find_element(By.XPATH,'/html/body/ytd-app/div[1]/div/ytd-masthead/div[4]/div[2]/ytd-searchbox/button/yt-icon/yt-icon-shape/icon-shape')\n",
    "search.click()"
   ]
  },
  {
   "cell_type": "code",
   "execution_count": 174,
   "id": "234931d4",
   "metadata": {},
   "outputs": [],
   "source": [
    "comment_url = []\n",
    "start=0\n",
    "end=10\n",
    "for page in range(start,end):\n",
    "    url=driver.find_elements(By.XPATH,'//span[@class=\"yt-core-attributed-string yt-core-attributed-string--white-space-pre-wrap\"]')\n",
    "for i in url:\n",
    "       comment_url.append(i.get_attribute)"
   ]
  },
  {
   "cell_type": "code",
   "execution_count": 175,
   "id": "801d987a",
   "metadata": {},
   "outputs": [
    {
     "data": {
      "text/plain": [
       "528"
      ]
     },
     "execution_count": 175,
     "metadata": {},
     "output_type": "execute_result"
    }
   ],
   "source": [
    "len(comment_url)"
   ]
  },
  {
   "cell_type": "code",
   "execution_count": 176,
   "id": "1787db79",
   "metadata": {},
   "outputs": [
    {
     "data": {
      "text/plain": [
       "[<bound method WebElement.get_attribute of <selenium.webdriver.remote.webelement.WebElement (session=\"18aeaeaaa3e569431c2566cb75fc6ce5\", element=\"f.299C1834576DE46EA71F90F40988873B.d.AC3927B532B85F7993A7F36D58710206.e.22334\")>>,\n",
       " <bound method WebElement.get_attribute of <selenium.webdriver.remote.webelement.WebElement (session=\"18aeaeaaa3e569431c2566cb75fc6ce5\", element=\"f.299C1834576DE46EA71F90F40988873B.d.AC3927B532B85F7993A7F36D58710206.e.22337\")>>,\n",
       " <bound method WebElement.get_attribute of <selenium.webdriver.remote.webelement.WebElement (session=\"18aeaeaaa3e569431c2566cb75fc6ce5\", element=\"f.299C1834576DE46EA71F90F40988873B.d.AC3927B532B85F7993A7F36D58710206.e.22340\")>>,\n",
       " <bound method WebElement.get_attribute of <selenium.webdriver.remote.webelement.WebElement (session=\"18aeaeaaa3e569431c2566cb75fc6ce5\", element=\"f.299C1834576DE46EA71F90F40988873B.d.AC3927B532B85F7993A7F36D58710206.e.22343\")>>,\n",
       " <bound method WebElement.get_attribute of <selenium.webdriver.remote.webelement.WebElement (session=\"18aeaeaaa3e569431c2566cb75fc6ce5\", element=\"f.299C1834576DE46EA71F90F40988873B.d.AC3927B532B85F7993A7F36D58710206.e.22346\")>>,\n",
       " <bound method WebElement.get_attribute of <selenium.webdriver.remote.webelement.WebElement (session=\"18aeaeaaa3e569431c2566cb75fc6ce5\", element=\"f.299C1834576DE46EA71F90F40988873B.d.AC3927B532B85F7993A7F36D58710206.e.22349\")>>,\n",
       " <bound method WebElement.get_attribute of <selenium.webdriver.remote.webelement.WebElement (session=\"18aeaeaaa3e569431c2566cb75fc6ce5\", element=\"f.299C1834576DE46EA71F90F40988873B.d.AC3927B532B85F7993A7F36D58710206.e.16796\")>>,\n",
       " <bound method WebElement.get_attribute of <selenium.webdriver.remote.webelement.WebElement (session=\"18aeaeaaa3e569431c2566cb75fc6ce5\", element=\"f.299C1834576DE46EA71F90F40988873B.d.AC3927B532B85F7993A7F36D58710206.e.22353\")>>,\n",
       " <bound method WebElement.get_attribute of <selenium.webdriver.remote.webelement.WebElement (session=\"18aeaeaaa3e569431c2566cb75fc6ce5\", element=\"f.299C1834576DE46EA71F90F40988873B.d.AC3927B532B85F7993A7F36D58710206.e.23201\")>>,\n",
       " <bound method WebElement.get_attribute of <selenium.webdriver.remote.webelement.WebElement (session=\"18aeaeaaa3e569431c2566cb75fc6ce5\", element=\"f.299C1834576DE46EA71F90F40988873B.d.AC3927B532B85F7993A7F36D58710206.e.20858\")>>,\n",
       " <bound method WebElement.get_attribute of <selenium.webdriver.remote.webelement.WebElement (session=\"18aeaeaaa3e569431c2566cb75fc6ce5\", element=\"f.299C1834576DE46EA71F90F40988873B.d.AC3927B532B85F7993A7F36D58710206.e.23291\")>>,\n",
       " <bound method WebElement.get_attribute of <selenium.webdriver.remote.webelement.WebElement (session=\"18aeaeaaa3e569431c2566cb75fc6ce5\", element=\"f.299C1834576DE46EA71F90F40988873B.d.AC3927B532B85F7993A7F36D58710206.e.23339\")>>,\n",
       " <bound method WebElement.get_attribute of <selenium.webdriver.remote.webelement.WebElement (session=\"18aeaeaaa3e569431c2566cb75fc6ce5\", element=\"f.299C1834576DE46EA71F90F40988873B.d.AC3927B532B85F7993A7F36D58710206.e.23387\")>>,\n",
       " <bound method WebElement.get_attribute of <selenium.webdriver.remote.webelement.WebElement (session=\"18aeaeaaa3e569431c2566cb75fc6ce5\", element=\"f.299C1834576DE46EA71F90F40988873B.d.AC3927B532B85F7993A7F36D58710206.e.23435\")>>,\n",
       " <bound method WebElement.get_attribute of <selenium.webdriver.remote.webelement.WebElement (session=\"18aeaeaaa3e569431c2566cb75fc6ce5\", element=\"f.299C1834576DE46EA71F90F40988873B.d.AC3927B532B85F7993A7F36D58710206.e.23486\")>>,\n",
       " <bound method WebElement.get_attribute of <selenium.webdriver.remote.webelement.WebElement (session=\"18aeaeaaa3e569431c2566cb75fc6ce5\", element=\"f.299C1834576DE46EA71F90F40988873B.d.AC3927B532B85F7993A7F36D58710206.e.23535\")>>,\n",
       " <bound method WebElement.get_attribute of <selenium.webdriver.remote.webelement.WebElement (session=\"18aeaeaaa3e569431c2566cb75fc6ce5\", element=\"f.299C1834576DE46EA71F90F40988873B.d.AC3927B532B85F7993A7F36D58710206.e.23583\")>>,\n",
       " <bound method WebElement.get_attribute of <selenium.webdriver.remote.webelement.WebElement (session=\"18aeaeaaa3e569431c2566cb75fc6ce5\", element=\"f.299C1834576DE46EA71F90F40988873B.d.AC3927B532B85F7993A7F36D58710206.e.23631\")>>,\n",
       " <bound method WebElement.get_attribute of <selenium.webdriver.remote.webelement.WebElement (session=\"18aeaeaaa3e569431c2566cb75fc6ce5\", element=\"f.299C1834576DE46EA71F90F40988873B.d.AC3927B532B85F7993A7F36D58710206.e.23679\")>>,\n",
       " <bound method WebElement.get_attribute of <selenium.webdriver.remote.webelement.WebElement (session=\"18aeaeaaa3e569431c2566cb75fc6ce5\", element=\"f.299C1834576DE46EA71F90F40988873B.d.AC3927B532B85F7993A7F36D58710206.e.23727\")>>,\n",
       " <bound method WebElement.get_attribute of <selenium.webdriver.remote.webelement.WebElement (session=\"18aeaeaaa3e569431c2566cb75fc6ce5\", element=\"f.299C1834576DE46EA71F90F40988873B.d.AC3927B532B85F7993A7F36D58710206.e.23775\")>>,\n",
       " <bound method WebElement.get_attribute of <selenium.webdriver.remote.webelement.WebElement (session=\"18aeaeaaa3e569431c2566cb75fc6ce5\", element=\"f.299C1834576DE46EA71F90F40988873B.d.AC3927B532B85F7993A7F36D58710206.e.23823\")>>,\n",
       " <bound method WebElement.get_attribute of <selenium.webdriver.remote.webelement.WebElement (session=\"18aeaeaaa3e569431c2566cb75fc6ce5\", element=\"f.299C1834576DE46EA71F90F40988873B.d.AC3927B532B85F7993A7F36D58710206.e.23871\")>>,\n",
       " <bound method WebElement.get_attribute of <selenium.webdriver.remote.webelement.WebElement (session=\"18aeaeaaa3e569431c2566cb75fc6ce5\", element=\"f.299C1834576DE46EA71F90F40988873B.d.AC3927B532B85F7993A7F36D58710206.e.23919\")>>,\n",
       " <bound method WebElement.get_attribute of <selenium.webdriver.remote.webelement.WebElement (session=\"18aeaeaaa3e569431c2566cb75fc6ce5\", element=\"f.299C1834576DE46EA71F90F40988873B.d.AC3927B532B85F7993A7F36D58710206.e.23967\")>>,\n",
       " <bound method WebElement.get_attribute of <selenium.webdriver.remote.webelement.WebElement (session=\"18aeaeaaa3e569431c2566cb75fc6ce5\", element=\"f.299C1834576DE46EA71F90F40988873B.d.AC3927B532B85F7993A7F36D58710206.e.24015\")>>,\n",
       " <bound method WebElement.get_attribute of <selenium.webdriver.remote.webelement.WebElement (session=\"18aeaeaaa3e569431c2566cb75fc6ce5\", element=\"f.299C1834576DE46EA71F90F40988873B.d.AC3927B532B85F7993A7F36D58710206.e.24064\")>>,\n",
       " <bound method WebElement.get_attribute of <selenium.webdriver.remote.webelement.WebElement (session=\"18aeaeaaa3e569431c2566cb75fc6ce5\", element=\"f.299C1834576DE46EA71F90F40988873B.d.AC3927B532B85F7993A7F36D58710206.e.24112\")>>,\n",
       " <bound method WebElement.get_attribute of <selenium.webdriver.remote.webelement.WebElement (session=\"18aeaeaaa3e569431c2566cb75fc6ce5\", element=\"f.299C1834576DE46EA71F90F40988873B.d.AC3927B532B85F7993A7F36D58710206.e.27545\")>>,\n",
       " <bound method WebElement.get_attribute of <selenium.webdriver.remote.webelement.WebElement (session=\"18aeaeaaa3e569431c2566cb75fc6ce5\", element=\"f.299C1834576DE46EA71F90F40988873B.d.AC3927B532B85F7993A7F36D58710206.e.27668\")>>,\n",
       " <bound method WebElement.get_attribute of <selenium.webdriver.remote.webelement.WebElement (session=\"18aeaeaaa3e569431c2566cb75fc6ce5\", element=\"f.299C1834576DE46EA71F90F40988873B.d.AC3927B532B85F7993A7F36D58710206.e.27791\")>>,\n",
       " <bound method WebElement.get_attribute of <selenium.webdriver.remote.webelement.WebElement (session=\"18aeaeaaa3e569431c2566cb75fc6ce5\", element=\"f.299C1834576DE46EA71F90F40988873B.d.AC3927B532B85F7993A7F36D58710206.e.27914\")>>,\n",
       " <bound method WebElement.get_attribute of <selenium.webdriver.remote.webelement.WebElement (session=\"18aeaeaaa3e569431c2566cb75fc6ce5\", element=\"f.299C1834576DE46EA71F90F40988873B.d.AC3927B532B85F7993A7F36D58710206.e.28037\")>>,\n",
       " <bound method WebElement.get_attribute of <selenium.webdriver.remote.webelement.WebElement (session=\"18aeaeaaa3e569431c2566cb75fc6ce5\", element=\"f.299C1834576DE46EA71F90F40988873B.d.AC3927B532B85F7993A7F36D58710206.e.28160\")>>,\n",
       " <bound method WebElement.get_attribute of <selenium.webdriver.remote.webelement.WebElement (session=\"18aeaeaaa3e569431c2566cb75fc6ce5\", element=\"f.299C1834576DE46EA71F90F40988873B.d.AC3927B532B85F7993A7F36D58710206.e.28284\")>>,\n",
       " <bound method WebElement.get_attribute of <selenium.webdriver.remote.webelement.WebElement (session=\"18aeaeaaa3e569431c2566cb75fc6ce5\", element=\"f.299C1834576DE46EA71F90F40988873B.d.AC3927B532B85F7993A7F36D58710206.e.28424\")>>,\n",
       " <bound method WebElement.get_attribute of <selenium.webdriver.remote.webelement.WebElement (session=\"18aeaeaaa3e569431c2566cb75fc6ce5\", element=\"f.299C1834576DE46EA71F90F40988873B.d.AC3927B532B85F7993A7F36D58710206.e.28547\")>>,\n",
       " <bound method WebElement.get_attribute of <selenium.webdriver.remote.webelement.WebElement (session=\"18aeaeaaa3e569431c2566cb75fc6ce5\", element=\"f.299C1834576DE46EA71F90F40988873B.d.AC3927B532B85F7993A7F36D58710206.e.28670\")>>,\n",
       " <bound method WebElement.get_attribute of <selenium.webdriver.remote.webelement.WebElement (session=\"18aeaeaaa3e569431c2566cb75fc6ce5\", element=\"f.299C1834576DE46EA71F90F40988873B.d.AC3927B532B85F7993A7F36D58710206.e.28793\")>>,\n",
       " <bound method WebElement.get_attribute of <selenium.webdriver.remote.webelement.WebElement (session=\"18aeaeaaa3e569431c2566cb75fc6ce5\", element=\"f.299C1834576DE46EA71F90F40988873B.d.AC3927B532B85F7993A7F36D58710206.e.28918\")>>,\n",
       " <bound method WebElement.get_attribute of <selenium.webdriver.remote.webelement.WebElement (session=\"18aeaeaaa3e569431c2566cb75fc6ce5\", element=\"f.299C1834576DE46EA71F90F40988873B.d.AC3927B532B85F7993A7F36D58710206.e.29078\")>>,\n",
       " <bound method WebElement.get_attribute of <selenium.webdriver.remote.webelement.WebElement (session=\"18aeaeaaa3e569431c2566cb75fc6ce5\", element=\"f.299C1834576DE46EA71F90F40988873B.d.AC3927B532B85F7993A7F36D58710206.e.29202\")>>,\n",
       " <bound method WebElement.get_attribute of <selenium.webdriver.remote.webelement.WebElement (session=\"18aeaeaaa3e569431c2566cb75fc6ce5\", element=\"f.299C1834576DE46EA71F90F40988873B.d.AC3927B532B85F7993A7F36D58710206.e.29342\")>>,\n",
       " <bound method WebElement.get_attribute of <selenium.webdriver.remote.webelement.WebElement (session=\"18aeaeaaa3e569431c2566cb75fc6ce5\", element=\"f.299C1834576DE46EA71F90F40988873B.d.AC3927B532B85F7993A7F36D58710206.e.29465\")>>,\n",
       " <bound method WebElement.get_attribute of <selenium.webdriver.remote.webelement.WebElement (session=\"18aeaeaaa3e569431c2566cb75fc6ce5\", element=\"f.299C1834576DE46EA71F90F40988873B.d.AC3927B532B85F7993A7F36D58710206.e.29588\")>>,\n",
       " <bound method WebElement.get_attribute of <selenium.webdriver.remote.webelement.WebElement (session=\"18aeaeaaa3e569431c2566cb75fc6ce5\", element=\"f.299C1834576DE46EA71F90F40988873B.d.AC3927B532B85F7993A7F36D58710206.e.32078\")>>,\n",
       " <bound method WebElement.get_attribute of <selenium.webdriver.remote.webelement.WebElement (session=\"18aeaeaaa3e569431c2566cb75fc6ce5\", element=\"f.299C1834576DE46EA71F90F40988873B.d.AC3927B532B85F7993A7F36D58710206.e.32397\")>>,\n",
       " <bound method WebElement.get_attribute of <selenium.webdriver.remote.webelement.WebElement (session=\"18aeaeaaa3e569431c2566cb75fc6ce5\", element=\"f.299C1834576DE46EA71F90F40988873B.d.AC3927B532B85F7993A7F36D58710206.e.32712\")>>,\n",
       " <bound method WebElement.get_attribute of <selenium.webdriver.remote.webelement.WebElement (session=\"18aeaeaaa3e569431c2566cb75fc6ce5\", element=\"f.299C1834576DE46EA71F90F40988873B.d.AC3927B532B85F7993A7F36D58710206.e.33924\")>>,\n",
       " <bound method WebElement.get_attribute of <selenium.webdriver.remote.webelement.WebElement (session=\"18aeaeaaa3e569431c2566cb75fc6ce5\", element=\"f.299C1834576DE46EA71F90F40988873B.d.AC3927B532B85F7993A7F36D58710206.e.34051\")>>,\n",
       " <bound method WebElement.get_attribute of <selenium.webdriver.remote.webelement.WebElement (session=\"18aeaeaaa3e569431c2566cb75fc6ce5\", element=\"f.299C1834576DE46EA71F90F40988873B.d.AC3927B532B85F7993A7F36D58710206.e.34178\")>>,\n",
       " <bound method WebElement.get_attribute of <selenium.webdriver.remote.webelement.WebElement (session=\"18aeaeaaa3e569431c2566cb75fc6ce5\", element=\"f.299C1834576DE46EA71F90F40988873B.d.AC3927B532B85F7993A7F36D58710206.e.34301\")>>,\n",
       " <bound method WebElement.get_attribute of <selenium.webdriver.remote.webelement.WebElement (session=\"18aeaeaaa3e569431c2566cb75fc6ce5\", element=\"f.299C1834576DE46EA71F90F40988873B.d.AC3927B532B85F7993A7F36D58710206.e.34424\")>>,\n",
       " <bound method WebElement.get_attribute of <selenium.webdriver.remote.webelement.WebElement (session=\"18aeaeaaa3e569431c2566cb75fc6ce5\", element=\"f.299C1834576DE46EA71F90F40988873B.d.AC3927B532B85F7993A7F36D58710206.e.34547\")>>,\n",
       " <bound method WebElement.get_attribute of <selenium.webdriver.remote.webelement.WebElement (session=\"18aeaeaaa3e569431c2566cb75fc6ce5\", element=\"f.299C1834576DE46EA71F90F40988873B.d.AC3927B532B85F7993A7F36D58710206.e.34671\")>>,\n",
       " <bound method WebElement.get_attribute of <selenium.webdriver.remote.webelement.WebElement (session=\"18aeaeaaa3e569431c2566cb75fc6ce5\", element=\"f.299C1834576DE46EA71F90F40988873B.d.AC3927B532B85F7993A7F36D58710206.e.34811\")>>,\n",
       " <bound method WebElement.get_attribute of <selenium.webdriver.remote.webelement.WebElement (session=\"18aeaeaaa3e569431c2566cb75fc6ce5\", element=\"f.299C1834576DE46EA71F90F40988873B.d.AC3927B532B85F7993A7F36D58710206.e.34934\")>>,\n",
       " <bound method WebElement.get_attribute of <selenium.webdriver.remote.webelement.WebElement (session=\"18aeaeaaa3e569431c2566cb75fc6ce5\", element=\"f.299C1834576DE46EA71F90F40988873B.d.AC3927B532B85F7993A7F36D58710206.e.35057\")>>,\n",
       " <bound method WebElement.get_attribute of <selenium.webdriver.remote.webelement.WebElement (session=\"18aeaeaaa3e569431c2566cb75fc6ce5\", element=\"f.299C1834576DE46EA71F90F40988873B.d.AC3927B532B85F7993A7F36D58710206.e.35180\")>>,\n",
       " <bound method WebElement.get_attribute of <selenium.webdriver.remote.webelement.WebElement (session=\"18aeaeaaa3e569431c2566cb75fc6ce5\", element=\"f.299C1834576DE46EA71F90F40988873B.d.AC3927B532B85F7993A7F36D58710206.e.35303\")>>,\n",
       " <bound method WebElement.get_attribute of <selenium.webdriver.remote.webelement.WebElement (session=\"18aeaeaaa3e569431c2566cb75fc6ce5\", element=\"f.299C1834576DE46EA71F90F40988873B.d.AC3927B532B85F7993A7F36D58710206.e.35426\")>>,\n",
       " <bound method WebElement.get_attribute of <selenium.webdriver.remote.webelement.WebElement (session=\"18aeaeaaa3e569431c2566cb75fc6ce5\", element=\"f.299C1834576DE46EA71F90F40988873B.d.AC3927B532B85F7993A7F36D58710206.e.35550\")>>,\n",
       " <bound method WebElement.get_attribute of <selenium.webdriver.remote.webelement.WebElement (session=\"18aeaeaaa3e569431c2566cb75fc6ce5\", element=\"f.299C1834576DE46EA71F90F40988873B.d.AC3927B532B85F7993A7F36D58710206.e.35690\")>>,\n",
       " <bound method WebElement.get_attribute of <selenium.webdriver.remote.webelement.WebElement (session=\"18aeaeaaa3e569431c2566cb75fc6ce5\", element=\"f.299C1834576DE46EA71F90F40988873B.d.AC3927B532B85F7993A7F36D58710206.e.35813\")>>,\n",
       " <bound method WebElement.get_attribute of <selenium.webdriver.remote.webelement.WebElement (session=\"18aeaeaaa3e569431c2566cb75fc6ce5\", element=\"f.299C1834576DE46EA71F90F40988873B.d.AC3927B532B85F7993A7F36D58710206.e.35908\")>>,\n",
       " <bound method WebElement.get_attribute of <selenium.webdriver.remote.webelement.WebElement (session=\"18aeaeaaa3e569431c2566cb75fc6ce5\", element=\"f.299C1834576DE46EA71F90F40988873B.d.AC3927B532B85F7993A7F36D58710206.e.38339\")>>,\n",
       " <bound method WebElement.get_attribute of <selenium.webdriver.remote.webelement.WebElement (session=\"18aeaeaaa3e569431c2566cb75fc6ce5\", element=\"f.299C1834576DE46EA71F90F40988873B.d.AC3927B532B85F7993A7F36D58710206.e.38660\")>>,\n",
       " <bound method WebElement.get_attribute of <selenium.webdriver.remote.webelement.WebElement (session=\"18aeaeaaa3e569431c2566cb75fc6ce5\", element=\"f.299C1834576DE46EA71F90F40988873B.d.AC3927B532B85F7993A7F36D58710206.e.38973\")>>,\n",
       " <bound method WebElement.get_attribute of <selenium.webdriver.remote.webelement.WebElement (session=\"18aeaeaaa3e569431c2566cb75fc6ce5\", element=\"f.299C1834576DE46EA71F90F40988873B.d.AC3927B532B85F7993A7F36D58710206.e.40134\")>>,\n",
       " <bound method WebElement.get_attribute of <selenium.webdriver.remote.webelement.WebElement (session=\"18aeaeaaa3e569431c2566cb75fc6ce5\", element=\"f.299C1834576DE46EA71F90F40988873B.d.AC3927B532B85F7993A7F36D58710206.e.40257\")>>,\n",
       " <bound method WebElement.get_attribute of <selenium.webdriver.remote.webelement.WebElement (session=\"18aeaeaaa3e569431c2566cb75fc6ce5\", element=\"f.299C1834576DE46EA71F90F40988873B.d.AC3927B532B85F7993A7F36D58710206.e.40382\")>>,\n",
       " <bound method WebElement.get_attribute of <selenium.webdriver.remote.webelement.WebElement (session=\"18aeaeaaa3e569431c2566cb75fc6ce5\", element=\"f.299C1834576DE46EA71F90F40988873B.d.AC3927B532B85F7993A7F36D58710206.e.40505\")>>,\n",
       " <bound method WebElement.get_attribute of <selenium.webdriver.remote.webelement.WebElement (session=\"18aeaeaaa3e569431c2566cb75fc6ce5\", element=\"f.299C1834576DE46EA71F90F40988873B.d.AC3927B532B85F7993A7F36D58710206.e.40628\")>>,\n",
       " <bound method WebElement.get_attribute of <selenium.webdriver.remote.webelement.WebElement (session=\"18aeaeaaa3e569431c2566cb75fc6ce5\", element=\"f.299C1834576DE46EA71F90F40988873B.d.AC3927B532B85F7993A7F36D58710206.e.40752\")>>,\n",
       " <bound method WebElement.get_attribute of <selenium.webdriver.remote.webelement.WebElement (session=\"18aeaeaaa3e569431c2566cb75fc6ce5\", element=\"f.299C1834576DE46EA71F90F40988873B.d.AC3927B532B85F7993A7F36D58710206.e.40892\")>>,\n",
       " <bound method WebElement.get_attribute of <selenium.webdriver.remote.webelement.WebElement (session=\"18aeaeaaa3e569431c2566cb75fc6ce5\", element=\"f.299C1834576DE46EA71F90F40988873B.d.AC3927B532B85F7993A7F36D58710206.e.41015\")>>,\n",
       " <bound method WebElement.get_attribute of <selenium.webdriver.remote.webelement.WebElement (session=\"18aeaeaaa3e569431c2566cb75fc6ce5\", element=\"f.299C1834576DE46EA71F90F40988873B.d.AC3927B532B85F7993A7F36D58710206.e.41138\")>>,\n",
       " <bound method WebElement.get_attribute of <selenium.webdriver.remote.webelement.WebElement (session=\"18aeaeaaa3e569431c2566cb75fc6ce5\", element=\"f.299C1834576DE46EA71F90F40988873B.d.AC3927B532B85F7993A7F36D58710206.e.41261\")>>,\n",
       " <bound method WebElement.get_attribute of <selenium.webdriver.remote.webelement.WebElement (session=\"18aeaeaaa3e569431c2566cb75fc6ce5\", element=\"f.299C1834576DE46EA71F90F40988873B.d.AC3927B532B85F7993A7F36D58710206.e.41384\")>>,\n",
       " <bound method WebElement.get_attribute of <selenium.webdriver.remote.webelement.WebElement (session=\"18aeaeaaa3e569431c2566cb75fc6ce5\", element=\"f.299C1834576DE46EA71F90F40988873B.d.AC3927B532B85F7993A7F36D58710206.e.41507\")>>,\n",
       " <bound method WebElement.get_attribute of <selenium.webdriver.remote.webelement.WebElement (session=\"18aeaeaaa3e569431c2566cb75fc6ce5\", element=\"f.299C1834576DE46EA71F90F40988873B.d.AC3927B532B85F7993A7F36D58710206.e.41602\")>>,\n",
       " <bound method WebElement.get_attribute of <selenium.webdriver.remote.webelement.WebElement (session=\"18aeaeaaa3e569431c2566cb75fc6ce5\", element=\"f.299C1834576DE46EA71F90F40988873B.d.AC3927B532B85F7993A7F36D58710206.e.41725\")>>,\n",
       " <bound method WebElement.get_attribute of <selenium.webdriver.remote.webelement.WebElement (session=\"18aeaeaaa3e569431c2566cb75fc6ce5\", element=\"f.299C1834576DE46EA71F90F40988873B.d.AC3927B532B85F7993A7F36D58710206.e.41848\")>>,\n",
       " <bound method WebElement.get_attribute of <selenium.webdriver.remote.webelement.WebElement (session=\"18aeaeaaa3e569431c2566cb75fc6ce5\", element=\"f.299C1834576DE46EA71F90F40988873B.d.AC3927B532B85F7993A7F36D58710206.e.41971\")>>,\n",
       " <bound method WebElement.get_attribute of <selenium.webdriver.remote.webelement.WebElement (session=\"18aeaeaaa3e569431c2566cb75fc6ce5\", element=\"f.299C1834576DE46EA71F90F40988873B.d.AC3927B532B85F7993A7F36D58710206.e.42066\")>>,\n",
       " <bound method WebElement.get_attribute of <selenium.webdriver.remote.webelement.WebElement (session=\"18aeaeaaa3e569431c2566cb75fc6ce5\", element=\"f.299C1834576DE46EA71F90F40988873B.d.AC3927B532B85F7993A7F36D58710206.e.44425\")>>,\n",
       " <bound method WebElement.get_attribute of <selenium.webdriver.remote.webelement.WebElement (session=\"18aeaeaaa3e569431c2566cb75fc6ce5\", element=\"f.299C1834576DE46EA71F90F40988873B.d.AC3927B532B85F7993A7F36D58710206.e.44780\")>>,\n",
       " <bound method WebElement.get_attribute of <selenium.webdriver.remote.webelement.WebElement (session=\"18aeaeaaa3e569431c2566cb75fc6ce5\", element=\"f.299C1834576DE46EA71F90F40988873B.d.AC3927B532B85F7993A7F36D58710206.e.45093\")>>,\n",
       " <bound method WebElement.get_attribute of <selenium.webdriver.remote.webelement.WebElement (session=\"18aeaeaaa3e569431c2566cb75fc6ce5\", element=\"f.299C1834576DE46EA71F90F40988873B.d.AC3927B532B85F7993A7F36D58710206.e.45846\")>>,\n",
       " <bound method WebElement.get_attribute of <selenium.webdriver.remote.webelement.WebElement (session=\"18aeaeaaa3e569431c2566cb75fc6ce5\", element=\"f.299C1834576DE46EA71F90F40988873B.d.AC3927B532B85F7993A7F36D58710206.e.45969\")>>,\n",
       " <bound method WebElement.get_attribute of <selenium.webdriver.remote.webelement.WebElement (session=\"18aeaeaaa3e569431c2566cb75fc6ce5\", element=\"f.299C1834576DE46EA71F90F40988873B.d.AC3927B532B85F7993A7F36D58710206.e.46094\")>>,\n",
       " <bound method WebElement.get_attribute of <selenium.webdriver.remote.webelement.WebElement (session=\"18aeaeaaa3e569431c2566cb75fc6ce5\", element=\"f.299C1834576DE46EA71F90F40988873B.d.AC3927B532B85F7993A7F36D58710206.e.46217\")>>,\n",
       " <bound method WebElement.get_attribute of <selenium.webdriver.remote.webelement.WebElement (session=\"18aeaeaaa3e569431c2566cb75fc6ce5\", element=\"f.299C1834576DE46EA71F90F40988873B.d.AC3927B532B85F7993A7F36D58710206.e.46340\")>>,\n",
       " <bound method WebElement.get_attribute of <selenium.webdriver.remote.webelement.WebElement (session=\"18aeaeaaa3e569431c2566cb75fc6ce5\", element=\"f.299C1834576DE46EA71F90F40988873B.d.AC3927B532B85F7993A7F36D58710206.e.46464\")>>,\n",
       " <bound method WebElement.get_attribute of <selenium.webdriver.remote.webelement.WebElement (session=\"18aeaeaaa3e569431c2566cb75fc6ce5\", element=\"f.299C1834576DE46EA71F90F40988873B.d.AC3927B532B85F7993A7F36D58710206.e.46604\")>>,\n",
       " <bound method WebElement.get_attribute of <selenium.webdriver.remote.webelement.WebElement (session=\"18aeaeaaa3e569431c2566cb75fc6ce5\", element=\"f.299C1834576DE46EA71F90F40988873B.d.AC3927B532B85F7993A7F36D58710206.e.46727\")>>,\n",
       " <bound method WebElement.get_attribute of <selenium.webdriver.remote.webelement.WebElement (session=\"18aeaeaaa3e569431c2566cb75fc6ce5\", element=\"f.299C1834576DE46EA71F90F40988873B.d.AC3927B532B85F7993A7F36D58710206.e.47993\")>>,\n",
       " <bound method WebElement.get_attribute of <selenium.webdriver.remote.webelement.WebElement (session=\"18aeaeaaa3e569431c2566cb75fc6ce5\", element=\"f.299C1834576DE46EA71F90F40988873B.d.AC3927B532B85F7993A7F36D58710206.e.48306\")>>,\n",
       " <bound method WebElement.get_attribute of <selenium.webdriver.remote.webelement.WebElement (session=\"18aeaeaaa3e569431c2566cb75fc6ce5\", element=\"f.299C1834576DE46EA71F90F40988873B.d.AC3927B532B85F7993A7F36D58710206.e.48589\")>>,\n",
       " <bound method WebElement.get_attribute of <selenium.webdriver.remote.webelement.WebElement (session=\"18aeaeaaa3e569431c2566cb75fc6ce5\", element=\"f.299C1834576DE46EA71F90F40988873B.d.AC3927B532B85F7993A7F36D58710206.e.48902\")>>,\n",
       " <bound method WebElement.get_attribute of <selenium.webdriver.remote.webelement.WebElement (session=\"18aeaeaaa3e569431c2566cb75fc6ce5\", element=\"f.299C1834576DE46EA71F90F40988873B.d.AC3927B532B85F7993A7F36D58710206.e.49214\")>>,\n",
       " <bound method WebElement.get_attribute of <selenium.webdriver.remote.webelement.WebElement (session=\"18aeaeaaa3e569431c2566cb75fc6ce5\", element=\"f.299C1834576DE46EA71F90F40988873B.d.AC3927B532B85F7993A7F36D58710206.e.49543\")>>,\n",
       " <bound method WebElement.get_attribute of <selenium.webdriver.remote.webelement.WebElement (session=\"18aeaeaaa3e569431c2566cb75fc6ce5\", element=\"f.299C1834576DE46EA71F90F40988873B.d.AC3927B532B85F7993A7F36D58710206.e.49792\")>>,\n",
       " <bound method WebElement.get_attribute of <selenium.webdriver.remote.webelement.WebElement (session=\"18aeaeaaa3e569431c2566cb75fc6ce5\", element=\"f.299C1834576DE46EA71F90F40988873B.d.AC3927B532B85F7993A7F36D58710206.e.50023\")>>,\n",
       " <bound method WebElement.get_attribute of <selenium.webdriver.remote.webelement.WebElement (session=\"18aeaeaaa3e569431c2566cb75fc6ce5\", element=\"f.299C1834576DE46EA71F90F40988873B.d.AC3927B532B85F7993A7F36D58710206.e.50337\")>>,\n",
       " <bound method WebElement.get_attribute of <selenium.webdriver.remote.webelement.WebElement (session=\"18aeaeaaa3e569431c2566cb75fc6ce5\", element=\"f.299C1834576DE46EA71F90F40988873B.d.AC3927B532B85F7993A7F36D58710206.e.50688\")>>,\n",
       " <bound method WebElement.get_attribute of <selenium.webdriver.remote.webelement.WebElement (session=\"18aeaeaaa3e569431c2566cb75fc6ce5\", element=\"f.299C1834576DE46EA71F90F40988873B.d.AC3927B532B85F7993A7F36D58710206.e.51001\")>>,\n",
       " <bound method WebElement.get_attribute of <selenium.webdriver.remote.webelement.WebElement (session=\"18aeaeaaa3e569431c2566cb75fc6ce5\", element=\"f.299C1834576DE46EA71F90F40988873B.d.AC3927B532B85F7993A7F36D58710206.e.51314\")>>,\n",
       " <bound method WebElement.get_attribute of <selenium.webdriver.remote.webelement.WebElement (session=\"18aeaeaaa3e569431c2566cb75fc6ce5\", element=\"f.299C1834576DE46EA71F90F40988873B.d.AC3927B532B85F7993A7F36D58710206.e.52374\")>>,\n",
       " <bound method WebElement.get_attribute of <selenium.webdriver.remote.webelement.WebElement (session=\"18aeaeaaa3e569431c2566cb75fc6ce5\", element=\"f.299C1834576DE46EA71F90F40988873B.d.AC3927B532B85F7993A7F36D58710206.e.52514\")>>,\n",
       " <bound method WebElement.get_attribute of <selenium.webdriver.remote.webelement.WebElement (session=\"18aeaeaaa3e569431c2566cb75fc6ce5\", element=\"f.299C1834576DE46EA71F90F40988873B.d.AC3927B532B85F7993A7F36D58710206.e.52637\")>>,\n",
       " <bound method WebElement.get_attribute of <selenium.webdriver.remote.webelement.WebElement (session=\"18aeaeaaa3e569431c2566cb75fc6ce5\", element=\"f.299C1834576DE46EA71F90F40988873B.d.AC3927B532B85F7993A7F36D58710206.e.52760\")>>,\n",
       " <bound method WebElement.get_attribute of <selenium.webdriver.remote.webelement.WebElement (session=\"18aeaeaaa3e569431c2566cb75fc6ce5\", element=\"f.299C1834576DE46EA71F90F40988873B.d.AC3927B532B85F7993A7F36D58710206.e.53492\")>>,\n",
       " <bound method WebElement.get_attribute of <selenium.webdriver.remote.webelement.WebElement (session=\"18aeaeaaa3e569431c2566cb75fc6ce5\", element=\"f.299C1834576DE46EA71F90F40988873B.d.AC3927B532B85F7993A7F36D58710206.e.53808\")>>,\n",
       " <bound method WebElement.get_attribute of <selenium.webdriver.remote.webelement.WebElement (session=\"18aeaeaaa3e569431c2566cb75fc6ce5\", element=\"f.299C1834576DE46EA71F90F40988873B.d.AC3927B532B85F7993A7F36D58710206.e.54159\")>>,\n",
       " <bound method WebElement.get_attribute of <selenium.webdriver.remote.webelement.WebElement (session=\"18aeaeaaa3e569431c2566cb75fc6ce5\", element=\"f.299C1834576DE46EA71F90F40988873B.d.AC3927B532B85F7993A7F36D58710206.e.54472\")>>,\n",
       " <bound method WebElement.get_attribute of <selenium.webdriver.remote.webelement.WebElement (session=\"18aeaeaaa3e569431c2566cb75fc6ce5\", element=\"f.299C1834576DE46EA71F90F40988873B.d.AC3927B532B85F7993A7F36D58710206.e.54785\")>>,\n",
       " <bound method WebElement.get_attribute of <selenium.webdriver.remote.webelement.WebElement (session=\"18aeaeaaa3e569431c2566cb75fc6ce5\", element=\"f.299C1834576DE46EA71F90F40988873B.d.AC3927B532B85F7993A7F36D58710206.e.55098\")>>,\n",
       " <bound method WebElement.get_attribute of <selenium.webdriver.remote.webelement.WebElement (session=\"18aeaeaaa3e569431c2566cb75fc6ce5\", element=\"f.299C1834576DE46EA71F90F40988873B.d.AC3927B532B85F7993A7F36D58710206.e.55412\")>>,\n",
       " <bound method WebElement.get_attribute of <selenium.webdriver.remote.webelement.WebElement (session=\"18aeaeaaa3e569431c2566cb75fc6ce5\", element=\"f.299C1834576DE46EA71F90F40988873B.d.AC3927B532B85F7993A7F36D58710206.e.55763\")>>,\n",
       " <bound method WebElement.get_attribute of <selenium.webdriver.remote.webelement.WebElement (session=\"18aeaeaaa3e569431c2566cb75fc6ce5\", element=\"f.299C1834576DE46EA71F90F40988873B.d.AC3927B532B85F7993A7F36D58710206.e.56076\")>>,\n",
       " <bound method WebElement.get_attribute of <selenium.webdriver.remote.webelement.WebElement (session=\"18aeaeaaa3e569431c2566cb75fc6ce5\", element=\"f.299C1834576DE46EA71F90F40988873B.d.AC3927B532B85F7993A7F36D58710206.e.56427\")>>,\n",
       " <bound method WebElement.get_attribute of <selenium.webdriver.remote.webelement.WebElement (session=\"18aeaeaaa3e569431c2566cb75fc6ce5\", element=\"f.299C1834576DE46EA71F90F40988873B.d.AC3927B532B85F7993A7F36D58710206.e.56739\")>>,\n",
       " <bound method WebElement.get_attribute of <selenium.webdriver.remote.webelement.WebElement (session=\"18aeaeaaa3e569431c2566cb75fc6ce5\", element=\"f.299C1834576DE46EA71F90F40988873B.d.AC3927B532B85F7993A7F36D58710206.e.57053\")>>,\n",
       " <bound method WebElement.get_attribute of <selenium.webdriver.remote.webelement.WebElement (session=\"18aeaeaaa3e569431c2566cb75fc6ce5\", element=\"f.299C1834576DE46EA71F90F40988873B.d.AC3927B532B85F7993A7F36D58710206.e.57372\")>>,\n",
       " <bound method WebElement.get_attribute of <selenium.webdriver.remote.webelement.WebElement (session=\"18aeaeaaa3e569431c2566cb75fc6ce5\", element=\"f.299C1834576DE46EA71F90F40988873B.d.AC3927B532B85F7993A7F36D58710206.e.57685\")>>,\n",
       " <bound method WebElement.get_attribute of <selenium.webdriver.remote.webelement.WebElement (session=\"18aeaeaaa3e569431c2566cb75fc6ce5\", element=\"f.299C1834576DE46EA71F90F40988873B.d.AC3927B532B85F7993A7F36D58710206.e.57998\")>>,\n",
       " <bound method WebElement.get_attribute of <selenium.webdriver.remote.webelement.WebElement (session=\"18aeaeaaa3e569431c2566cb75fc6ce5\", element=\"f.299C1834576DE46EA71F90F40988873B.d.AC3927B532B85F7993A7F36D58710206.e.58311\")>>,\n",
       " <bound method WebElement.get_attribute of <selenium.webdriver.remote.webelement.WebElement (session=\"18aeaeaaa3e569431c2566cb75fc6ce5\", element=\"f.299C1834576DE46EA71F90F40988873B.d.AC3927B532B85F7993A7F36D58710206.e.59337\")>>,\n",
       " <bound method WebElement.get_attribute of <selenium.webdriver.remote.webelement.WebElement (session=\"18aeaeaaa3e569431c2566cb75fc6ce5\", element=\"f.299C1834576DE46EA71F90F40988873B.d.AC3927B532B85F7993A7F36D58710206.e.59460\")>>,\n",
       " <bound method WebElement.get_attribute of <selenium.webdriver.remote.webelement.WebElement (session=\"18aeaeaaa3e569431c2566cb75fc6ce5\", element=\"f.299C1834576DE46EA71F90F40988873B.d.AC3927B532B85F7993A7F36D58710206.e.59585\")>>,\n",
       " <bound method WebElement.get_attribute of <selenium.webdriver.remote.webelement.WebElement (session=\"18aeaeaaa3e569431c2566cb75fc6ce5\", element=\"f.299C1834576DE46EA71F90F40988873B.d.AC3927B532B85F7993A7F36D58710206.e.59708\")>>,\n",
       " <bound method WebElement.get_attribute of <selenium.webdriver.remote.webelement.WebElement (session=\"18aeaeaaa3e569431c2566cb75fc6ce5\", element=\"f.299C1834576DE46EA71F90F40988873B.d.AC3927B532B85F7993A7F36D58710206.e.59833\")>>,\n",
       " <bound method WebElement.get_attribute of <selenium.webdriver.remote.webelement.WebElement (session=\"18aeaeaaa3e569431c2566cb75fc6ce5\", element=\"f.299C1834576DE46EA71F90F40988873B.d.AC3927B532B85F7993A7F36D58710206.e.59956\")>>,\n",
       " <bound method WebElement.get_attribute of <selenium.webdriver.remote.webelement.WebElement (session=\"18aeaeaaa3e569431c2566cb75fc6ce5\", element=\"f.299C1834576DE46EA71F90F40988873B.d.AC3927B532B85F7993A7F36D58710206.e.60057\")>>,\n",
       " <bound method WebElement.get_attribute of <selenium.webdriver.remote.webelement.WebElement (session=\"18aeaeaaa3e569431c2566cb75fc6ce5\", element=\"f.299C1834576DE46EA71F90F40988873B.d.AC3927B532B85F7993A7F36D58710206.e.60180\")>>,\n",
       " <bound method WebElement.get_attribute of <selenium.webdriver.remote.webelement.WebElement (session=\"18aeaeaaa3e569431c2566cb75fc6ce5\", element=\"f.299C1834576DE46EA71F90F40988873B.d.AC3927B532B85F7993A7F36D58710206.e.60305\")>>,\n",
       " <bound method WebElement.get_attribute of <selenium.webdriver.remote.webelement.WebElement (session=\"18aeaeaaa3e569431c2566cb75fc6ce5\", element=\"f.299C1834576DE46EA71F90F40988873B.d.AC3927B532B85F7993A7F36D58710206.e.60428\")>>,\n",
       " <bound method WebElement.get_attribute of <selenium.webdriver.remote.webelement.WebElement (session=\"18aeaeaaa3e569431c2566cb75fc6ce5\", element=\"f.299C1834576DE46EA71F90F40988873B.d.AC3927B532B85F7993A7F36D58710206.e.60551\")>>,\n",
       " <bound method WebElement.get_attribute of <selenium.webdriver.remote.webelement.WebElement (session=\"18aeaeaaa3e569431c2566cb75fc6ce5\", element=\"f.299C1834576DE46EA71F90F40988873B.d.AC3927B532B85F7993A7F36D58710206.e.60674\")>>,\n",
       " <bound method WebElement.get_attribute of <selenium.webdriver.remote.webelement.WebElement (session=\"18aeaeaaa3e569431c2566cb75fc6ce5\", element=\"f.299C1834576DE46EA71F90F40988873B.d.AC3927B532B85F7993A7F36D58710206.e.60798\")>>,\n",
       " <bound method WebElement.get_attribute of <selenium.webdriver.remote.webelement.WebElement (session=\"18aeaeaaa3e569431c2566cb75fc6ce5\", element=\"f.299C1834576DE46EA71F90F40988873B.d.AC3927B532B85F7993A7F36D58710206.e.62692\")>>,\n",
       " <bound method WebElement.get_attribute of <selenium.webdriver.remote.webelement.WebElement (session=\"18aeaeaaa3e569431c2566cb75fc6ce5\", element=\"f.299C1834576DE46EA71F90F40988873B.d.AC3927B532B85F7993A7F36D58710206.e.63004\")>>,\n",
       " <bound method WebElement.get_attribute of <selenium.webdriver.remote.webelement.WebElement (session=\"18aeaeaaa3e569431c2566cb75fc6ce5\", element=\"f.299C1834576DE46EA71F90F40988873B.d.AC3927B532B85F7993A7F36D58710206.e.63316\")>>,\n",
       " <bound method WebElement.get_attribute of <selenium.webdriver.remote.webelement.WebElement (session=\"18aeaeaaa3e569431c2566cb75fc6ce5\", element=\"f.299C1834576DE46EA71F90F40988873B.d.AC3927B532B85F7993A7F36D58710206.e.63629\")>>,\n",
       " <bound method WebElement.get_attribute of <selenium.webdriver.remote.webelement.WebElement (session=\"18aeaeaaa3e569431c2566cb75fc6ce5\", element=\"f.299C1834576DE46EA71F90F40988873B.d.AC3927B532B85F7993A7F36D58710206.e.63942\")>>,\n",
       " <bound method WebElement.get_attribute of <selenium.webdriver.remote.webelement.WebElement (session=\"18aeaeaaa3e569431c2566cb75fc6ce5\", element=\"f.299C1834576DE46EA71F90F40988873B.d.AC3927B532B85F7993A7F36D58710206.e.64255\")>>,\n",
       " <bound method WebElement.get_attribute of <selenium.webdriver.remote.webelement.WebElement (session=\"18aeaeaaa3e569431c2566cb75fc6ce5\", element=\"f.299C1834576DE46EA71F90F40988873B.d.AC3927B532B85F7993A7F36D58710206.e.64568\")>>,\n",
       " <bound method WebElement.get_attribute of <selenium.webdriver.remote.webelement.WebElement (session=\"18aeaeaaa3e569431c2566cb75fc6ce5\", element=\"f.299C1834576DE46EA71F90F40988873B.d.AC3927B532B85F7993A7F36D58710206.e.65043\")>>,\n",
       " <bound method WebElement.get_attribute of <selenium.webdriver.remote.webelement.WebElement (session=\"18aeaeaaa3e569431c2566cb75fc6ce5\", element=\"f.299C1834576DE46EA71F90F40988873B.d.AC3927B532B85F7993A7F36D58710206.e.65356\")>>,\n",
       " <bound method WebElement.get_attribute of <selenium.webdriver.remote.webelement.WebElement (session=\"18aeaeaaa3e569431c2566cb75fc6ce5\", element=\"f.299C1834576DE46EA71F90F40988873B.d.AC3927B532B85F7993A7F36D58710206.e.65669\")>>,\n",
       " <bound method WebElement.get_attribute of <selenium.webdriver.remote.webelement.WebElement (session=\"18aeaeaaa3e569431c2566cb75fc6ce5\", element=\"f.299C1834576DE46EA71F90F40988873B.d.AC3927B532B85F7993A7F36D58710206.e.65985\")>>,\n",
       " <bound method WebElement.get_attribute of <selenium.webdriver.remote.webelement.WebElement (session=\"18aeaeaaa3e569431c2566cb75fc6ce5\", element=\"f.299C1834576DE46EA71F90F40988873B.d.AC3927B532B85F7993A7F36D58710206.e.66298\")>>,\n",
       " <bound method WebElement.get_attribute of <selenium.webdriver.remote.webelement.WebElement (session=\"18aeaeaaa3e569431c2566cb75fc6ce5\", element=\"f.299C1834576DE46EA71F90F40988873B.d.AC3927B532B85F7993A7F36D58710206.e.66611\")>>,\n",
       " <bound method WebElement.get_attribute of <selenium.webdriver.remote.webelement.WebElement (session=\"18aeaeaaa3e569431c2566cb75fc6ce5\", element=\"f.299C1834576DE46EA71F90F40988873B.d.AC3927B532B85F7993A7F36D58710206.e.66940\")>>,\n",
       " <bound method WebElement.get_attribute of <selenium.webdriver.remote.webelement.WebElement (session=\"18aeaeaaa3e569431c2566cb75fc6ce5\", element=\"f.299C1834576DE46EA71F90F40988873B.d.AC3927B532B85F7993A7F36D58710206.e.67259\")>>,\n",
       " <bound method WebElement.get_attribute of <selenium.webdriver.remote.webelement.WebElement (session=\"18aeaeaaa3e569431c2566cb75fc6ce5\", element=\"f.299C1834576DE46EA71F90F40988873B.d.AC3927B532B85F7993A7F36D58710206.e.67557\")>>,\n",
       " <bound method WebElement.get_attribute of <selenium.webdriver.remote.webelement.WebElement (session=\"18aeaeaaa3e569431c2566cb75fc6ce5\", element=\"f.299C1834576DE46EA71F90F40988873B.d.AC3927B532B85F7993A7F36D58710206.e.67908\")>>,\n",
       " <bound method WebElement.get_attribute of <selenium.webdriver.remote.webelement.WebElement (session=\"18aeaeaaa3e569431c2566cb75fc6ce5\", element=\"f.299C1834576DE46EA71F90F40988873B.d.AC3927B532B85F7993A7F36D58710206.e.68170\")>>,\n",
       " <bound method WebElement.get_attribute of <selenium.webdriver.remote.webelement.WebElement (session=\"18aeaeaaa3e569431c2566cb75fc6ce5\", element=\"f.299C1834576DE46EA71F90F40988873B.d.AC3927B532B85F7993A7F36D58710206.e.68403\")>>,\n",
       " <bound method WebElement.get_attribute of <selenium.webdriver.remote.webelement.WebElement (session=\"18aeaeaaa3e569431c2566cb75fc6ce5\", element=\"f.299C1834576DE46EA71F90F40988873B.d.AC3927B532B85F7993A7F36D58710206.e.68717\")>>,\n",
       " <bound method WebElement.get_attribute of <selenium.webdriver.remote.webelement.WebElement (session=\"18aeaeaaa3e569431c2566cb75fc6ce5\", element=\"f.299C1834576DE46EA71F90F40988873B.d.AC3927B532B85F7993A7F36D58710206.e.69030\")>>,\n",
       " <bound method WebElement.get_attribute of <selenium.webdriver.remote.webelement.WebElement (session=\"18aeaeaaa3e569431c2566cb75fc6ce5\", element=\"f.299C1834576DE46EA71F90F40988873B.d.AC3927B532B85F7993A7F36D58710206.e.69343\")>>,\n",
       " <bound method WebElement.get_attribute of <selenium.webdriver.remote.webelement.WebElement (session=\"18aeaeaaa3e569431c2566cb75fc6ce5\", element=\"f.299C1834576DE46EA71F90F40988873B.d.AC3927B532B85F7993A7F36D58710206.e.69655\")>>,\n",
       " <bound method WebElement.get_attribute of <selenium.webdriver.remote.webelement.WebElement (session=\"18aeaeaaa3e569431c2566cb75fc6ce5\", element=\"f.299C1834576DE46EA71F90F40988873B.d.AC3927B532B85F7993A7F36D58710206.e.69967\")>>,\n",
       " <bound method WebElement.get_attribute of <selenium.webdriver.remote.webelement.WebElement (session=\"18aeaeaaa3e569431c2566cb75fc6ce5\", element=\"f.299C1834576DE46EA71F90F40988873B.d.AC3927B532B85F7993A7F36D58710206.e.70280\")>>,\n",
       " <bound method WebElement.get_attribute of <selenium.webdriver.remote.webelement.WebElement (session=\"18aeaeaaa3e569431c2566cb75fc6ce5\", element=\"f.299C1834576DE46EA71F90F40988873B.d.AC3927B532B85F7993A7F36D58710206.e.70594\")>>,\n",
       " <bound method WebElement.get_attribute of <selenium.webdriver.remote.webelement.WebElement (session=\"18aeaeaaa3e569431c2566cb75fc6ce5\", element=\"f.299C1834576DE46EA71F90F40988873B.d.AC3927B532B85F7993A7F36D58710206.e.70910\")>>,\n",
       " <bound method WebElement.get_attribute of <selenium.webdriver.remote.webelement.WebElement (session=\"18aeaeaaa3e569431c2566cb75fc6ce5\", element=\"f.299C1834576DE46EA71F90F40988873B.d.AC3927B532B85F7993A7F36D58710206.e.71720\")>>,\n",
       " <bound method WebElement.get_attribute of <selenium.webdriver.remote.webelement.WebElement (session=\"18aeaeaaa3e569431c2566cb75fc6ce5\", element=\"f.299C1834576DE46EA71F90F40988873B.d.AC3927B532B85F7993A7F36D58710206.e.71843\")>>,\n",
       " <bound method WebElement.get_attribute of <selenium.webdriver.remote.webelement.WebElement (session=\"18aeaeaaa3e569431c2566cb75fc6ce5\", element=\"f.299C1834576DE46EA71F90F40988873B.d.AC3927B532B85F7993A7F36D58710206.e.71966\")>>,\n",
       " <bound method WebElement.get_attribute of <selenium.webdriver.remote.webelement.WebElement (session=\"18aeaeaaa3e569431c2566cb75fc6ce5\", element=\"f.299C1834576DE46EA71F90F40988873B.d.AC3927B532B85F7993A7F36D58710206.e.72089\")>>,\n",
       " <bound method WebElement.get_attribute of <selenium.webdriver.remote.webelement.WebElement (session=\"18aeaeaaa3e569431c2566cb75fc6ce5\", element=\"f.299C1834576DE46EA71F90F40988873B.d.AC3927B532B85F7993A7F36D58710206.e.72212\")>>,\n",
       " <bound method WebElement.get_attribute of <selenium.webdriver.remote.webelement.WebElement (session=\"18aeaeaaa3e569431c2566cb75fc6ce5\", element=\"f.299C1834576DE46EA71F90F40988873B.d.AC3927B532B85F7993A7F36D58710206.e.72335\")>>,\n",
       " <bound method WebElement.get_attribute of <selenium.webdriver.remote.webelement.WebElement (session=\"18aeaeaaa3e569431c2566cb75fc6ce5\", element=\"f.299C1834576DE46EA71F90F40988873B.d.AC3927B532B85F7993A7F36D58710206.e.72458\")>>,\n",
       " <bound method WebElement.get_attribute of <selenium.webdriver.remote.webelement.WebElement (session=\"18aeaeaaa3e569431c2566cb75fc6ce5\", element=\"f.299C1834576DE46EA71F90F40988873B.d.AC3927B532B85F7993A7F36D58710206.e.73564\")>>,\n",
       " <bound method WebElement.get_attribute of <selenium.webdriver.remote.webelement.WebElement (session=\"18aeaeaaa3e569431c2566cb75fc6ce5\", element=\"f.299C1834576DE46EA71F90F40988873B.d.AC3927B532B85F7993A7F36D58710206.e.73878\")>>,\n",
       " <bound method WebElement.get_attribute of <selenium.webdriver.remote.webelement.WebElement (session=\"18aeaeaaa3e569431c2566cb75fc6ce5\", element=\"f.299C1834576DE46EA71F90F40988873B.d.AC3927B532B85F7993A7F36D58710206.e.74191\")>>,\n",
       " <bound method WebElement.get_attribute of <selenium.webdriver.remote.webelement.WebElement (session=\"18aeaeaaa3e569431c2566cb75fc6ce5\", element=\"f.299C1834576DE46EA71F90F40988873B.d.AC3927B532B85F7993A7F36D58710206.e.74503\")>>,\n",
       " <bound method WebElement.get_attribute of <selenium.webdriver.remote.webelement.WebElement (session=\"18aeaeaaa3e569431c2566cb75fc6ce5\", element=\"f.299C1834576DE46EA71F90F40988873B.d.AC3927B532B85F7993A7F36D58710206.e.74834\")>>,\n",
       " <bound method WebElement.get_attribute of <selenium.webdriver.remote.webelement.WebElement (session=\"18aeaeaaa3e569431c2566cb75fc6ce5\", element=\"f.299C1834576DE46EA71F90F40988873B.d.AC3927B532B85F7993A7F36D58710206.e.75133\")>>,\n",
       " <bound method WebElement.get_attribute of <selenium.webdriver.remote.webelement.WebElement (session=\"18aeaeaaa3e569431c2566cb75fc6ce5\", element=\"f.299C1834576DE46EA71F90F40988873B.d.AC3927B532B85F7993A7F36D58710206.e.75406\")>>,\n",
       " <bound method WebElement.get_attribute of <selenium.webdriver.remote.webelement.WebElement (session=\"18aeaeaaa3e569431c2566cb75fc6ce5\", element=\"f.299C1834576DE46EA71F90F40988873B.d.AC3927B532B85F7993A7F36D58710206.e.75637\")>>,\n",
       " <bound method WebElement.get_attribute of <selenium.webdriver.remote.webelement.WebElement (session=\"18aeaeaaa3e569431c2566cb75fc6ce5\", element=\"f.299C1834576DE46EA71F90F40988873B.d.AC3927B532B85F7993A7F36D58710206.e.75950\")>>,\n",
       " <bound method WebElement.get_attribute of <selenium.webdriver.remote.webelement.WebElement (session=\"18aeaeaaa3e569431c2566cb75fc6ce5\", element=\"f.299C1834576DE46EA71F90F40988873B.d.AC3927B532B85F7993A7F36D58710206.e.76262\")>>,\n",
       " <bound method WebElement.get_attribute of <selenium.webdriver.remote.webelement.WebElement (session=\"18aeaeaaa3e569431c2566cb75fc6ce5\", element=\"f.299C1834576DE46EA71F90F40988873B.d.AC3927B532B85F7993A7F36D58710206.e.76574\")>>,\n",
       " <bound method WebElement.get_attribute of <selenium.webdriver.remote.webelement.WebElement (session=\"18aeaeaaa3e569431c2566cb75fc6ce5\", element=\"f.299C1834576DE46EA71F90F40988873B.d.AC3927B532B85F7993A7F36D58710206.e.76887\")>>,\n",
       " <bound method WebElement.get_attribute of <selenium.webdriver.remote.webelement.WebElement (session=\"18aeaeaaa3e569431c2566cb75fc6ce5\", element=\"f.299C1834576DE46EA71F90F40988873B.d.AC3927B532B85F7993A7F36D58710206.e.77152\")>>,\n",
       " <bound method WebElement.get_attribute of <selenium.webdriver.remote.webelement.WebElement (session=\"18aeaeaaa3e569431c2566cb75fc6ce5\", element=\"f.299C1834576DE46EA71F90F40988873B.d.AC3927B532B85F7993A7F36D58710206.e.77817\")>>,\n",
       " <bound method WebElement.get_attribute of <selenium.webdriver.remote.webelement.WebElement (session=\"18aeaeaaa3e569431c2566cb75fc6ce5\", element=\"f.299C1834576DE46EA71F90F40988873B.d.AC3927B532B85F7993A7F36D58710206.e.77940\")>>,\n",
       " <bound method WebElement.get_attribute of <selenium.webdriver.remote.webelement.WebElement (session=\"18aeaeaaa3e569431c2566cb75fc6ce5\", element=\"f.299C1834576DE46EA71F90F40988873B.d.AC3927B532B85F7993A7F36D58710206.e.78063\")>>,\n",
       " <bound method WebElement.get_attribute of <selenium.webdriver.remote.webelement.WebElement (session=\"18aeaeaaa3e569431c2566cb75fc6ce5\", element=\"f.299C1834576DE46EA71F90F40988873B.d.AC3927B532B85F7993A7F36D58710206.e.78188\")>>,\n",
       " <bound method WebElement.get_attribute of <selenium.webdriver.remote.webelement.WebElement (session=\"18aeaeaaa3e569431c2566cb75fc6ce5\", element=\"f.299C1834576DE46EA71F90F40988873B.d.AC3927B532B85F7993A7F36D58710206.e.78311\")>>,\n",
       " <bound method WebElement.get_attribute of <selenium.webdriver.remote.webelement.WebElement (session=\"18aeaeaaa3e569431c2566cb75fc6ce5\", element=\"f.299C1834576DE46EA71F90F40988873B.d.AC3927B532B85F7993A7F36D58710206.e.78434\")>>,\n",
       " <bound method WebElement.get_attribute of <selenium.webdriver.remote.webelement.WebElement (session=\"18aeaeaaa3e569431c2566cb75fc6ce5\", element=\"f.299C1834576DE46EA71F90F40988873B.d.AC3927B532B85F7993A7F36D58710206.e.78557\")>>,\n",
       " <bound method WebElement.get_attribute of <selenium.webdriver.remote.webelement.WebElement (session=\"18aeaeaaa3e569431c2566cb75fc6ce5\", element=\"f.299C1834576DE46EA71F90F40988873B.d.AC3927B532B85F7993A7F36D58710206.e.78680\")>>,\n",
       " <bound method WebElement.get_attribute of <selenium.webdriver.remote.webelement.WebElement (session=\"18aeaeaaa3e569431c2566cb75fc6ce5\", element=\"f.299C1834576DE46EA71F90F40988873B.d.AC3927B532B85F7993A7F36D58710206.e.79923\")>>,\n",
       " <bound method WebElement.get_attribute of <selenium.webdriver.remote.webelement.WebElement (session=\"18aeaeaaa3e569431c2566cb75fc6ce5\", element=\"f.299C1834576DE46EA71F90F40988873B.d.AC3927B532B85F7993A7F36D58710206.e.80238\")>>,\n",
       " <bound method WebElement.get_attribute of <selenium.webdriver.remote.webelement.WebElement (session=\"18aeaeaaa3e569431c2566cb75fc6ce5\", element=\"f.299C1834576DE46EA71F90F40988873B.d.AC3927B532B85F7993A7F36D58710206.e.80551\")>>,\n",
       " <bound method WebElement.get_attribute of <selenium.webdriver.remote.webelement.WebElement (session=\"18aeaeaaa3e569431c2566cb75fc6ce5\", element=\"f.299C1834576DE46EA71F90F40988873B.d.AC3927B532B85F7993A7F36D58710206.e.80863\")>>,\n",
       " <bound method WebElement.get_attribute of <selenium.webdriver.remote.webelement.WebElement (session=\"18aeaeaaa3e569431c2566cb75fc6ce5\", element=\"f.299C1834576DE46EA71F90F40988873B.d.AC3927B532B85F7993A7F36D58710206.e.81176\")>>,\n",
       " <bound method WebElement.get_attribute of <selenium.webdriver.remote.webelement.WebElement (session=\"18aeaeaaa3e569431c2566cb75fc6ce5\", element=\"f.299C1834576DE46EA71F90F40988873B.d.AC3927B532B85F7993A7F36D58710206.e.81488\")>>,\n",
       " <bound method WebElement.get_attribute of <selenium.webdriver.remote.webelement.WebElement (session=\"18aeaeaaa3e569431c2566cb75fc6ce5\", element=\"f.299C1834576DE46EA71F90F40988873B.d.AC3927B532B85F7993A7F36D58710206.e.81800\")>>,\n",
       " <bound method WebElement.get_attribute of <selenium.webdriver.remote.webelement.WebElement (session=\"18aeaeaaa3e569431c2566cb75fc6ce5\", element=\"f.299C1834576DE46EA71F90F40988873B.d.AC3927B532B85F7993A7F36D58710206.e.82112\")>>,\n",
       " <bound method WebElement.get_attribute of <selenium.webdriver.remote.webelement.WebElement (session=\"18aeaeaaa3e569431c2566cb75fc6ce5\", element=\"f.299C1834576DE46EA71F90F40988873B.d.AC3927B532B85F7993A7F36D58710206.e.82426\")>>,\n",
       " <bound method WebElement.get_attribute of <selenium.webdriver.remote.webelement.WebElement (session=\"18aeaeaaa3e569431c2566cb75fc6ce5\", element=\"f.299C1834576DE46EA71F90F40988873B.d.AC3927B532B85F7993A7F36D58710206.e.82754\")>>,\n",
       " <bound method WebElement.get_attribute of <selenium.webdriver.remote.webelement.WebElement (session=\"18aeaeaaa3e569431c2566cb75fc6ce5\", element=\"f.299C1834576DE46EA71F90F40988873B.d.AC3927B532B85F7993A7F36D58710206.e.83067\")>>,\n",
       " <bound method WebElement.get_attribute of <selenium.webdriver.remote.webelement.WebElement (session=\"18aeaeaaa3e569431c2566cb75fc6ce5\", element=\"f.299C1834576DE46EA71F90F40988873B.d.AC3927B532B85F7993A7F36D58710206.e.83364\")>>,\n",
       " <bound method WebElement.get_attribute of <selenium.webdriver.remote.webelement.WebElement (session=\"18aeaeaaa3e569431c2566cb75fc6ce5\", element=\"f.299C1834576DE46EA71F90F40988873B.d.AC3927B532B85F7993A7F36D58710206.e.83829\")>>,\n",
       " <bound method WebElement.get_attribute of <selenium.webdriver.remote.webelement.WebElement (session=\"18aeaeaaa3e569431c2566cb75fc6ce5\", element=\"f.299C1834576DE46EA71F90F40988873B.d.AC3927B532B85F7993A7F36D58710206.e.83952\")>>,\n",
       " <bound method WebElement.get_attribute of <selenium.webdriver.remote.webelement.WebElement (session=\"18aeaeaaa3e569431c2566cb75fc6ce5\", element=\"f.299C1834576DE46EA71F90F40988873B.d.AC3927B532B85F7993A7F36D58710206.e.84079\")>>,\n",
       " <bound method WebElement.get_attribute of <selenium.webdriver.remote.webelement.WebElement (session=\"18aeaeaaa3e569431c2566cb75fc6ce5\", element=\"f.299C1834576DE46EA71F90F40988873B.d.AC3927B532B85F7993A7F36D58710206.e.84605\")>>,\n",
       " <bound method WebElement.get_attribute of <selenium.webdriver.remote.webelement.WebElement (session=\"18aeaeaaa3e569431c2566cb75fc6ce5\", element=\"f.299C1834576DE46EA71F90F40988873B.d.AC3927B532B85F7993A7F36D58710206.e.84838\")>>,\n",
       " <bound method WebElement.get_attribute of <selenium.webdriver.remote.webelement.WebElement (session=\"18aeaeaaa3e569431c2566cb75fc6ce5\", element=\"f.299C1834576DE46EA71F90F40988873B.d.AC3927B532B85F7993A7F36D58710206.e.85151\")>>,\n",
       " <bound method WebElement.get_attribute of <selenium.webdriver.remote.webelement.WebElement (session=\"18aeaeaaa3e569431c2566cb75fc6ce5\", element=\"f.299C1834576DE46EA71F90F40988873B.d.AC3927B532B85F7993A7F36D58710206.e.85416\")>>,\n",
       " <bound method WebElement.get_attribute of <selenium.webdriver.remote.webelement.WebElement (session=\"18aeaeaaa3e569431c2566cb75fc6ce5\", element=\"f.299C1834576DE46EA71F90F40988873B.d.AC3927B532B85F7993A7F36D58710206.e.85646\")>>,\n",
       " <bound method WebElement.get_attribute of <selenium.webdriver.remote.webelement.WebElement (session=\"18aeaeaaa3e569431c2566cb75fc6ce5\", element=\"f.299C1834576DE46EA71F90F40988873B.d.AC3927B532B85F7993A7F36D58710206.e.85958\")>>,\n",
       " <bound method WebElement.get_attribute of <selenium.webdriver.remote.webelement.WebElement (session=\"18aeaeaaa3e569431c2566cb75fc6ce5\", element=\"f.299C1834576DE46EA71F90F40988873B.d.AC3927B532B85F7993A7F36D58710206.e.86271\")>>,\n",
       " <bound method WebElement.get_attribute of <selenium.webdriver.remote.webelement.WebElement (session=\"18aeaeaaa3e569431c2566cb75fc6ce5\", element=\"f.299C1834576DE46EA71F90F40988873B.d.AC3927B532B85F7993A7F36D58710206.e.86584\")>>,\n",
       " <bound method WebElement.get_attribute of <selenium.webdriver.remote.webelement.WebElement (session=\"18aeaeaaa3e569431c2566cb75fc6ce5\", element=\"f.299C1834576DE46EA71F90F40988873B.d.AC3927B532B85F7993A7F36D58710206.e.86896\")>>,\n",
       " <bound method WebElement.get_attribute of <selenium.webdriver.remote.webelement.WebElement (session=\"18aeaeaaa3e569431c2566cb75fc6ce5\", element=\"f.299C1834576DE46EA71F90F40988873B.d.AC3927B532B85F7993A7F36D58710206.e.87224\")>>,\n",
       " <bound method WebElement.get_attribute of <selenium.webdriver.remote.webelement.WebElement (session=\"18aeaeaaa3e569431c2566cb75fc6ce5\", element=\"f.299C1834576DE46EA71F90F40988873B.d.AC3927B532B85F7993A7F36D58710206.e.87536\")>>,\n",
       " <bound method WebElement.get_attribute of <selenium.webdriver.remote.webelement.WebElement (session=\"18aeaeaaa3e569431c2566cb75fc6ce5\", element=\"f.299C1834576DE46EA71F90F40988873B.d.AC3927B532B85F7993A7F36D58710206.e.87852\")>>,\n",
       " <bound method WebElement.get_attribute of <selenium.webdriver.remote.webelement.WebElement (session=\"18aeaeaaa3e569431c2566cb75fc6ce5\", element=\"f.299C1834576DE46EA71F90F40988873B.d.AC3927B532B85F7993A7F36D58710206.e.88149\")>>,\n",
       " <bound method WebElement.get_attribute of <selenium.webdriver.remote.webelement.WebElement (session=\"18aeaeaaa3e569431c2566cb75fc6ce5\", element=\"f.299C1834576DE46EA71F90F40988873B.d.AC3927B532B85F7993A7F36D58710206.e.88461\")>>,\n",
       " <bound method WebElement.get_attribute of <selenium.webdriver.remote.webelement.WebElement (session=\"18aeaeaaa3e569431c2566cb75fc6ce5\", element=\"f.299C1834576DE46EA71F90F40988873B.d.AC3927B532B85F7993A7F36D58710206.e.88726\")>>,\n",
       " <bound method WebElement.get_attribute of <selenium.webdriver.remote.webelement.WebElement (session=\"18aeaeaaa3e569431c2566cb75fc6ce5\", element=\"f.299C1834576DE46EA71F90F40988873B.d.AC3927B532B85F7993A7F36D58710206.e.88956\")>>,\n",
       " <bound method WebElement.get_attribute of <selenium.webdriver.remote.webelement.WebElement (session=\"18aeaeaaa3e569431c2566cb75fc6ce5\", element=\"f.299C1834576DE46EA71F90F40988873B.d.AC3927B532B85F7993A7F36D58710206.e.89285\")>>,\n",
       " <bound method WebElement.get_attribute of <selenium.webdriver.remote.webelement.WebElement (session=\"18aeaeaaa3e569431c2566cb75fc6ce5\", element=\"f.299C1834576DE46EA71F90F40988873B.d.AC3927B532B85F7993A7F36D58710206.e.89674\")>>,\n",
       " <bound method WebElement.get_attribute of <selenium.webdriver.remote.webelement.WebElement (session=\"18aeaeaaa3e569431c2566cb75fc6ce5\", element=\"f.299C1834576DE46EA71F90F40988873B.d.AC3927B532B85F7993A7F36D58710206.e.89797\")>>,\n",
       " <bound method WebElement.get_attribute of <selenium.webdriver.remote.webelement.WebElement (session=\"18aeaeaaa3e569431c2566cb75fc6ce5\", element=\"f.299C1834576DE46EA71F90F40988873B.d.AC3927B532B85F7993A7F36D58710206.e.90242\")>>,\n",
       " <bound method WebElement.get_attribute of <selenium.webdriver.remote.webelement.WebElement (session=\"18aeaeaaa3e569431c2566cb75fc6ce5\", element=\"f.299C1834576DE46EA71F90F40988873B.d.AC3927B532B85F7993A7F36D58710206.e.90555\")>>,\n",
       " <bound method WebElement.get_attribute of <selenium.webdriver.remote.webelement.WebElement (session=\"18aeaeaaa3e569431c2566cb75fc6ce5\", element=\"f.299C1834576DE46EA71F90F40988873B.d.AC3927B532B85F7993A7F36D58710206.e.90867\")>>,\n",
       " <bound method WebElement.get_attribute of <selenium.webdriver.remote.webelement.WebElement (session=\"18aeaeaaa3e569431c2566cb75fc6ce5\", element=\"f.299C1834576DE46EA71F90F40988873B.d.AC3927B532B85F7993A7F36D58710206.e.91132\")>>,\n",
       " <bound method WebElement.get_attribute of <selenium.webdriver.remote.webelement.WebElement (session=\"18aeaeaaa3e569431c2566cb75fc6ce5\", element=\"f.299C1834576DE46EA71F90F40988873B.d.AC3927B532B85F7993A7F36D58710206.e.91362\")>>,\n",
       " <bound method WebElement.get_attribute of <selenium.webdriver.remote.webelement.WebElement (session=\"18aeaeaaa3e569431c2566cb75fc6ce5\", element=\"f.299C1834576DE46EA71F90F40988873B.d.AC3927B532B85F7993A7F36D58710206.e.91675\")>>,\n",
       " <bound method WebElement.get_attribute of <selenium.webdriver.remote.webelement.WebElement (session=\"18aeaeaaa3e569431c2566cb75fc6ce5\", element=\"f.299C1834576DE46EA71F90F40988873B.d.AC3927B532B85F7993A7F36D58710206.e.91942\")>>,\n",
       " <bound method WebElement.get_attribute of <selenium.webdriver.remote.webelement.WebElement (session=\"18aeaeaaa3e569431c2566cb75fc6ce5\", element=\"f.299C1834576DE46EA71F90F40988873B.d.AC3927B532B85F7993A7F36D58710206.e.92172\")>>,\n",
       " <bound method WebElement.get_attribute of <selenium.webdriver.remote.webelement.WebElement (session=\"18aeaeaaa3e569431c2566cb75fc6ce5\", element=\"f.299C1834576DE46EA71F90F40988873B.d.AC3927B532B85F7993A7F36D58710206.e.92484\")>>,\n",
       " <bound method WebElement.get_attribute of <selenium.webdriver.remote.webelement.WebElement (session=\"18aeaeaaa3e569431c2566cb75fc6ce5\", element=\"f.299C1834576DE46EA71F90F40988873B.d.AC3927B532B85F7993A7F36D58710206.e.92812\")>>,\n",
       " <bound method WebElement.get_attribute of <selenium.webdriver.remote.webelement.WebElement (session=\"18aeaeaaa3e569431c2566cb75fc6ce5\", element=\"f.299C1834576DE46EA71F90F40988873B.d.AC3927B532B85F7993A7F36D58710206.e.93061\")>>,\n",
       " <bound method WebElement.get_attribute of <selenium.webdriver.remote.webelement.WebElement (session=\"18aeaeaaa3e569431c2566cb75fc6ce5\", element=\"f.299C1834576DE46EA71F90F40988873B.d.AC3927B532B85F7993A7F36D58710206.e.93294\")>>,\n",
       " <bound method WebElement.get_attribute of <selenium.webdriver.remote.webelement.WebElement (session=\"18aeaeaaa3e569431c2566cb75fc6ce5\", element=\"f.299C1834576DE46EA71F90F40988873B.d.AC3927B532B85F7993A7F36D58710206.e.93558\")>>,\n",
       " <bound method WebElement.get_attribute of <selenium.webdriver.remote.webelement.WebElement (session=\"18aeaeaaa3e569431c2566cb75fc6ce5\", element=\"f.299C1834576DE46EA71F90F40988873B.d.AC3927B532B85F7993A7F36D58710206.e.93792\")>>,\n",
       " <bound method WebElement.get_attribute of <selenium.webdriver.remote.webelement.WebElement (session=\"18aeaeaaa3e569431c2566cb75fc6ce5\", element=\"f.299C1834576DE46EA71F90F40988873B.d.AC3927B532B85F7993A7F36D58710206.e.94053\")>>,\n",
       " <bound method WebElement.get_attribute of <selenium.webdriver.remote.webelement.WebElement (session=\"18aeaeaaa3e569431c2566cb75fc6ce5\", element=\"f.299C1834576DE46EA71F90F40988873B.d.AC3927B532B85F7993A7F36D58710206.e.94286\")>>,\n",
       " <bound method WebElement.get_attribute of <selenium.webdriver.remote.webelement.WebElement (session=\"18aeaeaaa3e569431c2566cb75fc6ce5\", element=\"f.299C1834576DE46EA71F90F40988873B.d.AC3927B532B85F7993A7F36D58710206.e.94599\")>>,\n",
       " <bound method WebElement.get_attribute of <selenium.webdriver.remote.webelement.WebElement (session=\"18aeaeaaa3e569431c2566cb75fc6ce5\", element=\"f.299C1834576DE46EA71F90F40988873B.d.AC3927B532B85F7993A7F36D58710206.e.94921\")>>,\n",
       " <bound method WebElement.get_attribute of <selenium.webdriver.remote.webelement.WebElement (session=\"18aeaeaaa3e569431c2566cb75fc6ce5\", element=\"f.299C1834576DE46EA71F90F40988873B.d.AC3927B532B85F7993A7F36D58710206.e.95509\")>>,\n",
       " <bound method WebElement.get_attribute of <selenium.webdriver.remote.webelement.WebElement (session=\"18aeaeaaa3e569431c2566cb75fc6ce5\", element=\"f.299C1834576DE46EA71F90F40988873B.d.AC3927B532B85F7993A7F36D58710206.e.95632\")>>,\n",
       " <bound method WebElement.get_attribute of <selenium.webdriver.remote.webelement.WebElement (session=\"18aeaeaaa3e569431c2566cb75fc6ce5\", element=\"f.299C1834576DE46EA71F90F40988873B.d.AC3927B532B85F7993A7F36D58710206.e.95756\")>>,\n",
       " <bound method WebElement.get_attribute of <selenium.webdriver.remote.webelement.WebElement (session=\"18aeaeaaa3e569431c2566cb75fc6ce5\", element=\"f.299C1834576DE46EA71F90F40988873B.d.AC3927B532B85F7993A7F36D58710206.e.95896\")>>,\n",
       " <bound method WebElement.get_attribute of <selenium.webdriver.remote.webelement.WebElement (session=\"18aeaeaaa3e569431c2566cb75fc6ce5\", element=\"f.299C1834576DE46EA71F90F40988873B.d.AC3927B532B85F7993A7F36D58710206.e.96019\")>>,\n",
       " <bound method WebElement.get_attribute of <selenium.webdriver.remote.webelement.WebElement (session=\"18aeaeaaa3e569431c2566cb75fc6ce5\", element=\"f.299C1834576DE46EA71F90F40988873B.d.AC3927B532B85F7993A7F36D58710206.e.96114\")>>,\n",
       " <bound method WebElement.get_attribute of <selenium.webdriver.remote.webelement.WebElement (session=\"18aeaeaaa3e569431c2566cb75fc6ce5\", element=\"f.299C1834576DE46EA71F90F40988873B.d.AC3927B532B85F7993A7F36D58710206.e.96237\")>>,\n",
       " <bound method WebElement.get_attribute of <selenium.webdriver.remote.webelement.WebElement (session=\"18aeaeaaa3e569431c2566cb75fc6ce5\", element=\"f.299C1834576DE46EA71F90F40988873B.d.AC3927B532B85F7993A7F36D58710206.e.97235\")>>,\n",
       " <bound method WebElement.get_attribute of <selenium.webdriver.remote.webelement.WebElement (session=\"18aeaeaaa3e569431c2566cb75fc6ce5\", element=\"f.299C1834576DE46EA71F90F40988873B.d.AC3927B532B85F7993A7F36D58710206.e.97465\")>>,\n",
       " <bound method WebElement.get_attribute of <selenium.webdriver.remote.webelement.WebElement (session=\"18aeaeaaa3e569431c2566cb75fc6ce5\", element=\"f.299C1834576DE46EA71F90F40988873B.d.AC3927B532B85F7993A7F36D58710206.e.97699\")>>,\n",
       " <bound method WebElement.get_attribute of <selenium.webdriver.remote.webelement.WebElement (session=\"18aeaeaaa3e569431c2566cb75fc6ce5\", element=\"f.299C1834576DE46EA71F90F40988873B.d.AC3927B532B85F7993A7F36D58710206.e.98011\")>>,\n",
       " <bound method WebElement.get_attribute of <selenium.webdriver.remote.webelement.WebElement (session=\"18aeaeaaa3e569431c2566cb75fc6ce5\", element=\"f.299C1834576DE46EA71F90F40988873B.d.AC3927B532B85F7993A7F36D58710206.e.98275\")>>,\n",
       " <bound method WebElement.get_attribute of <selenium.webdriver.remote.webelement.WebElement (session=\"18aeaeaaa3e569431c2566cb75fc6ce5\", element=\"f.299C1834576DE46EA71F90F40988873B.d.AC3927B532B85F7993A7F36D58710206.e.98507\")>>,\n",
       " <bound method WebElement.get_attribute of <selenium.webdriver.remote.webelement.WebElement (session=\"18aeaeaaa3e569431c2566cb75fc6ce5\", element=\"f.299C1834576DE46EA71F90F40988873B.d.AC3927B532B85F7993A7F36D58710206.e.98819\")>>,\n",
       " <bound method WebElement.get_attribute of <selenium.webdriver.remote.webelement.WebElement (session=\"18aeaeaaa3e569431c2566cb75fc6ce5\", element=\"f.299C1834576DE46EA71F90F40988873B.d.AC3927B532B85F7993A7F36D58710206.e.99131\")>>,\n",
       " <bound method WebElement.get_attribute of <selenium.webdriver.remote.webelement.WebElement (session=\"18aeaeaaa3e569431c2566cb75fc6ce5\", element=\"f.299C1834576DE46EA71F90F40988873B.d.AC3927B532B85F7993A7F36D58710206.e.99460\")>>,\n",
       " <bound method WebElement.get_attribute of <selenium.webdriver.remote.webelement.WebElement (session=\"18aeaeaaa3e569431c2566cb75fc6ce5\", element=\"f.299C1834576DE46EA71F90F40988873B.d.AC3927B532B85F7993A7F36D58710206.e.99756\")>>,\n",
       " <bound method WebElement.get_attribute of <selenium.webdriver.remote.webelement.WebElement (session=\"18aeaeaaa3e569431c2566cb75fc6ce5\", element=\"f.299C1834576DE46EA71F90F40988873B.d.AC3927B532B85F7993A7F36D58710206.e.100068\")>>,\n",
       " <bound method WebElement.get_attribute of <selenium.webdriver.remote.webelement.WebElement (session=\"18aeaeaaa3e569431c2566cb75fc6ce5\", element=\"f.299C1834576DE46EA71F90F40988873B.d.AC3927B532B85F7993A7F36D58710206.e.100380\")>>,\n",
       " <bound method WebElement.get_attribute of <selenium.webdriver.remote.webelement.WebElement (session=\"18aeaeaaa3e569431c2566cb75fc6ce5\", element=\"f.299C1834576DE46EA71F90F40988873B.d.AC3927B532B85F7993A7F36D58710206.e.100693\")>>,\n",
       " <bound method WebElement.get_attribute of <selenium.webdriver.remote.webelement.WebElement (session=\"18aeaeaaa3e569431c2566cb75fc6ce5\", element=\"f.299C1834576DE46EA71F90F40988873B.d.AC3927B532B85F7993A7F36D58710206.e.101384\")>>,\n",
       " <bound method WebElement.get_attribute of <selenium.webdriver.remote.webelement.WebElement (session=\"18aeaeaaa3e569431c2566cb75fc6ce5\", element=\"f.299C1834576DE46EA71F90F40988873B.d.AC3927B532B85F7993A7F36D58710206.e.101507\")>>,\n",
       " <bound method WebElement.get_attribute of <selenium.webdriver.remote.webelement.WebElement (session=\"18aeaeaaa3e569431c2566cb75fc6ce5\", element=\"f.299C1834576DE46EA71F90F40988873B.d.AC3927B532B85F7993A7F36D58710206.e.101632\")>>,\n",
       " <bound method WebElement.get_attribute of <selenium.webdriver.remote.webelement.WebElement (session=\"18aeaeaaa3e569431c2566cb75fc6ce5\", element=\"f.299C1834576DE46EA71F90F40988873B.d.AC3927B532B85F7993A7F36D58710206.e.101755\")>>,\n",
       " <bound method WebElement.get_attribute of <selenium.webdriver.remote.webelement.WebElement (session=\"18aeaeaaa3e569431c2566cb75fc6ce5\", element=\"f.299C1834576DE46EA71F90F40988873B.d.AC3927B532B85F7993A7F36D58710206.e.101884\")>>,\n",
       " <bound method WebElement.get_attribute of <selenium.webdriver.remote.webelement.WebElement (session=\"18aeaeaaa3e569431c2566cb75fc6ce5\", element=\"f.299C1834576DE46EA71F90F40988873B.d.AC3927B532B85F7993A7F36D58710206.e.102007\")>>,\n",
       " <bound method WebElement.get_attribute of <selenium.webdriver.remote.webelement.WebElement (session=\"18aeaeaaa3e569431c2566cb75fc6ce5\", element=\"f.299C1834576DE46EA71F90F40988873B.d.AC3927B532B85F7993A7F36D58710206.e.102130\")>>,\n",
       " <bound method WebElement.get_attribute of <selenium.webdriver.remote.webelement.WebElement (session=\"18aeaeaaa3e569431c2566cb75fc6ce5\", element=\"f.299C1834576DE46EA71F90F40988873B.d.AC3927B532B85F7993A7F36D58710206.e.103245\")>>,\n",
       " <bound method WebElement.get_attribute of <selenium.webdriver.remote.webelement.WebElement (session=\"18aeaeaaa3e569431c2566cb75fc6ce5\", element=\"f.299C1834576DE46EA71F90F40988873B.d.AC3927B532B85F7993A7F36D58710206.e.103557\")>>,\n",
       " <bound method WebElement.get_attribute of <selenium.webdriver.remote.webelement.WebElement (session=\"18aeaeaaa3e569431c2566cb75fc6ce5\", element=\"f.299C1834576DE46EA71F90F40988873B.d.AC3927B532B85F7993A7F36D58710206.e.103869\")>>,\n",
       " <bound method WebElement.get_attribute of <selenium.webdriver.remote.webelement.WebElement (session=\"18aeaeaaa3e569431c2566cb75fc6ce5\", element=\"f.299C1834576DE46EA71F90F40988873B.d.AC3927B532B85F7993A7F36D58710206.e.104181\")>>,\n",
       " <bound method WebElement.get_attribute of <selenium.webdriver.remote.webelement.WebElement (session=\"18aeaeaaa3e569431c2566cb75fc6ce5\", element=\"f.299C1834576DE46EA71F90F40988873B.d.AC3927B532B85F7993A7F36D58710206.e.104494\")>>,\n",
       " <bound method WebElement.get_attribute of <selenium.webdriver.remote.webelement.WebElement (session=\"18aeaeaaa3e569431c2566cb75fc6ce5\", element=\"f.299C1834576DE46EA71F90F40988873B.d.AC3927B532B85F7993A7F36D58710206.e.104806\")>>,\n",
       " <bound method WebElement.get_attribute of <selenium.webdriver.remote.webelement.WebElement (session=\"18aeaeaaa3e569431c2566cb75fc6ce5\", element=\"f.299C1834576DE46EA71F90F40988873B.d.AC3927B532B85F7993A7F36D58710206.e.105070\")>>,\n",
       " <bound method WebElement.get_attribute of <selenium.webdriver.remote.webelement.WebElement (session=\"18aeaeaaa3e569431c2566cb75fc6ce5\", element=\"f.299C1834576DE46EA71F90F40988873B.d.AC3927B532B85F7993A7F36D58710206.e.105303\")>>,\n",
       " <bound method WebElement.get_attribute of <selenium.webdriver.remote.webelement.WebElement (session=\"18aeaeaaa3e569431c2566cb75fc6ce5\", element=\"f.299C1834576DE46EA71F90F40988873B.d.AC3927B532B85F7993A7F36D58710206.e.105616\")>>,\n",
       " <bound method WebElement.get_attribute of <selenium.webdriver.remote.webelement.WebElement (session=\"18aeaeaaa3e569431c2566cb75fc6ce5\", element=\"f.299C1834576DE46EA71F90F40988873B.d.AC3927B532B85F7993A7F36D58710206.e.105929\")>>,\n",
       " <bound method WebElement.get_attribute of <selenium.webdriver.remote.webelement.WebElement (session=\"18aeaeaaa3e569431c2566cb75fc6ce5\", element=\"f.299C1834576DE46EA71F90F40988873B.d.AC3927B532B85F7993A7F36D58710206.e.106258\")>>,\n",
       " <bound method WebElement.get_attribute of <selenium.webdriver.remote.webelement.WebElement (session=\"18aeaeaaa3e569431c2566cb75fc6ce5\", element=\"f.299C1834576DE46EA71F90F40988873B.d.AC3927B532B85F7993A7F36D58710206.e.106554\")>>,\n",
       " <bound method WebElement.get_attribute of <selenium.webdriver.remote.webelement.WebElement (session=\"18aeaeaaa3e569431c2566cb75fc6ce5\", element=\"f.299C1834576DE46EA71F90F40988873B.d.AC3927B532B85F7993A7F36D58710206.e.106884\")>>,\n",
       " <bound method WebElement.get_attribute of <selenium.webdriver.remote.webelement.WebElement (session=\"18aeaeaaa3e569431c2566cb75fc6ce5\", element=\"f.299C1834576DE46EA71F90F40988873B.d.AC3927B532B85F7993A7F36D58710206.e.107454\")>>,\n",
       " <bound method WebElement.get_attribute of <selenium.webdriver.remote.webelement.WebElement (session=\"18aeaeaaa3e569431c2566cb75fc6ce5\", element=\"f.299C1834576DE46EA71F90F40988873B.d.AC3927B532B85F7993A7F36D58710206.e.107577\")>>,\n",
       " <bound method WebElement.get_attribute of <selenium.webdriver.remote.webelement.WebElement (session=\"18aeaeaaa3e569431c2566cb75fc6ce5\", element=\"f.299C1834576DE46EA71F90F40988873B.d.AC3927B532B85F7993A7F36D58710206.e.107700\")>>,\n",
       " <bound method WebElement.get_attribute of <selenium.webdriver.remote.webelement.WebElement (session=\"18aeaeaaa3e569431c2566cb75fc6ce5\", element=\"f.299C1834576DE46EA71F90F40988873B.d.AC3927B532B85F7993A7F36D58710206.e.107823\")>>,\n",
       " <bound method WebElement.get_attribute of <selenium.webdriver.remote.webelement.WebElement (session=\"18aeaeaaa3e569431c2566cb75fc6ce5\", element=\"f.299C1834576DE46EA71F90F40988873B.d.AC3927B532B85F7993A7F36D58710206.e.107918\")>>,\n",
       " <bound method WebElement.get_attribute of <selenium.webdriver.remote.webelement.WebElement (session=\"18aeaeaaa3e569431c2566cb75fc6ce5\", element=\"f.299C1834576DE46EA71F90F40988873B.d.AC3927B532B85F7993A7F36D58710206.e.108041\")>>,\n",
       " <bound method WebElement.get_attribute of <selenium.webdriver.remote.webelement.WebElement (session=\"18aeaeaaa3e569431c2566cb75fc6ce5\", element=\"f.299C1834576DE46EA71F90F40988873B.d.AC3927B532B85F7993A7F36D58710206.e.108967\")>>,\n",
       " <bound method WebElement.get_attribute of <selenium.webdriver.remote.webelement.WebElement (session=\"18aeaeaaa3e569431c2566cb75fc6ce5\", element=\"f.299C1834576DE46EA71F90F40988873B.d.AC3927B532B85F7993A7F36D58710206.e.109283\")>>,\n",
       " <bound method WebElement.get_attribute of <selenium.webdriver.remote.webelement.WebElement (session=\"18aeaeaaa3e569431c2566cb75fc6ce5\", element=\"f.299C1834576DE46EA71F90F40988873B.d.AC3927B532B85F7993A7F36D58710206.e.109595\")>>,\n",
       " <bound method WebElement.get_attribute of <selenium.webdriver.remote.webelement.WebElement (session=\"18aeaeaaa3e569431c2566cb75fc6ce5\", element=\"f.299C1834576DE46EA71F90F40988873B.d.AC3927B532B85F7993A7F36D58710206.e.109907\")>>,\n",
       " <bound method WebElement.get_attribute of <selenium.webdriver.remote.webelement.WebElement (session=\"18aeaeaaa3e569431c2566cb75fc6ce5\", element=\"f.299C1834576DE46EA71F90F40988873B.d.AC3927B532B85F7993A7F36D58710206.e.110221\")>>,\n",
       " <bound method WebElement.get_attribute of <selenium.webdriver.remote.webelement.WebElement (session=\"18aeaeaaa3e569431c2566cb75fc6ce5\", element=\"f.299C1834576DE46EA71F90F40988873B.d.AC3927B532B85F7993A7F36D58710206.e.110587\")>>,\n",
       " <bound method WebElement.get_attribute of <selenium.webdriver.remote.webelement.WebElement (session=\"18aeaeaaa3e569431c2566cb75fc6ce5\", element=\"f.299C1834576DE46EA71F90F40988873B.d.AC3927B532B85F7993A7F36D58710206.e.110883\")>>,\n",
       " <bound method WebElement.get_attribute of <selenium.webdriver.remote.webelement.WebElement (session=\"18aeaeaaa3e569431c2566cb75fc6ce5\", element=\"f.299C1834576DE46EA71F90F40988873B.d.AC3927B532B85F7993A7F36D58710206.e.111195\")>>,\n",
       " <bound method WebElement.get_attribute of <selenium.webdriver.remote.webelement.WebElement (session=\"18aeaeaaa3e569431c2566cb75fc6ce5\", element=\"f.299C1834576DE46EA71F90F40988873B.d.AC3927B532B85F7993A7F36D58710206.e.111508\")>>,\n",
       " <bound method WebElement.get_attribute of <selenium.webdriver.remote.webelement.WebElement (session=\"18aeaeaaa3e569431c2566cb75fc6ce5\", element=\"f.299C1834576DE46EA71F90F40988873B.d.AC3927B532B85F7993A7F36D58710206.e.111820\")>>,\n",
       " <bound method WebElement.get_attribute of <selenium.webdriver.remote.webelement.WebElement (session=\"18aeaeaaa3e569431c2566cb75fc6ce5\", element=\"f.299C1834576DE46EA71F90F40988873B.d.AC3927B532B85F7993A7F36D58710206.e.112133\")>>,\n",
       " <bound method WebElement.get_attribute of <selenium.webdriver.remote.webelement.WebElement (session=\"18aeaeaaa3e569431c2566cb75fc6ce5\", element=\"f.299C1834576DE46EA71F90F40988873B.d.AC3927B532B85F7993A7F36D58710206.e.112399\")>>,\n",
       " <bound method WebElement.get_attribute of <selenium.webdriver.remote.webelement.WebElement (session=\"18aeaeaaa3e569431c2566cb75fc6ce5\", element=\"f.299C1834576DE46EA71F90F40988873B.d.AC3927B532B85F7993A7F36D58710206.e.112629\")>>,\n",
       " <bound method WebElement.get_attribute of <selenium.webdriver.remote.webelement.WebElement (session=\"18aeaeaaa3e569431c2566cb75fc6ce5\", element=\"f.299C1834576DE46EA71F90F40988873B.d.AC3927B532B85F7993A7F36D58710206.e.112958\")>>,\n",
       " <bound method WebElement.get_attribute of <selenium.webdriver.remote.webelement.WebElement (session=\"18aeaeaaa3e569431c2566cb75fc6ce5\", element=\"f.299C1834576DE46EA71F90F40988873B.d.AC3927B532B85F7993A7F36D58710206.e.113519\")>>,\n",
       " <bound method WebElement.get_attribute of <selenium.webdriver.remote.webelement.WebElement (session=\"18aeaeaaa3e569431c2566cb75fc6ce5\", element=\"f.299C1834576DE46EA71F90F40988873B.d.AC3927B532B85F7993A7F36D58710206.e.113662\")>>,\n",
       " <bound method WebElement.get_attribute of <selenium.webdriver.remote.webelement.WebElement (session=\"18aeaeaaa3e569431c2566cb75fc6ce5\", element=\"f.299C1834576DE46EA71F90F40988873B.d.AC3927B532B85F7993A7F36D58710206.e.113785\")>>,\n",
       " <bound method WebElement.get_attribute of <selenium.webdriver.remote.webelement.WebElement (session=\"18aeaeaaa3e569431c2566cb75fc6ce5\", element=\"f.299C1834576DE46EA71F90F40988873B.d.AC3927B532B85F7993A7F36D58710206.e.113910\")>>,\n",
       " <bound method WebElement.get_attribute of <selenium.webdriver.remote.webelement.WebElement (session=\"18aeaeaaa3e569431c2566cb75fc6ce5\", element=\"f.299C1834576DE46EA71F90F40988873B.d.AC3927B532B85F7993A7F36D58710206.e.114037\")>>,\n",
       " <bound method WebElement.get_attribute of <selenium.webdriver.remote.webelement.WebElement (session=\"18aeaeaaa3e569431c2566cb75fc6ce5\", element=\"f.299C1834576DE46EA71F90F40988873B.d.AC3927B532B85F7993A7F36D58710206.e.114884\")>>,\n",
       " <bound method WebElement.get_attribute of <selenium.webdriver.remote.webelement.WebElement (session=\"18aeaeaaa3e569431c2566cb75fc6ce5\", element=\"f.299C1834576DE46EA71F90F40988873B.d.AC3927B532B85F7993A7F36D58710206.e.115151\")>>,\n",
       " <bound method WebElement.get_attribute of <selenium.webdriver.remote.webelement.WebElement (session=\"18aeaeaaa3e569431c2566cb75fc6ce5\", element=\"f.299C1834576DE46EA71F90F40988873B.d.AC3927B532B85F7993A7F36D58710206.e.115382\")>>,\n",
       " <bound method WebElement.get_attribute of <selenium.webdriver.remote.webelement.WebElement (session=\"18aeaeaaa3e569431c2566cb75fc6ce5\", element=\"f.299C1834576DE46EA71F90F40988873B.d.AC3927B532B85F7993A7F36D58710206.e.115697\")>>,\n",
       " <bound method WebElement.get_attribute of <selenium.webdriver.remote.webelement.WebElement (session=\"18aeaeaaa3e569431c2566cb75fc6ce5\", element=\"f.299C1834576DE46EA71F90F40988873B.d.AC3927B532B85F7993A7F36D58710206.e.116010\")>>,\n",
       " <bound method WebElement.get_attribute of <selenium.webdriver.remote.webelement.WebElement (session=\"18aeaeaaa3e569431c2566cb75fc6ce5\", element=\"f.299C1834576DE46EA71F90F40988873B.d.AC3927B532B85F7993A7F36D58710206.e.116322\")>>,\n",
       " <bound method WebElement.get_attribute of <selenium.webdriver.remote.webelement.WebElement (session=\"18aeaeaaa3e569431c2566cb75fc6ce5\", element=\"f.299C1834576DE46EA71F90F40988873B.d.AC3927B532B85F7993A7F36D58710206.e.116638\")>>,\n",
       " <bound method WebElement.get_attribute of <selenium.webdriver.remote.webelement.WebElement (session=\"18aeaeaaa3e569431c2566cb75fc6ce5\", element=\"f.299C1834576DE46EA71F90F40988873B.d.AC3927B532B85F7993A7F36D58710206.e.116951\")>>,\n",
       " <bound method WebElement.get_attribute of <selenium.webdriver.remote.webelement.WebElement (session=\"18aeaeaaa3e569431c2566cb75fc6ce5\", element=\"f.299C1834576DE46EA71F90F40988873B.d.AC3927B532B85F7993A7F36D58710206.e.117263\")>>,\n",
       " <bound method WebElement.get_attribute of <selenium.webdriver.remote.webelement.WebElement (session=\"18aeaeaaa3e569431c2566cb75fc6ce5\", element=\"f.299C1834576DE46EA71F90F40988873B.d.AC3927B532B85F7993A7F36D58710206.e.117579\")>>,\n",
       " <bound method WebElement.get_attribute of <selenium.webdriver.remote.webelement.WebElement (session=\"18aeaeaaa3e569431c2566cb75fc6ce5\", element=\"f.299C1834576DE46EA71F90F40988873B.d.AC3927B532B85F7993A7F36D58710206.e.117891\")>>,\n",
       " <bound method WebElement.get_attribute of <selenium.webdriver.remote.webelement.WebElement (session=\"18aeaeaaa3e569431c2566cb75fc6ce5\", element=\"f.299C1834576DE46EA71F90F40988873B.d.AC3927B532B85F7993A7F36D58710206.e.118220\")>>,\n",
       " <bound method WebElement.get_attribute of <selenium.webdriver.remote.webelement.WebElement (session=\"18aeaeaaa3e569431c2566cb75fc6ce5\", element=\"f.299C1834576DE46EA71F90F40988873B.d.AC3927B532B85F7993A7F36D58710206.e.118516\")>>,\n",
       " <bound method WebElement.get_attribute of <selenium.webdriver.remote.webelement.WebElement (session=\"18aeaeaaa3e569431c2566cb75fc6ce5\", element=\"f.299C1834576DE46EA71F90F40988873B.d.AC3927B532B85F7993A7F36D58710206.e.118782\")>>,\n",
       " <bound method WebElement.get_attribute of <selenium.webdriver.remote.webelement.WebElement (session=\"18aeaeaaa3e569431c2566cb75fc6ce5\", element=\"f.299C1834576DE46EA71F90F40988873B.d.AC3927B532B85F7993A7F36D58710206.e.118964\")>>,\n",
       " <bound method WebElement.get_attribute of <selenium.webdriver.remote.webelement.WebElement (session=\"18aeaeaaa3e569431c2566cb75fc6ce5\", element=\"f.299C1834576DE46EA71F90F40988873B.d.AC3927B532B85F7993A7F36D58710206.e.119464\")>>,\n",
       " <bound method WebElement.get_attribute of <selenium.webdriver.remote.webelement.WebElement (session=\"18aeaeaaa3e569431c2566cb75fc6ce5\", element=\"f.299C1834576DE46EA71F90F40988873B.d.AC3927B532B85F7993A7F36D58710206.e.119587\")>>,\n",
       " <bound method WebElement.get_attribute of <selenium.webdriver.remote.webelement.WebElement (session=\"18aeaeaaa3e569431c2566cb75fc6ce5\", element=\"f.299C1834576DE46EA71F90F40988873B.d.AC3927B532B85F7993A7F36D58710206.e.119710\")>>,\n",
       " <bound method WebElement.get_attribute of <selenium.webdriver.remote.webelement.WebElement (session=\"18aeaeaaa3e569431c2566cb75fc6ce5\", element=\"f.299C1834576DE46EA71F90F40988873B.d.AC3927B532B85F7993A7F36D58710206.e.119833\")>>,\n",
       " <bound method WebElement.get_attribute of <selenium.webdriver.remote.webelement.WebElement (session=\"18aeaeaaa3e569431c2566cb75fc6ce5\", element=\"f.299C1834576DE46EA71F90F40988873B.d.AC3927B532B85F7993A7F36D58710206.e.119956\")>>,\n",
       " <bound method WebElement.get_attribute of <selenium.webdriver.remote.webelement.WebElement (session=\"18aeaeaaa3e569431c2566cb75fc6ce5\", element=\"f.299C1834576DE46EA71F90F40988873B.d.AC3927B532B85F7993A7F36D58710206.e.120797\")>>,\n",
       " <bound method WebElement.get_attribute of <selenium.webdriver.remote.webelement.WebElement (session=\"18aeaeaaa3e569431c2566cb75fc6ce5\", element=\"f.299C1834576DE46EA71F90F40988873B.d.AC3927B532B85F7993A7F36D58710206.e.121109\")>>,\n",
       " <bound method WebElement.get_attribute of <selenium.webdriver.remote.webelement.WebElement (session=\"18aeaeaaa3e569431c2566cb75fc6ce5\", element=\"f.299C1834576DE46EA71F90F40988873B.d.AC3927B532B85F7993A7F36D58710206.e.121421\")>>,\n",
       " <bound method WebElement.get_attribute of <selenium.webdriver.remote.webelement.WebElement (session=\"18aeaeaaa3e569431c2566cb75fc6ce5\", element=\"f.299C1834576DE46EA71F90F40988873B.d.AC3927B532B85F7993A7F36D58710206.e.121734\")>>,\n",
       " <bound method WebElement.get_attribute of <selenium.webdriver.remote.webelement.WebElement (session=\"18aeaeaaa3e569431c2566cb75fc6ce5\", element=\"f.299C1834576DE46EA71F90F40988873B.d.AC3927B532B85F7993A7F36D58710206.e.121998\")>>,\n",
       " <bound method WebElement.get_attribute of <selenium.webdriver.remote.webelement.WebElement (session=\"18aeaeaaa3e569431c2566cb75fc6ce5\", element=\"f.299C1834576DE46EA71F90F40988873B.d.AC3927B532B85F7993A7F36D58710206.e.122228\")>>,\n",
       " <bound method WebElement.get_attribute of <selenium.webdriver.remote.webelement.WebElement (session=\"18aeaeaaa3e569431c2566cb75fc6ce5\", element=\"f.299C1834576DE46EA71F90F40988873B.d.AC3927B532B85F7993A7F36D58710206.e.122494\")>>,\n",
       " <bound method WebElement.get_attribute of <selenium.webdriver.remote.webelement.WebElement (session=\"18aeaeaaa3e569431c2566cb75fc6ce5\", element=\"f.299C1834576DE46EA71F90F40988873B.d.AC3927B532B85F7993A7F36D58710206.e.122726\")>>,\n",
       " <bound method WebElement.get_attribute of <selenium.webdriver.remote.webelement.WebElement (session=\"18aeaeaaa3e569431c2566cb75fc6ce5\", element=\"f.299C1834576DE46EA71F90F40988873B.d.AC3927B532B85F7993A7F36D58710206.e.123039\")>>,\n",
       " <bound method WebElement.get_attribute of <selenium.webdriver.remote.webelement.WebElement (session=\"18aeaeaaa3e569431c2566cb75fc6ce5\", element=\"f.299C1834576DE46EA71F90F40988873B.d.AC3927B532B85F7993A7F36D58710206.e.123351\")>>,\n",
       " <bound method WebElement.get_attribute of <selenium.webdriver.remote.webelement.WebElement (session=\"18aeaeaaa3e569431c2566cb75fc6ce5\", element=\"f.299C1834576DE46EA71F90F40988873B.d.AC3927B532B85F7993A7F36D58710206.e.123663\")>>,\n",
       " <bound method WebElement.get_attribute of <selenium.webdriver.remote.webelement.WebElement (session=\"18aeaeaaa3e569431c2566cb75fc6ce5\", element=\"f.299C1834576DE46EA71F90F40988873B.d.AC3927B532B85F7993A7F36D58710206.e.123982\")>>,\n",
       " <bound method WebElement.get_attribute of <selenium.webdriver.remote.webelement.WebElement (session=\"18aeaeaaa3e569431c2566cb75fc6ce5\", element=\"f.299C1834576DE46EA71F90F40988873B.d.AC3927B532B85F7993A7F36D58710206.e.124294\")>>,\n",
       " <bound method WebElement.get_attribute of <selenium.webdriver.remote.webelement.WebElement (session=\"18aeaeaaa3e569431c2566cb75fc6ce5\", element=\"f.299C1834576DE46EA71F90F40988873B.d.AC3927B532B85F7993A7F36D58710206.e.124607\")>>,\n",
       " <bound method WebElement.get_attribute of <selenium.webdriver.remote.webelement.WebElement (session=\"18aeaeaaa3e569431c2566cb75fc6ce5\", element=\"f.299C1834576DE46EA71F90F40988873B.d.AC3927B532B85F7993A7F36D58710206.e.124920\")>>,\n",
       " <bound method WebElement.get_attribute of <selenium.webdriver.remote.webelement.WebElement (session=\"18aeaeaaa3e569431c2566cb75fc6ce5\", element=\"f.299C1834576DE46EA71F90F40988873B.d.AC3927B532B85F7993A7F36D58710206.e.125554\")>>,\n",
       " <bound method WebElement.get_attribute of <selenium.webdriver.remote.webelement.WebElement (session=\"18aeaeaaa3e569431c2566cb75fc6ce5\", element=\"f.299C1834576DE46EA71F90F40988873B.d.AC3927B532B85F7993A7F36D58710206.e.125677\")>>,\n",
       " <bound method WebElement.get_attribute of <selenium.webdriver.remote.webelement.WebElement (session=\"18aeaeaaa3e569431c2566cb75fc6ce5\", element=\"f.299C1834576DE46EA71F90F40988873B.d.AC3927B532B85F7993A7F36D58710206.e.125800\")>>,\n",
       " <bound method WebElement.get_attribute of <selenium.webdriver.remote.webelement.WebElement (session=\"18aeaeaaa3e569431c2566cb75fc6ce5\", element=\"f.299C1834576DE46EA71F90F40988873B.d.AC3927B532B85F7993A7F36D58710206.e.125923\")>>,\n",
       " <bound method WebElement.get_attribute of <selenium.webdriver.remote.webelement.WebElement (session=\"18aeaeaaa3e569431c2566cb75fc6ce5\", element=\"f.299C1834576DE46EA71F90F40988873B.d.AC3927B532B85F7993A7F36D58710206.e.126046\")>>,\n",
       " <bound method WebElement.get_attribute of <selenium.webdriver.remote.webelement.WebElement (session=\"18aeaeaaa3e569431c2566cb75fc6ce5\", element=\"f.299C1834576DE46EA71F90F40988873B.d.AC3927B532B85F7993A7F36D58710206.e.126169\")>>,\n",
       " <bound method WebElement.get_attribute of <selenium.webdriver.remote.webelement.WebElement (session=\"18aeaeaaa3e569431c2566cb75fc6ce5\", element=\"f.299C1834576DE46EA71F90F40988873B.d.AC3927B532B85F7993A7F36D58710206.e.127144\")>>,\n",
       " <bound method WebElement.get_attribute of <selenium.webdriver.remote.webelement.WebElement (session=\"18aeaeaaa3e569431c2566cb75fc6ce5\", element=\"f.299C1834576DE46EA71F90F40988873B.d.AC3927B532B85F7993A7F36D58710206.e.127458\")>>,\n",
       " <bound method WebElement.get_attribute of <selenium.webdriver.remote.webelement.WebElement (session=\"18aeaeaaa3e569431c2566cb75fc6ce5\", element=\"f.299C1834576DE46EA71F90F40988873B.d.AC3927B532B85F7993A7F36D58710206.e.127809\")>>,\n",
       " <bound method WebElement.get_attribute of <selenium.webdriver.remote.webelement.WebElement (session=\"18aeaeaaa3e569431c2566cb75fc6ce5\", element=\"f.299C1834576DE46EA71F90F40988873B.d.AC3927B532B85F7993A7F36D58710206.e.128123\")>>,\n",
       " <bound method WebElement.get_attribute of <selenium.webdriver.remote.webelement.WebElement (session=\"18aeaeaaa3e569431c2566cb75fc6ce5\", element=\"f.299C1834576DE46EA71F90F40988873B.d.AC3927B532B85F7993A7F36D58710206.e.128425\")>>,\n",
       " <bound method WebElement.get_attribute of <selenium.webdriver.remote.webelement.WebElement (session=\"18aeaeaaa3e569431c2566cb75fc6ce5\", element=\"f.299C1834576DE46EA71F90F40988873B.d.AC3927B532B85F7993A7F36D58710206.e.128655\")>>,\n",
       " <bound method WebElement.get_attribute of <selenium.webdriver.remote.webelement.WebElement (session=\"18aeaeaaa3e569431c2566cb75fc6ce5\", element=\"f.299C1834576DE46EA71F90F40988873B.d.AC3927B532B85F7993A7F36D58710206.e.128967\")>>,\n",
       " <bound method WebElement.get_attribute of <selenium.webdriver.remote.webelement.WebElement (session=\"18aeaeaaa3e569431c2566cb75fc6ce5\", element=\"f.299C1834576DE46EA71F90F40988873B.d.AC3927B532B85F7993A7F36D58710206.e.129280\")>>,\n",
       " <bound method WebElement.get_attribute of <selenium.webdriver.remote.webelement.WebElement (session=\"18aeaeaaa3e569431c2566cb75fc6ce5\", element=\"f.299C1834576DE46EA71F90F40988873B.d.AC3927B532B85F7993A7F36D58710206.e.129609\")>>,\n",
       " <bound method WebElement.get_attribute of <selenium.webdriver.remote.webelement.WebElement (session=\"18aeaeaaa3e569431c2566cb75fc6ce5\", element=\"f.299C1834576DE46EA71F90F40988873B.d.AC3927B532B85F7993A7F36D58710206.e.129928\")>>,\n",
       " <bound method WebElement.get_attribute of <selenium.webdriver.remote.webelement.WebElement (session=\"18aeaeaaa3e569431c2566cb75fc6ce5\", element=\"f.299C1834576DE46EA71F90F40988873B.d.AC3927B532B85F7993A7F36D58710206.e.130224\")>>,\n",
       " <bound method WebElement.get_attribute of <selenium.webdriver.remote.webelement.WebElement (session=\"18aeaeaaa3e569431c2566cb75fc6ce5\", element=\"f.299C1834576DE46EA71F90F40988873B.d.AC3927B532B85F7993A7F36D58710206.e.130536\")>>,\n",
       " <bound method WebElement.get_attribute of <selenium.webdriver.remote.webelement.WebElement (session=\"18aeaeaaa3e569431c2566cb75fc6ce5\", element=\"f.299C1834576DE46EA71F90F40988873B.d.AC3927B532B85F7993A7F36D58710206.e.130848\")>>,\n",
       " <bound method WebElement.get_attribute of <selenium.webdriver.remote.webelement.WebElement (session=\"18aeaeaaa3e569431c2566cb75fc6ce5\", element=\"f.299C1834576DE46EA71F90F40988873B.d.AC3927B532B85F7993A7F36D58710206.e.131160\")>>,\n",
       " <bound method WebElement.get_attribute of <selenium.webdriver.remote.webelement.WebElement (session=\"18aeaeaaa3e569431c2566cb75fc6ce5\", element=\"f.299C1834576DE46EA71F90F40988873B.d.AC3927B532B85F7993A7F36D58710206.e.131679\")>>,\n",
       " <bound method WebElement.get_attribute of <selenium.webdriver.remote.webelement.WebElement (session=\"18aeaeaaa3e569431c2566cb75fc6ce5\", element=\"f.299C1834576DE46EA71F90F40988873B.d.AC3927B532B85F7993A7F36D58710206.e.131802\")>>,\n",
       " <bound method WebElement.get_attribute of <selenium.webdriver.remote.webelement.WebElement (session=\"18aeaeaaa3e569431c2566cb75fc6ce5\", element=\"f.299C1834576DE46EA71F90F40988873B.d.AC3927B532B85F7993A7F36D58710206.e.131925\")>>,\n",
       " <bound method WebElement.get_attribute of <selenium.webdriver.remote.webelement.WebElement (session=\"18aeaeaaa3e569431c2566cb75fc6ce5\", element=\"f.299C1834576DE46EA71F90F40988873B.d.AC3927B532B85F7993A7F36D58710206.e.132048\")>>,\n",
       " <bound method WebElement.get_attribute of <selenium.webdriver.remote.webelement.WebElement (session=\"18aeaeaaa3e569431c2566cb75fc6ce5\", element=\"f.299C1834576DE46EA71F90F40988873B.d.AC3927B532B85F7993A7F36D58710206.e.132758\")>>,\n",
       " <bound method WebElement.get_attribute of <selenium.webdriver.remote.webelement.WebElement (session=\"18aeaeaaa3e569431c2566cb75fc6ce5\", element=\"f.299C1834576DE46EA71F90F40988873B.d.AC3927B532B85F7993A7F36D58710206.e.133071\")>>,\n",
       " <bound method WebElement.get_attribute of <selenium.webdriver.remote.webelement.WebElement (session=\"18aeaeaaa3e569431c2566cb75fc6ce5\", element=\"f.299C1834576DE46EA71F90F40988873B.d.AC3927B532B85F7993A7F36D58710206.e.133384\")>>,\n",
       " <bound method WebElement.get_attribute of <selenium.webdriver.remote.webelement.WebElement (session=\"18aeaeaaa3e569431c2566cb75fc6ce5\", element=\"f.299C1834576DE46EA71F90F40988873B.d.AC3927B532B85F7993A7F36D58710206.e.133696\")>>,\n",
       " <bound method WebElement.get_attribute of <selenium.webdriver.remote.webelement.WebElement (session=\"18aeaeaaa3e569431c2566cb75fc6ce5\", element=\"f.299C1834576DE46EA71F90F40988873B.d.AC3927B532B85F7993A7F36D58710206.e.134008\")>>,\n",
       " <bound method WebElement.get_attribute of <selenium.webdriver.remote.webelement.WebElement (session=\"18aeaeaaa3e569431c2566cb75fc6ce5\", element=\"f.299C1834576DE46EA71F90F40988873B.d.AC3927B532B85F7993A7F36D58710206.e.134320\")>>,\n",
       " <bound method WebElement.get_attribute of <selenium.webdriver.remote.webelement.WebElement (session=\"18aeaeaaa3e569431c2566cb75fc6ce5\", element=\"f.299C1834576DE46EA71F90F40988873B.d.AC3927B532B85F7993A7F36D58710206.e.134635\")>>,\n",
       " <bound method WebElement.get_attribute of <selenium.webdriver.remote.webelement.WebElement (session=\"18aeaeaaa3e569431c2566cb75fc6ce5\", element=\"f.299C1834576DE46EA71F90F40988873B.d.AC3927B532B85F7993A7F36D58710206.e.134947\")>>,\n",
       " <bound method WebElement.get_attribute of <selenium.webdriver.remote.webelement.WebElement (session=\"18aeaeaaa3e569431c2566cb75fc6ce5\", element=\"f.299C1834576DE46EA71F90F40988873B.d.AC3927B532B85F7993A7F36D58710206.e.135260\")>>,\n",
       " <bound method WebElement.get_attribute of <selenium.webdriver.remote.webelement.WebElement (session=\"18aeaeaaa3e569431c2566cb75fc6ce5\", element=\"f.299C1834576DE46EA71F90F40988873B.d.AC3927B532B85F7993A7F36D58710206.e.135572\")>>,\n",
       " <bound method WebElement.get_attribute of <selenium.webdriver.remote.webelement.WebElement (session=\"18aeaeaaa3e569431c2566cb75fc6ce5\", element=\"f.299C1834576DE46EA71F90F40988873B.d.AC3927B532B85F7993A7F36D58710206.e.135884\")>>,\n",
       " <bound method WebElement.get_attribute of <selenium.webdriver.remote.webelement.WebElement (session=\"18aeaeaaa3e569431c2566cb75fc6ce5\", element=\"f.299C1834576DE46EA71F90F40988873B.d.AC3927B532B85F7993A7F36D58710206.e.136196\")>>,\n",
       " <bound method WebElement.get_attribute of <selenium.webdriver.remote.webelement.WebElement (session=\"18aeaeaaa3e569431c2566cb75fc6ce5\", element=\"f.299C1834576DE46EA71F90F40988873B.d.AC3927B532B85F7993A7F36D58710206.e.136509\")>>,\n",
       " <bound method WebElement.get_attribute of <selenium.webdriver.remote.webelement.WebElement (session=\"18aeaeaaa3e569431c2566cb75fc6ce5\", element=\"f.299C1834576DE46EA71F90F40988873B.d.AC3927B532B85F7993A7F36D58710206.e.136821\")>>,\n",
       " <bound method WebElement.get_attribute of <selenium.webdriver.remote.webelement.WebElement (session=\"18aeaeaaa3e569431c2566cb75fc6ce5\", element=\"f.299C1834576DE46EA71F90F40988873B.d.AC3927B532B85F7993A7F36D58710206.e.137133\")>>,\n",
       " <bound method WebElement.get_attribute of <selenium.webdriver.remote.webelement.WebElement (session=\"18aeaeaaa3e569431c2566cb75fc6ce5\", element=\"f.299C1834576DE46EA71F90F40988873B.d.AC3927B532B85F7993A7F36D58710206.e.137450\")>>,\n",
       " <bound method WebElement.get_attribute of <selenium.webdriver.remote.webelement.WebElement (session=\"18aeaeaaa3e569431c2566cb75fc6ce5\", element=\"f.299C1834576DE46EA71F90F40988873B.d.AC3927B532B85F7993A7F36D58710206.e.138026\")>>,\n",
       " <bound method WebElement.get_attribute of <selenium.webdriver.remote.webelement.WebElement (session=\"18aeaeaaa3e569431c2566cb75fc6ce5\", element=\"f.299C1834576DE46EA71F90F40988873B.d.AC3927B532B85F7993A7F36D58710206.e.138149\")>>,\n",
       " <bound method WebElement.get_attribute of <selenium.webdriver.remote.webelement.WebElement (session=\"18aeaeaaa3e569431c2566cb75fc6ce5\", element=\"f.299C1834576DE46EA71F90F40988873B.d.AC3927B532B85F7993A7F36D58710206.e.138272\")>>,\n",
       " <bound method WebElement.get_attribute of <selenium.webdriver.remote.webelement.WebElement (session=\"18aeaeaaa3e569431c2566cb75fc6ce5\", element=\"f.299C1834576DE46EA71F90F40988873B.d.AC3927B532B85F7993A7F36D58710206.e.138395\")>>,\n",
       " <bound method WebElement.get_attribute of <selenium.webdriver.remote.webelement.WebElement (session=\"18aeaeaaa3e569431c2566cb75fc6ce5\", element=\"f.299C1834576DE46EA71F90F40988873B.d.AC3927B532B85F7993A7F36D58710206.e.138518\")>>,\n",
       " <bound method WebElement.get_attribute of <selenium.webdriver.remote.webelement.WebElement (session=\"18aeaeaaa3e569431c2566cb75fc6ce5\", element=\"f.299C1834576DE46EA71F90F40988873B.d.AC3927B532B85F7993A7F36D58710206.e.139360\")>>,\n",
       " <bound method WebElement.get_attribute of <selenium.webdriver.remote.webelement.WebElement (session=\"18aeaeaaa3e569431c2566cb75fc6ce5\", element=\"f.299C1834576DE46EA71F90F40988873B.d.AC3927B532B85F7993A7F36D58710206.e.139710\")>>,\n",
       " <bound method WebElement.get_attribute of <selenium.webdriver.remote.webelement.WebElement (session=\"18aeaeaaa3e569431c2566cb75fc6ce5\", element=\"f.299C1834576DE46EA71F90F40988873B.d.AC3927B532B85F7993A7F36D58710206.e.140023\")>>,\n",
       " <bound method WebElement.get_attribute of <selenium.webdriver.remote.webelement.WebElement (session=\"18aeaeaaa3e569431c2566cb75fc6ce5\", element=\"f.299C1834576DE46EA71F90F40988873B.d.AC3927B532B85F7993A7F36D58710206.e.140335\")>>,\n",
       " <bound method WebElement.get_attribute of <selenium.webdriver.remote.webelement.WebElement (session=\"18aeaeaaa3e569431c2566cb75fc6ce5\", element=\"f.299C1834576DE46EA71F90F40988873B.d.AC3927B532B85F7993A7F36D58710206.e.140647\")>>,\n",
       " <bound method WebElement.get_attribute of <selenium.webdriver.remote.webelement.WebElement (session=\"18aeaeaaa3e569431c2566cb75fc6ce5\", element=\"f.299C1834576DE46EA71F90F40988873B.d.AC3927B532B85F7993A7F36D58710206.e.140960\")>>,\n",
       " <bound method WebElement.get_attribute of <selenium.webdriver.remote.webelement.WebElement (session=\"18aeaeaaa3e569431c2566cb75fc6ce5\", element=\"f.299C1834576DE46EA71F90F40988873B.d.AC3927B532B85F7993A7F36D58710206.e.141273\")>>,\n",
       " <bound method WebElement.get_attribute of <selenium.webdriver.remote.webelement.WebElement (session=\"18aeaeaaa3e569431c2566cb75fc6ce5\", element=\"f.299C1834576DE46EA71F90F40988873B.d.AC3927B532B85F7993A7F36D58710206.e.141586\")>>,\n",
       " <bound method WebElement.get_attribute of <selenium.webdriver.remote.webelement.WebElement (session=\"18aeaeaaa3e569431c2566cb75fc6ce5\", element=\"f.299C1834576DE46EA71F90F40988873B.d.AC3927B532B85F7993A7F36D58710206.e.141898\")>>,\n",
       " <bound method WebElement.get_attribute of <selenium.webdriver.remote.webelement.WebElement (session=\"18aeaeaaa3e569431c2566cb75fc6ce5\", element=\"f.299C1834576DE46EA71F90F40988873B.d.AC3927B532B85F7993A7F36D58710206.e.142211\")>>,\n",
       " <bound method WebElement.get_attribute of <selenium.webdriver.remote.webelement.WebElement (session=\"18aeaeaaa3e569431c2566cb75fc6ce5\", element=\"f.299C1834576DE46EA71F90F40988873B.d.AC3927B532B85F7993A7F36D58710206.e.142523\")>>,\n",
       " <bound method WebElement.get_attribute of <selenium.webdriver.remote.webelement.WebElement (session=\"18aeaeaaa3e569431c2566cb75fc6ce5\", element=\"f.299C1834576DE46EA71F90F40988873B.d.AC3927B532B85F7993A7F36D58710206.e.142835\")>>,\n",
       " <bound method WebElement.get_attribute of <selenium.webdriver.remote.webelement.WebElement (session=\"18aeaeaaa3e569431c2566cb75fc6ce5\", element=\"f.299C1834576DE46EA71F90F40988873B.d.AC3927B532B85F7993A7F36D58710206.e.143147\")>>,\n",
       " <bound method WebElement.get_attribute of <selenium.webdriver.remote.webelement.WebElement (session=\"18aeaeaaa3e569431c2566cb75fc6ce5\", element=\"f.299C1834576DE46EA71F90F40988873B.d.AC3927B532B85F7993A7F36D58710206.e.143459\")>>,\n",
       " <bound method WebElement.get_attribute of <selenium.webdriver.remote.webelement.WebElement (session=\"18aeaeaaa3e569431c2566cb75fc6ce5\", element=\"f.299C1834576DE46EA71F90F40988873B.d.AC3927B532B85F7993A7F36D58710206.e.143788\")>>,\n",
       " <bound method WebElement.get_attribute of <selenium.webdriver.remote.webelement.WebElement (session=\"18aeaeaaa3e569431c2566cb75fc6ce5\", element=\"f.299C1834576DE46EA71F90F40988873B.d.AC3927B532B85F7993A7F36D58710206.e.144238\")>>,\n",
       " <bound method WebElement.get_attribute of <selenium.webdriver.remote.webelement.WebElement (session=\"18aeaeaaa3e569431c2566cb75fc6ce5\", element=\"f.299C1834576DE46EA71F90F40988873B.d.AC3927B532B85F7993A7F36D58710206.e.144361\")>>,\n",
       " <bound method WebElement.get_attribute of <selenium.webdriver.remote.webelement.WebElement (session=\"18aeaeaaa3e569431c2566cb75fc6ce5\", element=\"f.299C1834576DE46EA71F90F40988873B.d.AC3927B532B85F7993A7F36D58710206.e.144484\")>>,\n",
       " <bound method WebElement.get_attribute of <selenium.webdriver.remote.webelement.WebElement (session=\"18aeaeaaa3e569431c2566cb75fc6ce5\", element=\"f.299C1834576DE46EA71F90F40988873B.d.AC3927B532B85F7993A7F36D58710206.e.145060\")>>,\n",
       " <bound method WebElement.get_attribute of <selenium.webdriver.remote.webelement.WebElement (session=\"18aeaeaaa3e569431c2566cb75fc6ce5\", element=\"f.299C1834576DE46EA71F90F40988873B.d.AC3927B532B85F7993A7F36D58710206.e.145372\")>>,\n",
       " <bound method WebElement.get_attribute of <selenium.webdriver.remote.webelement.WebElement (session=\"18aeaeaaa3e569431c2566cb75fc6ce5\", element=\"f.299C1834576DE46EA71F90F40988873B.d.AC3927B532B85F7993A7F36D58710206.e.145684\")>>,\n",
       " <bound method WebElement.get_attribute of <selenium.webdriver.remote.webelement.WebElement (session=\"18aeaeaaa3e569431c2566cb75fc6ce5\", element=\"f.299C1834576DE46EA71F90F40988873B.d.AC3927B532B85F7993A7F36D58710206.e.145997\")>>,\n",
       " <bound method WebElement.get_attribute of <selenium.webdriver.remote.webelement.WebElement (session=\"18aeaeaaa3e569431c2566cb75fc6ce5\", element=\"f.299C1834576DE46EA71F90F40988873B.d.AC3927B532B85F7993A7F36D58710206.e.146309\")>>,\n",
       " <bound method WebElement.get_attribute of <selenium.webdriver.remote.webelement.WebElement (session=\"18aeaeaaa3e569431c2566cb75fc6ce5\", element=\"f.299C1834576DE46EA71F90F40988873B.d.AC3927B532B85F7993A7F36D58710206.e.146623\")>>,\n",
       " <bound method WebElement.get_attribute of <selenium.webdriver.remote.webelement.WebElement (session=\"18aeaeaaa3e569431c2566cb75fc6ce5\", element=\"f.299C1834576DE46EA71F90F40988873B.d.AC3927B532B85F7993A7F36D58710206.e.146951\")>>,\n",
       " <bound method WebElement.get_attribute of <selenium.webdriver.remote.webelement.WebElement (session=\"18aeaeaaa3e569431c2566cb75fc6ce5\", element=\"f.299C1834576DE46EA71F90F40988873B.d.AC3927B532B85F7993A7F36D58710206.e.147247\")>>,\n",
       " <bound method WebElement.get_attribute of <selenium.webdriver.remote.webelement.WebElement (session=\"18aeaeaaa3e569431c2566cb75fc6ce5\", element=\"f.299C1834576DE46EA71F90F40988873B.d.AC3927B532B85F7993A7F36D58710206.e.147559\")>>,\n",
       " <bound method WebElement.get_attribute of <selenium.webdriver.remote.webelement.WebElement (session=\"18aeaeaaa3e569431c2566cb75fc6ce5\", element=\"f.299C1834576DE46EA71F90F40988873B.d.AC3927B532B85F7993A7F36D58710206.e.147871\")>>,\n",
       " <bound method WebElement.get_attribute of <selenium.webdriver.remote.webelement.WebElement (session=\"18aeaeaaa3e569431c2566cb75fc6ce5\", element=\"f.299C1834576DE46EA71F90F40988873B.d.AC3927B532B85F7993A7F36D58710206.e.148183\")>>,\n",
       " <bound method WebElement.get_attribute of <selenium.webdriver.remote.webelement.WebElement (session=\"18aeaeaaa3e569431c2566cb75fc6ce5\", element=\"f.299C1834576DE46EA71F90F40988873B.d.AC3927B532B85F7993A7F36D58710206.e.148498\")>>,\n",
       " <bound method WebElement.get_attribute of <selenium.webdriver.remote.webelement.WebElement (session=\"18aeaeaaa3e569431c2566cb75fc6ce5\", element=\"f.299C1834576DE46EA71F90F40988873B.d.AC3927B532B85F7993A7F36D58710206.e.148810\")>>,\n",
       " <bound method WebElement.get_attribute of <selenium.webdriver.remote.webelement.WebElement (session=\"18aeaeaaa3e569431c2566cb75fc6ce5\", element=\"f.299C1834576DE46EA71F90F40988873B.d.AC3927B532B85F7993A7F36D58710206.e.149122\")>>,\n",
       " <bound method WebElement.get_attribute of <selenium.webdriver.remote.webelement.WebElement (session=\"18aeaeaaa3e569431c2566cb75fc6ce5\", element=\"f.299C1834576DE46EA71F90F40988873B.d.AC3927B532B85F7993A7F36D58710206.e.149434\")>>,\n",
       " <bound method WebElement.get_attribute of <selenium.webdriver.remote.webelement.WebElement (session=\"18aeaeaaa3e569431c2566cb75fc6ce5\", element=\"f.299C1834576DE46EA71F90F40988873B.d.AC3927B532B85F7993A7F36D58710206.e.149746\")>>,\n",
       " <bound method WebElement.get_attribute of <selenium.webdriver.remote.webelement.WebElement (session=\"18aeaeaaa3e569431c2566cb75fc6ce5\", element=\"f.299C1834576DE46EA71F90F40988873B.d.AC3927B532B85F7993A7F36D58710206.e.150059\")>>,\n",
       " <bound method WebElement.get_attribute of <selenium.webdriver.remote.webelement.WebElement (session=\"18aeaeaaa3e569431c2566cb75fc6ce5\", element=\"f.299C1834576DE46EA71F90F40988873B.d.AC3927B532B85F7993A7F36D58710206.e.150584\")>>,\n",
       " <bound method WebElement.get_attribute of <selenium.webdriver.remote.webelement.WebElement (session=\"18aeaeaaa3e569431c2566cb75fc6ce5\", element=\"f.299C1834576DE46EA71F90F40988873B.d.AC3927B532B85F7993A7F36D58710206.e.150707\")>>,\n",
       " <bound method WebElement.get_attribute of <selenium.webdriver.remote.webelement.WebElement (session=\"18aeaeaaa3e569431c2566cb75fc6ce5\", element=\"f.299C1834576DE46EA71F90F40988873B.d.AC3927B532B85F7993A7F36D58710206.e.150830\")>>,\n",
       " <bound method WebElement.get_attribute of <selenium.webdriver.remote.webelement.WebElement (session=\"18aeaeaaa3e569431c2566cb75fc6ce5\", element=\"f.299C1834576DE46EA71F90F40988873B.d.AC3927B532B85F7993A7F36D58710206.e.150953\")>>,\n",
       " <bound method WebElement.get_attribute of <selenium.webdriver.remote.webelement.WebElement (session=\"18aeaeaaa3e569431c2566cb75fc6ce5\", element=\"f.299C1834576DE46EA71F90F40988873B.d.AC3927B532B85F7993A7F36D58710206.e.151076\")>>,\n",
       " <bound method WebElement.get_attribute of <selenium.webdriver.remote.webelement.WebElement (session=\"18aeaeaaa3e569431c2566cb75fc6ce5\", element=\"f.299C1834576DE46EA71F90F40988873B.d.AC3927B532B85F7993A7F36D58710206.e.151839\")>>,\n",
       " <bound method WebElement.get_attribute of <selenium.webdriver.remote.webelement.WebElement (session=\"18aeaeaaa3e569431c2566cb75fc6ce5\", element=\"f.299C1834576DE46EA71F90F40988873B.d.AC3927B532B85F7993A7F36D58710206.e.152151\")>>,\n",
       " <bound method WebElement.get_attribute of <selenium.webdriver.remote.webelement.WebElement (session=\"18aeaeaaa3e569431c2566cb75fc6ce5\", element=\"f.299C1834576DE46EA71F90F40988873B.d.AC3927B532B85F7993A7F36D58710206.e.152464\")>>,\n",
       " <bound method WebElement.get_attribute of <selenium.webdriver.remote.webelement.WebElement (session=\"18aeaeaaa3e569431c2566cb75fc6ce5\", element=\"f.299C1834576DE46EA71F90F40988873B.d.AC3927B532B85F7993A7F36D58710206.e.152777\")>>,\n",
       " <bound method WebElement.get_attribute of <selenium.webdriver.remote.webelement.WebElement (session=\"18aeaeaaa3e569431c2566cb75fc6ce5\", element=\"f.299C1834576DE46EA71F90F40988873B.d.AC3927B532B85F7993A7F36D58710206.e.153090\")>>,\n",
       " <bound method WebElement.get_attribute of <selenium.webdriver.remote.webelement.WebElement (session=\"18aeaeaaa3e569431c2566cb75fc6ce5\", element=\"f.299C1834576DE46EA71F90F40988873B.d.AC3927B532B85F7993A7F36D58710206.e.153402\")>>,\n",
       " <bound method WebElement.get_attribute of <selenium.webdriver.remote.webelement.WebElement (session=\"18aeaeaaa3e569431c2566cb75fc6ce5\", element=\"f.299C1834576DE46EA71F90F40988873B.d.AC3927B532B85F7993A7F36D58710206.e.153718\")>>,\n",
       " <bound method WebElement.get_attribute of <selenium.webdriver.remote.webelement.WebElement (session=\"18aeaeaaa3e569431c2566cb75fc6ce5\", element=\"f.299C1834576DE46EA71F90F40988873B.d.AC3927B532B85F7993A7F36D58710206.e.154031\")>>,\n",
       " <bound method WebElement.get_attribute of <selenium.webdriver.remote.webelement.WebElement (session=\"18aeaeaaa3e569431c2566cb75fc6ce5\", element=\"f.299C1834576DE46EA71F90F40988873B.d.AC3927B532B85F7993A7F36D58710206.e.154343\")>>,\n",
       " <bound method WebElement.get_attribute of <selenium.webdriver.remote.webelement.WebElement (session=\"18aeaeaaa3e569431c2566cb75fc6ce5\", element=\"f.299C1834576DE46EA71F90F40988873B.d.AC3927B532B85F7993A7F36D58710206.e.154656\")>>,\n",
       " <bound method WebElement.get_attribute of <selenium.webdriver.remote.webelement.WebElement (session=\"18aeaeaaa3e569431c2566cb75fc6ce5\", element=\"f.299C1834576DE46EA71F90F40988873B.d.AC3927B532B85F7993A7F36D58710206.e.154970\")>>,\n",
       " <bound method WebElement.get_attribute of <selenium.webdriver.remote.webelement.WebElement (session=\"18aeaeaaa3e569431c2566cb75fc6ce5\", element=\"f.299C1834576DE46EA71F90F40988873B.d.AC3927B532B85F7993A7F36D58710206.e.155282\")>>,\n",
       " <bound method WebElement.get_attribute of <selenium.webdriver.remote.webelement.WebElement (session=\"18aeaeaaa3e569431c2566cb75fc6ce5\", element=\"f.299C1834576DE46EA71F90F40988873B.d.AC3927B532B85F7993A7F36D58710206.e.155594\")>>,\n",
       " <bound method WebElement.get_attribute of <selenium.webdriver.remote.webelement.WebElement (session=\"18aeaeaaa3e569431c2566cb75fc6ce5\", element=\"f.299C1834576DE46EA71F90F40988873B.d.AC3927B532B85F7993A7F36D58710206.e.155906\")>>,\n",
       " <bound method WebElement.get_attribute of <selenium.webdriver.remote.webelement.WebElement (session=\"18aeaeaaa3e569431c2566cb75fc6ce5\", element=\"f.299C1834576DE46EA71F90F40988873B.d.AC3927B532B85F7993A7F36D58710206.e.156219\")>>,\n",
       " <bound method WebElement.get_attribute of <selenium.webdriver.remote.webelement.WebElement (session=\"18aeaeaaa3e569431c2566cb75fc6ce5\", element=\"f.299C1834576DE46EA71F90F40988873B.d.AC3927B532B85F7993A7F36D58710206.e.156795\")>>,\n",
       " <bound method WebElement.get_attribute of <selenium.webdriver.remote.webelement.WebElement (session=\"18aeaeaaa3e569431c2566cb75fc6ce5\", element=\"f.299C1834576DE46EA71F90F40988873B.d.AC3927B532B85F7993A7F36D58710206.e.156918\")>>,\n",
       " <bound method WebElement.get_attribute of <selenium.webdriver.remote.webelement.WebElement (session=\"18aeaeaaa3e569431c2566cb75fc6ce5\", element=\"f.299C1834576DE46EA71F90F40988873B.d.AC3927B532B85F7993A7F36D58710206.e.157041\")>>,\n",
       " <bound method WebElement.get_attribute of <selenium.webdriver.remote.webelement.WebElement (session=\"18aeaeaaa3e569431c2566cb75fc6ce5\", element=\"f.299C1834576DE46EA71F90F40988873B.d.AC3927B532B85F7993A7F36D58710206.e.157164\")>>,\n",
       " <bound method WebElement.get_attribute of <selenium.webdriver.remote.webelement.WebElement (session=\"18aeaeaaa3e569431c2566cb75fc6ce5\", element=\"f.299C1834576DE46EA71F90F40988873B.d.AC3927B532B85F7993A7F36D58710206.e.157288\")>>,\n",
       " <bound method WebElement.get_attribute of <selenium.webdriver.remote.webelement.WebElement (session=\"18aeaeaaa3e569431c2566cb75fc6ce5\", element=\"f.299C1834576DE46EA71F90F40988873B.d.AC3927B532B85F7993A7F36D58710206.e.158169\")>>,\n",
       " <bound method WebElement.get_attribute of <selenium.webdriver.remote.webelement.WebElement (session=\"18aeaeaaa3e569431c2566cb75fc6ce5\", element=\"f.299C1834576DE46EA71F90F40988873B.d.AC3927B532B85F7993A7F36D58710206.e.158483\")>>,\n",
       " <bound method WebElement.get_attribute of <selenium.webdriver.remote.webelement.WebElement (session=\"18aeaeaaa3e569431c2566cb75fc6ce5\", element=\"f.299C1834576DE46EA71F90F40988873B.d.AC3927B532B85F7993A7F36D58710206.e.158795\")>>,\n",
       " <bound method WebElement.get_attribute of <selenium.webdriver.remote.webelement.WebElement (session=\"18aeaeaaa3e569431c2566cb75fc6ce5\", element=\"f.299C1834576DE46EA71F90F40988873B.d.AC3927B532B85F7993A7F36D58710206.e.159108\")>>,\n",
       " <bound method WebElement.get_attribute of <selenium.webdriver.remote.webelement.WebElement (session=\"18aeaeaaa3e569431c2566cb75fc6ce5\", element=\"f.299C1834576DE46EA71F90F40988873B.d.AC3927B532B85F7993A7F36D58710206.e.159420\")>>,\n",
       " <bound method WebElement.get_attribute of <selenium.webdriver.remote.webelement.WebElement (session=\"18aeaeaaa3e569431c2566cb75fc6ce5\", element=\"f.299C1834576DE46EA71F90F40988873B.d.AC3927B532B85F7993A7F36D58710206.e.159735\")>>,\n",
       " <bound method WebElement.get_attribute of <selenium.webdriver.remote.webelement.WebElement (session=\"18aeaeaaa3e569431c2566cb75fc6ce5\", element=\"f.299C1834576DE46EA71F90F40988873B.d.AC3927B532B85F7993A7F36D58710206.e.160051\")>>,\n",
       " <bound method WebElement.get_attribute of <selenium.webdriver.remote.webelement.WebElement (session=\"18aeaeaaa3e569431c2566cb75fc6ce5\", element=\"f.299C1834576DE46EA71F90F40988873B.d.AC3927B532B85F7993A7F36D58710206.e.160365\")>>,\n",
       " <bound method WebElement.get_attribute of <selenium.webdriver.remote.webelement.WebElement (session=\"18aeaeaaa3e569431c2566cb75fc6ce5\", element=\"f.299C1834576DE46EA71F90F40988873B.d.AC3927B532B85F7993A7F36D58710206.e.160716\")>>,\n",
       " <bound method WebElement.get_attribute of <selenium.webdriver.remote.webelement.WebElement (session=\"18aeaeaaa3e569431c2566cb75fc6ce5\", element=\"f.299C1834576DE46EA71F90F40988873B.d.AC3927B532B85F7993A7F36D58710206.e.161028\")>>,\n",
       " <bound method WebElement.get_attribute of <selenium.webdriver.remote.webelement.WebElement (session=\"18aeaeaaa3e569431c2566cb75fc6ce5\", element=\"f.299C1834576DE46EA71F90F40988873B.d.AC3927B532B85F7993A7F36D58710206.e.161340\")>>,\n",
       " <bound method WebElement.get_attribute of <selenium.webdriver.remote.webelement.WebElement (session=\"18aeaeaaa3e569431c2566cb75fc6ce5\", element=\"f.299C1834576DE46EA71F90F40988873B.d.AC3927B532B85F7993A7F36D58710206.e.161652\")>>,\n",
       " <bound method WebElement.get_attribute of <selenium.webdriver.remote.webelement.WebElement (session=\"18aeaeaaa3e569431c2566cb75fc6ce5\", element=\"f.299C1834576DE46EA71F90F40988873B.d.AC3927B532B85F7993A7F36D58710206.e.161966\")>>,\n",
       " <bound method WebElement.get_attribute of <selenium.webdriver.remote.webelement.WebElement (session=\"18aeaeaaa3e569431c2566cb75fc6ce5\", element=\"f.299C1834576DE46EA71F90F40988873B.d.AC3927B532B85F7993A7F36D58710206.e.162279\")>>,\n",
       " <bound method WebElement.get_attribute of <selenium.webdriver.remote.webelement.WebElement (session=\"18aeaeaaa3e569431c2566cb75fc6ce5\", element=\"f.299C1834576DE46EA71F90F40988873B.d.AC3927B532B85F7993A7F36D58710206.e.162593\")>>,\n",
       " <bound method WebElement.get_attribute of <selenium.webdriver.remote.webelement.WebElement (session=\"18aeaeaaa3e569431c2566cb75fc6ce5\", element=\"f.299C1834576DE46EA71F90F40988873B.d.AC3927B532B85F7993A7F36D58710206.e.163067\")>>,\n",
       " <bound method WebElement.get_attribute of <selenium.webdriver.remote.webelement.WebElement (session=\"18aeaeaaa3e569431c2566cb75fc6ce5\", element=\"f.299C1834576DE46EA71F90F40988873B.d.AC3927B532B85F7993A7F36D58710206.e.163162\")>>,\n",
       " <bound method WebElement.get_attribute of <selenium.webdriver.remote.webelement.WebElement (session=\"18aeaeaaa3e569431c2566cb75fc6ce5\", element=\"f.299C1834576DE46EA71F90F40988873B.d.AC3927B532B85F7993A7F36D58710206.e.163259\")>>,\n",
       " <bound method WebElement.get_attribute of <selenium.webdriver.remote.webelement.WebElement (session=\"18aeaeaaa3e569431c2566cb75fc6ce5\", element=\"f.299C1834576DE46EA71F90F40988873B.d.AC3927B532B85F7993A7F36D58710206.e.163382\")>>,\n",
       " <bound method WebElement.get_attribute of <selenium.webdriver.remote.webelement.WebElement (session=\"18aeaeaaa3e569431c2566cb75fc6ce5\", element=\"f.299C1834576DE46EA71F90F40988873B.d.AC3927B532B85F7993A7F36D58710206.e.163505\")>>,\n",
       " <bound method WebElement.get_attribute of <selenium.webdriver.remote.webelement.WebElement (session=\"18aeaeaaa3e569431c2566cb75fc6ce5\", element=\"f.299C1834576DE46EA71F90F40988873B.d.AC3927B532B85F7993A7F36D58710206.e.164243\")>>,\n",
       " <bound method WebElement.get_attribute of <selenium.webdriver.remote.webelement.WebElement (session=\"18aeaeaaa3e569431c2566cb75fc6ce5\", element=\"f.299C1834576DE46EA71F90F40988873B.d.AC3927B532B85F7993A7F36D58710206.e.164559\")>>,\n",
       " <bound method WebElement.get_attribute of <selenium.webdriver.remote.webelement.WebElement (session=\"18aeaeaaa3e569431c2566cb75fc6ce5\", element=\"f.299C1834576DE46EA71F90F40988873B.d.AC3927B532B85F7993A7F36D58710206.e.164872\")>>,\n",
       " <bound method WebElement.get_attribute of <selenium.webdriver.remote.webelement.WebElement (session=\"18aeaeaaa3e569431c2566cb75fc6ce5\", element=\"f.299C1834576DE46EA71F90F40988873B.d.AC3927B532B85F7993A7F36D58710206.e.165186\")>>,\n",
       " <bound method WebElement.get_attribute of <selenium.webdriver.remote.webelement.WebElement (session=\"18aeaeaaa3e569431c2566cb75fc6ce5\", element=\"f.299C1834576DE46EA71F90F40988873B.d.AC3927B532B85F7993A7F36D58710206.e.165498\")>>,\n",
       " <bound method WebElement.get_attribute of <selenium.webdriver.remote.webelement.WebElement (session=\"18aeaeaaa3e569431c2566cb75fc6ce5\", element=\"f.299C1834576DE46EA71F90F40988873B.d.AC3927B532B85F7993A7F36D58710206.e.165810\")>>,\n",
       " <bound method WebElement.get_attribute of <selenium.webdriver.remote.webelement.WebElement (session=\"18aeaeaaa3e569431c2566cb75fc6ce5\", element=\"f.299C1834576DE46EA71F90F40988873B.d.AC3927B532B85F7993A7F36D58710206.e.166123\")>>,\n",
       " <bound method WebElement.get_attribute of <selenium.webdriver.remote.webelement.WebElement (session=\"18aeaeaaa3e569431c2566cb75fc6ce5\", element=\"f.299C1834576DE46EA71F90F40988873B.d.AC3927B532B85F7993A7F36D58710206.e.166436\")>>,\n",
       " <bound method WebElement.get_attribute of <selenium.webdriver.remote.webelement.WebElement (session=\"18aeaeaaa3e569431c2566cb75fc6ce5\", element=\"f.299C1834576DE46EA71F90F40988873B.d.AC3927B532B85F7993A7F36D58710206.e.166748\")>>,\n",
       " <bound method WebElement.get_attribute of <selenium.webdriver.remote.webelement.WebElement (session=\"18aeaeaaa3e569431c2566cb75fc6ce5\", element=\"f.299C1834576DE46EA71F90F40988873B.d.AC3927B532B85F7993A7F36D58710206.e.167061\")>>,\n",
       " <bound method WebElement.get_attribute of <selenium.webdriver.remote.webelement.WebElement (session=\"18aeaeaaa3e569431c2566cb75fc6ce5\", element=\"f.299C1834576DE46EA71F90F40988873B.d.AC3927B532B85F7993A7F36D58710206.e.167373\")>>,\n",
       " <bound method WebElement.get_attribute of <selenium.webdriver.remote.webelement.WebElement (session=\"18aeaeaaa3e569431c2566cb75fc6ce5\", element=\"f.299C1834576DE46EA71F90F40988873B.d.AC3927B532B85F7993A7F36D58710206.e.167686\")>>,\n",
       " <bound method WebElement.get_attribute of <selenium.webdriver.remote.webelement.WebElement (session=\"18aeaeaaa3e569431c2566cb75fc6ce5\", element=\"f.299C1834576DE46EA71F90F40988873B.d.AC3927B532B85F7993A7F36D58710206.e.167998\")>>,\n",
       " <bound method WebElement.get_attribute of <selenium.webdriver.remote.webelement.WebElement (session=\"18aeaeaaa3e569431c2566cb75fc6ce5\", element=\"f.299C1834576DE46EA71F90F40988873B.d.AC3927B532B85F7993A7F36D58710206.e.168310\")>>,\n",
       " <bound method WebElement.get_attribute of <selenium.webdriver.remote.webelement.WebElement (session=\"18aeaeaaa3e569431c2566cb75fc6ce5\", element=\"f.299C1834576DE46EA71F90F40988873B.d.AC3927B532B85F7993A7F36D58710206.e.168622\")>>,\n",
       " <bound method WebElement.get_attribute of <selenium.webdriver.remote.webelement.WebElement (session=\"18aeaeaaa3e569431c2566cb75fc6ce5\", element=\"f.299C1834576DE46EA71F90F40988873B.d.AC3927B532B85F7993A7F36D58710206.e.169141\")>>,\n",
       " <bound method WebElement.get_attribute of <selenium.webdriver.remote.webelement.WebElement (session=\"18aeaeaaa3e569431c2566cb75fc6ce5\", element=\"f.299C1834576DE46EA71F90F40988873B.d.AC3927B532B85F7993A7F36D58710206.e.169264\")>>,\n",
       " <bound method WebElement.get_attribute of <selenium.webdriver.remote.webelement.WebElement (session=\"18aeaeaaa3e569431c2566cb75fc6ce5\", element=\"f.299C1834576DE46EA71F90F40988873B.d.AC3927B532B85F7993A7F36D58710206.e.169387\")>>,\n",
       " <bound method WebElement.get_attribute of <selenium.webdriver.remote.webelement.WebElement (session=\"18aeaeaaa3e569431c2566cb75fc6ce5\", element=\"f.299C1834576DE46EA71F90F40988873B.d.AC3927B532B85F7993A7F36D58710206.e.169510\")>>,\n",
       " <bound method WebElement.get_attribute of <selenium.webdriver.remote.webelement.WebElement (session=\"18aeaeaaa3e569431c2566cb75fc6ce5\", element=\"f.299C1834576DE46EA71F90F40988873B.d.AC3927B532B85F7993A7F36D58710206.e.170220\")>>,\n",
       " <bound method WebElement.get_attribute of <selenium.webdriver.remote.webelement.WebElement (session=\"18aeaeaaa3e569431c2566cb75fc6ce5\", element=\"f.299C1834576DE46EA71F90F40988873B.d.AC3927B532B85F7993A7F36D58710206.e.170532\")>>,\n",
       " <bound method WebElement.get_attribute of <selenium.webdriver.remote.webelement.WebElement (session=\"18aeaeaaa3e569431c2566cb75fc6ce5\", element=\"f.299C1834576DE46EA71F90F40988873B.d.AC3927B532B85F7993A7F36D58710206.e.170844\")>>,\n",
       " <bound method WebElement.get_attribute of <selenium.webdriver.remote.webelement.WebElement (session=\"18aeaeaaa3e569431c2566cb75fc6ce5\", element=\"f.299C1834576DE46EA71F90F40988873B.d.AC3927B532B85F7993A7F36D58710206.e.171156\")>>,\n",
       " <bound method WebElement.get_attribute of <selenium.webdriver.remote.webelement.WebElement (session=\"18aeaeaaa3e569431c2566cb75fc6ce5\", element=\"f.299C1834576DE46EA71F90F40988873B.d.AC3927B532B85F7993A7F36D58710206.e.171469\")>>,\n",
       " <bound method WebElement.get_attribute of <selenium.webdriver.remote.webelement.WebElement (session=\"18aeaeaaa3e569431c2566cb75fc6ce5\", element=\"f.299C1834576DE46EA71F90F40988873B.d.AC3927B532B85F7993A7F36D58710206.e.171782\")>>,\n",
       " <bound method WebElement.get_attribute of <selenium.webdriver.remote.webelement.WebElement (session=\"18aeaeaaa3e569431c2566cb75fc6ce5\", element=\"f.299C1834576DE46EA71F90F40988873B.d.AC3927B532B85F7993A7F36D58710206.e.172047\")>>,\n",
       " <bound method WebElement.get_attribute of <selenium.webdriver.remote.webelement.WebElement (session=\"18aeaeaaa3e569431c2566cb75fc6ce5\", element=\"f.299C1834576DE46EA71F90F40988873B.d.AC3927B532B85F7993A7F36D58710206.e.172277\")>>,\n",
       " <bound method WebElement.get_attribute of <selenium.webdriver.remote.webelement.WebElement (session=\"18aeaeaaa3e569431c2566cb75fc6ce5\", element=\"f.299C1834576DE46EA71F90F40988873B.d.AC3927B532B85F7993A7F36D58710206.e.172589\")>>,\n",
       " <bound method WebElement.get_attribute of <selenium.webdriver.remote.webelement.WebElement (session=\"18aeaeaaa3e569431c2566cb75fc6ce5\", element=\"f.299C1834576DE46EA71F90F40988873B.d.AC3927B532B85F7993A7F36D58710206.e.172901\")>>,\n",
       " <bound method WebElement.get_attribute of <selenium.webdriver.remote.webelement.WebElement (session=\"18aeaeaaa3e569431c2566cb75fc6ce5\", element=\"f.299C1834576DE46EA71F90F40988873B.d.AC3927B532B85F7993A7F36D58710206.e.173214\")>>,\n",
       " <bound method WebElement.get_attribute of <selenium.webdriver.remote.webelement.WebElement (session=\"18aeaeaaa3e569431c2566cb75fc6ce5\", element=\"f.299C1834576DE46EA71F90F40988873B.d.AC3927B532B85F7993A7F36D58710206.e.173527\")>>,\n",
       " <bound method WebElement.get_attribute of <selenium.webdriver.remote.webelement.WebElement (session=\"18aeaeaaa3e569431c2566cb75fc6ce5\", element=\"f.299C1834576DE46EA71F90F40988873B.d.AC3927B532B85F7993A7F36D58710206.e.173842\")>>,\n",
       " <bound method WebElement.get_attribute of <selenium.webdriver.remote.webelement.WebElement (session=\"18aeaeaaa3e569431c2566cb75fc6ce5\", element=\"f.299C1834576DE46EA71F90F40988873B.d.AC3927B532B85F7993A7F36D58710206.e.174154\")>>,\n",
       " <bound method WebElement.get_attribute of <selenium.webdriver.remote.webelement.WebElement (session=\"18aeaeaaa3e569431c2566cb75fc6ce5\", element=\"f.299C1834576DE46EA71F90F40988873B.d.AC3927B532B85F7993A7F36D58710206.e.174467\")>>,\n",
       " <bound method WebElement.get_attribute of <selenium.webdriver.remote.webelement.WebElement (session=\"18aeaeaaa3e569431c2566cb75fc6ce5\", element=\"f.299C1834576DE46EA71F90F40988873B.d.AC3927B532B85F7993A7F36D58710206.e.174779\")>>,\n",
       " <bound method WebElement.get_attribute of <selenium.webdriver.remote.webelement.WebElement (session=\"18aeaeaaa3e569431c2566cb75fc6ce5\", element=\"f.299C1834576DE46EA71F90F40988873B.d.AC3927B532B85F7993A7F36D58710206.e.175355\")>>,\n",
       " <bound method WebElement.get_attribute of <selenium.webdriver.remote.webelement.WebElement (session=\"18aeaeaaa3e569431c2566cb75fc6ce5\", element=\"f.299C1834576DE46EA71F90F40988873B.d.AC3927B532B85F7993A7F36D58710206.e.175478\")>>,\n",
       " <bound method WebElement.get_attribute of <selenium.webdriver.remote.webelement.WebElement (session=\"18aeaeaaa3e569431c2566cb75fc6ce5\", element=\"f.299C1834576DE46EA71F90F40988873B.d.AC3927B532B85F7993A7F36D58710206.e.175601\")>>,\n",
       " <bound method WebElement.get_attribute of <selenium.webdriver.remote.webelement.WebElement (session=\"18aeaeaaa3e569431c2566cb75fc6ce5\", element=\"f.299C1834576DE46EA71F90F40988873B.d.AC3927B532B85F7993A7F36D58710206.e.175724\")>>,\n",
       " <bound method WebElement.get_attribute of <selenium.webdriver.remote.webelement.WebElement (session=\"18aeaeaaa3e569431c2566cb75fc6ce5\", element=\"f.299C1834576DE46EA71F90F40988873B.d.AC3927B532B85F7993A7F36D58710206.e.175847\")>>,\n",
       " <bound method WebElement.get_attribute of <selenium.webdriver.remote.webelement.WebElement (session=\"18aeaeaaa3e569431c2566cb75fc6ce5\", element=\"f.299C1834576DE46EA71F90F40988873B.d.AC3927B532B85F7993A7F36D58710206.e.176688\")>>,\n",
       " <bound method WebElement.get_attribute of <selenium.webdriver.remote.webelement.WebElement (session=\"18aeaeaaa3e569431c2566cb75fc6ce5\", element=\"f.299C1834576DE46EA71F90F40988873B.d.AC3927B532B85F7993A7F36D58710206.e.177000\")>>,\n",
       " <bound method WebElement.get_attribute of <selenium.webdriver.remote.webelement.WebElement (session=\"18aeaeaaa3e569431c2566cb75fc6ce5\", element=\"f.299C1834576DE46EA71F90F40988873B.d.AC3927B532B85F7993A7F36D58710206.e.177312\")>>,\n",
       " <bound method WebElement.get_attribute of <selenium.webdriver.remote.webelement.WebElement (session=\"18aeaeaaa3e569431c2566cb75fc6ce5\", element=\"f.299C1834576DE46EA71F90F40988873B.d.AC3927B532B85F7993A7F36D58710206.e.177624\")>>,\n",
       " <bound method WebElement.get_attribute of <selenium.webdriver.remote.webelement.WebElement (session=\"18aeaeaaa3e569431c2566cb75fc6ce5\", element=\"f.299C1834576DE46EA71F90F40988873B.d.AC3927B532B85F7993A7F36D58710206.e.177936\")>>,\n",
       " <bound method WebElement.get_attribute of <selenium.webdriver.remote.webelement.WebElement (session=\"18aeaeaaa3e569431c2566cb75fc6ce5\", element=\"f.299C1834576DE46EA71F90F40988873B.d.AC3927B532B85F7993A7F36D58710206.e.178200\")>>,\n",
       " <bound method WebElement.get_attribute of <selenium.webdriver.remote.webelement.WebElement (session=\"18aeaeaaa3e569431c2566cb75fc6ce5\", element=\"f.299C1834576DE46EA71F90F40988873B.d.AC3927B532B85F7993A7F36D58710206.e.178430\")>>,\n",
       " <bound method WebElement.get_attribute of <selenium.webdriver.remote.webelement.WebElement (session=\"18aeaeaaa3e569431c2566cb75fc6ce5\", element=\"f.299C1834576DE46EA71F90F40988873B.d.AC3927B532B85F7993A7F36D58710206.e.178742\")>>,\n",
       " <bound method WebElement.get_attribute of <selenium.webdriver.remote.webelement.WebElement (session=\"18aeaeaaa3e569431c2566cb75fc6ce5\", element=\"f.299C1834576DE46EA71F90F40988873B.d.AC3927B532B85F7993A7F36D58710206.e.179055\")>>,\n",
       " <bound method WebElement.get_attribute of <selenium.webdriver.remote.webelement.WebElement (session=\"18aeaeaaa3e569431c2566cb75fc6ce5\", element=\"f.299C1834576DE46EA71F90F40988873B.d.AC3927B532B85F7993A7F36D58710206.e.179367\")>>,\n",
       " <bound method WebElement.get_attribute of <selenium.webdriver.remote.webelement.WebElement (session=\"18aeaeaaa3e569431c2566cb75fc6ce5\", element=\"f.299C1834576DE46EA71F90F40988873B.d.AC3927B532B85F7993A7F36D58710206.e.179680\")>>,\n",
       " <bound method WebElement.get_attribute of <selenium.webdriver.remote.webelement.WebElement (session=\"18aeaeaaa3e569431c2566cb75fc6ce5\", element=\"f.299C1834576DE46EA71F90F40988873B.d.AC3927B532B85F7993A7F36D58710206.e.179992\")>>,\n",
       " <bound method WebElement.get_attribute of <selenium.webdriver.remote.webelement.WebElement (session=\"18aeaeaaa3e569431c2566cb75fc6ce5\", element=\"f.299C1834576DE46EA71F90F40988873B.d.AC3927B532B85F7993A7F36D58710206.e.180304\")>>,\n",
       " <bound method WebElement.get_attribute of <selenium.webdriver.remote.webelement.WebElement (session=\"18aeaeaaa3e569431c2566cb75fc6ce5\", element=\"f.299C1834576DE46EA71F90F40988873B.d.AC3927B532B85F7993A7F36D58710206.e.180616\")>>,\n",
       " <bound method WebElement.get_attribute of <selenium.webdriver.remote.webelement.WebElement (session=\"18aeaeaaa3e569431c2566cb75fc6ce5\", element=\"f.299C1834576DE46EA71F90F40988873B.d.AC3927B532B85F7993A7F36D58710206.e.180928\")>>]"
      ]
     },
     "execution_count": 176,
     "metadata": {},
     "output_type": "execute_result"
    }
   ],
   "source": [
    "comment_url"
   ]
  },
  {
   "cell_type": "code",
   "execution_count": 177,
   "id": "f38cdb06",
   "metadata": {},
   "outputs": [],
   "source": [
    "Comment=[]"
   ]
  },
  {
   "cell_type": "code",
   "execution_count": 178,
   "id": "6489241c",
   "metadata": {},
   "outputs": [],
   "source": [
    "comment_tags=driver.find_elements(By.XPATH,'//span[@class=\"yt-core-attributed-string yt-core-attributed-string--white-space-pre-wrap\"]')\n",
    "for i in comment_tags:\n",
    "    comment_title=i.text\n",
    "    Comment.append(comment_title)"
   ]
  },
  {
   "cell_type": "code",
   "execution_count": 180,
   "id": "e22bc80e",
   "metadata": {},
   "outputs": [
    {
     "name": "stdout",
     "output_type": "stream",
     "text": [
      "528\n"
     ]
    }
   ],
   "source": [
    "print(len(Comment))"
   ]
  },
  {
   "cell_type": "code",
   "execution_count": 182,
   "id": "fb424af3",
   "metadata": {},
   "outputs": [
    {
     "data": {
      "text/html": [
       "<div>\n",
       "<style scoped>\n",
       "    .dataframe tbody tr th:only-of-type {\n",
       "        vertical-align: middle;\n",
       "    }\n",
       "\n",
       "    .dataframe tbody tr th {\n",
       "        vertical-align: top;\n",
       "    }\n",
       "\n",
       "    .dataframe thead th {\n",
       "        text-align: right;\n",
       "    }\n",
       "</style>\n",
       "<table border=\"1\" class=\"dataframe\">\n",
       "  <thead>\n",
       "    <tr style=\"text-align: right;\">\n",
       "      <th></th>\n",
       "      <th>comment</th>\n",
       "    </tr>\n",
       "  </thead>\n",
       "  <tbody>\n",
       "    <tr>\n",
       "      <th>28</th>\n",
       "      <td>The recommended videos which we are getting in...</td>\n",
       "    </tr>\n",
       "    <tr>\n",
       "      <th>29</th>\n",
       "      <td>wonderful and fantastic tutorial! It's really ...</td>\n",
       "    </tr>\n",
       "    <tr>\n",
       "      <th>30</th>\n",
       "      <td>I got impressed by this tutorial and intereste...</td>\n",
       "    </tr>\n",
       "    <tr>\n",
       "      <th>31</th>\n",
       "      <td>Simple explanations work best. This one is a c...</td>\n",
       "    </tr>\n",
       "    <tr>\n",
       "      <th>32</th>\n",
       "      <td>I am reading 21 lessons for 21st century ..the...</td>\n",
       "    </tr>\n",
       "    <tr>\n",
       "      <th>...</th>\n",
       "      <td>...</td>\n",
       "    </tr>\n",
       "    <tr>\n",
       "      <th>523</th>\n",
       "      <td>1.supervised learning\\n2.supervised learning \\...</td>\n",
       "    </tr>\n",
       "    <tr>\n",
       "      <th>524</th>\n",
       "      <td>1.supervised\\n2.supervised \\n3.unsupervised</td>\n",
       "    </tr>\n",
       "    <tr>\n",
       "      <th>525</th>\n",
       "      <td>Great job thanks</td>\n",
       "    </tr>\n",
       "    <tr>\n",
       "      <th>526</th>\n",
       "      <td>Supervised\\nUnsupervised\\nReinforcement</td>\n",
       "    </tr>\n",
       "    <tr>\n",
       "      <th>527</th>\n",
       "      <td>thnx</td>\n",
       "    </tr>\n",
       "  </tbody>\n",
       "</table>\n",
       "<p>500 rows × 1 columns</p>\n",
       "</div>"
      ],
      "text/plain": [
       "                                               comment\n",
       "28   The recommended videos which we are getting in...\n",
       "29   wonderful and fantastic tutorial! It's really ...\n",
       "30   I got impressed by this tutorial and intereste...\n",
       "31   Simple explanations work best. This one is a c...\n",
       "32   I am reading 21 lessons for 21st century ..the...\n",
       "..                                                 ...\n",
       "523  1.supervised learning\\n2.supervised learning \\...\n",
       "524        1.supervised\\n2.supervised \\n3.unsupervised\n",
       "525                                   Great job thanks\n",
       "526            Supervised\\nUnsupervised\\nReinforcement\n",
       "527                                               thnx\n",
       "\n",
       "[500 rows x 1 columns]"
      ]
     },
     "execution_count": 182,
     "metadata": {},
     "output_type": "execute_result"
    }
   ],
   "source": [
    "df=pd.DataFrame({'comment':Comment})\n",
    "df.tail(500)"
   ]
  },
  {
   "cell_type": "code",
   "execution_count": null,
   "id": "50acfd4b",
   "metadata": {},
   "outputs": [],
   "source": []
  },
  {
   "cell_type": "code",
   "execution_count": null,
   "id": "d42d7a9a",
   "metadata": {},
   "outputs": [],
   "source": []
  },
  {
   "cell_type": "code",
   "execution_count": null,
   "id": "605054ca",
   "metadata": {},
   "outputs": [],
   "source": []
  },
  {
   "cell_type": "code",
   "execution_count": null,
   "id": "55ee7eb1",
   "metadata": {},
   "outputs": [],
   "source": []
  },
  {
   "cell_type": "markdown",
   "id": "4d1379f1",
   "metadata": {},
   "source": [
    "# 9. Write a python program to scrape a data for all available Hostels from https://www.hostelworld.com/ in “London” location. You have to scrape hostel name, distance from city centre, ratings, total reviews, overall reviews, privates from price, dorms from price, facilities and property description. "
   ]
  },
  {
   "cell_type": "code",
   "execution_count": 179,
   "id": "113e21e5",
   "metadata": {},
   "outputs": [],
   "source": [
    "import selenium \n",
    "import pandas as pd\n",
    "import time\n",
    "from bs4 import BeautifulSoup\n",
    "from selenium import webdriver\n",
    "from selenium.common.exceptions import StaleElementReferenceException, NoSuchElementException\n",
    "import requests\n",
    "from selenium.webdriver.common.by import By\n",
    "import warnings\n",
    "warnings.filterwarnings('ignore')"
   ]
  },
  {
   "cell_type": "code",
   "execution_count": 127,
   "id": "42c549f2",
   "metadata": {},
   "outputs": [],
   "source": [
    "driver = webdriver.Chrome()"
   ]
  },
  {
   "cell_type": "code",
   "execution_count": 128,
   "id": "428454f5",
   "metadata": {},
   "outputs": [],
   "source": [
    "driver.get('https://www.hostelworld.com/')"
   ]
  },
  {
   "cell_type": "code",
   "execution_count": 130,
   "id": "12cb2686",
   "metadata": {},
   "outputs": [],
   "source": [
    "location=driver.find_element(By.XPATH,'/html/body/div[3]/div/div[2]/main/header/div/div[2]/div[1]/div[1]/div/div[1]/div[2]/div/ul/li[2]/button/div[2]/div[2]')\n",
    "location.click()"
   ]
  },
  {
   "cell_type": "code",
   "execution_count": 131,
   "id": "5c7e7478",
   "metadata": {},
   "outputs": [],
   "source": [
    "search=driver.find_element(By.XPATH,'/html/body/div[3]/div/div[2]/main/header/div/div[2]/div[1]/div[1]/div/div[5]/button[1]')\n",
    "search.click()"
   ]
  },
  {
   "cell_type": "code",
   "execution_count": 133,
   "id": "7e05ea9f",
   "metadata": {},
   "outputs": [],
   "source": [
    "location_url = []\n",
    "start=0\n",
    "end=3\n",
    "for page in range(start,end):\n",
    "    url=driver.find_elements(By.XPATH,'//div[@class=\"property-info-container\"]')\n",
    "for i in url:\n",
    "        location_url.append(i.get_attribute)"
   ]
  },
  {
   "cell_type": "code",
   "execution_count": 134,
   "id": "b1f1c234",
   "metadata": {},
   "outputs": [
    {
     "data": {
      "text/plain": [
       "32"
      ]
     },
     "execution_count": 134,
     "metadata": {},
     "output_type": "execute_result"
    }
   ],
   "source": [
    "len(location_url)"
   ]
  },
  {
   "cell_type": "code",
   "execution_count": 135,
   "id": "8073ba42",
   "metadata": {},
   "outputs": [
    {
     "data": {
      "text/plain": [
       "[<bound method WebElement.get_attribute of <selenium.webdriver.remote.webelement.WebElement (session=\"ac687ca2389aaafafbed0424485d86d8\", element=\"f.B771AEED57537836239471011A6C0276.d.8A4030750D68E1C532790C1C3535D23B.e.6748\")>>,\n",
       " <bound method WebElement.get_attribute of <selenium.webdriver.remote.webelement.WebElement (session=\"ac687ca2389aaafafbed0424485d86d8\", element=\"f.B771AEED57537836239471011A6C0276.d.8A4030750D68E1C532790C1C3535D23B.e.6749\")>>,\n",
       " <bound method WebElement.get_attribute of <selenium.webdriver.remote.webelement.WebElement (session=\"ac687ca2389aaafafbed0424485d86d8\", element=\"f.B771AEED57537836239471011A6C0276.d.8A4030750D68E1C532790C1C3535D23B.e.6750\")>>,\n",
       " <bound method WebElement.get_attribute of <selenium.webdriver.remote.webelement.WebElement (session=\"ac687ca2389aaafafbed0424485d86d8\", element=\"f.B771AEED57537836239471011A6C0276.d.8A4030750D68E1C532790C1C3535D23B.e.6751\")>>,\n",
       " <bound method WebElement.get_attribute of <selenium.webdriver.remote.webelement.WebElement (session=\"ac687ca2389aaafafbed0424485d86d8\", element=\"f.B771AEED57537836239471011A6C0276.d.8A4030750D68E1C532790C1C3535D23B.e.6752\")>>,\n",
       " <bound method WebElement.get_attribute of <selenium.webdriver.remote.webelement.WebElement (session=\"ac687ca2389aaafafbed0424485d86d8\", element=\"f.B771AEED57537836239471011A6C0276.d.8A4030750D68E1C532790C1C3535D23B.e.6753\")>>,\n",
       " <bound method WebElement.get_attribute of <selenium.webdriver.remote.webelement.WebElement (session=\"ac687ca2389aaafafbed0424485d86d8\", element=\"f.B771AEED57537836239471011A6C0276.d.8A4030750D68E1C532790C1C3535D23B.e.6754\")>>,\n",
       " <bound method WebElement.get_attribute of <selenium.webdriver.remote.webelement.WebElement (session=\"ac687ca2389aaafafbed0424485d86d8\", element=\"f.B771AEED57537836239471011A6C0276.d.8A4030750D68E1C532790C1C3535D23B.e.6755\")>>,\n",
       " <bound method WebElement.get_attribute of <selenium.webdriver.remote.webelement.WebElement (session=\"ac687ca2389aaafafbed0424485d86d8\", element=\"f.B771AEED57537836239471011A6C0276.d.8A4030750D68E1C532790C1C3535D23B.e.6756\")>>,\n",
       " <bound method WebElement.get_attribute of <selenium.webdriver.remote.webelement.WebElement (session=\"ac687ca2389aaafafbed0424485d86d8\", element=\"f.B771AEED57537836239471011A6C0276.d.8A4030750D68E1C532790C1C3535D23B.e.6757\")>>,\n",
       " <bound method WebElement.get_attribute of <selenium.webdriver.remote.webelement.WebElement (session=\"ac687ca2389aaafafbed0424485d86d8\", element=\"f.B771AEED57537836239471011A6C0276.d.8A4030750D68E1C532790C1C3535D23B.e.6758\")>>,\n",
       " <bound method WebElement.get_attribute of <selenium.webdriver.remote.webelement.WebElement (session=\"ac687ca2389aaafafbed0424485d86d8\", element=\"f.B771AEED57537836239471011A6C0276.d.8A4030750D68E1C532790C1C3535D23B.e.6759\")>>,\n",
       " <bound method WebElement.get_attribute of <selenium.webdriver.remote.webelement.WebElement (session=\"ac687ca2389aaafafbed0424485d86d8\", element=\"f.B771AEED57537836239471011A6C0276.d.8A4030750D68E1C532790C1C3535D23B.e.6760\")>>,\n",
       " <bound method WebElement.get_attribute of <selenium.webdriver.remote.webelement.WebElement (session=\"ac687ca2389aaafafbed0424485d86d8\", element=\"f.B771AEED57537836239471011A6C0276.d.8A4030750D68E1C532790C1C3535D23B.e.6761\")>>,\n",
       " <bound method WebElement.get_attribute of <selenium.webdriver.remote.webelement.WebElement (session=\"ac687ca2389aaafafbed0424485d86d8\", element=\"f.B771AEED57537836239471011A6C0276.d.8A4030750D68E1C532790C1C3535D23B.e.6762\")>>,\n",
       " <bound method WebElement.get_attribute of <selenium.webdriver.remote.webelement.WebElement (session=\"ac687ca2389aaafafbed0424485d86d8\", element=\"f.B771AEED57537836239471011A6C0276.d.8A4030750D68E1C532790C1C3535D23B.e.6763\")>>,\n",
       " <bound method WebElement.get_attribute of <selenium.webdriver.remote.webelement.WebElement (session=\"ac687ca2389aaafafbed0424485d86d8\", element=\"f.B771AEED57537836239471011A6C0276.d.8A4030750D68E1C532790C1C3535D23B.e.6764\")>>,\n",
       " <bound method WebElement.get_attribute of <selenium.webdriver.remote.webelement.WebElement (session=\"ac687ca2389aaafafbed0424485d86d8\", element=\"f.B771AEED57537836239471011A6C0276.d.8A4030750D68E1C532790C1C3535D23B.e.6765\")>>,\n",
       " <bound method WebElement.get_attribute of <selenium.webdriver.remote.webelement.WebElement (session=\"ac687ca2389aaafafbed0424485d86d8\", element=\"f.B771AEED57537836239471011A6C0276.d.8A4030750D68E1C532790C1C3535D23B.e.6766\")>>,\n",
       " <bound method WebElement.get_attribute of <selenium.webdriver.remote.webelement.WebElement (session=\"ac687ca2389aaafafbed0424485d86d8\", element=\"f.B771AEED57537836239471011A6C0276.d.8A4030750D68E1C532790C1C3535D23B.e.6767\")>>,\n",
       " <bound method WebElement.get_attribute of <selenium.webdriver.remote.webelement.WebElement (session=\"ac687ca2389aaafafbed0424485d86d8\", element=\"f.B771AEED57537836239471011A6C0276.d.8A4030750D68E1C532790C1C3535D23B.e.6768\")>>,\n",
       " <bound method WebElement.get_attribute of <selenium.webdriver.remote.webelement.WebElement (session=\"ac687ca2389aaafafbed0424485d86d8\", element=\"f.B771AEED57537836239471011A6C0276.d.8A4030750D68E1C532790C1C3535D23B.e.6769\")>>,\n",
       " <bound method WebElement.get_attribute of <selenium.webdriver.remote.webelement.WebElement (session=\"ac687ca2389aaafafbed0424485d86d8\", element=\"f.B771AEED57537836239471011A6C0276.d.8A4030750D68E1C532790C1C3535D23B.e.6770\")>>,\n",
       " <bound method WebElement.get_attribute of <selenium.webdriver.remote.webelement.WebElement (session=\"ac687ca2389aaafafbed0424485d86d8\", element=\"f.B771AEED57537836239471011A6C0276.d.8A4030750D68E1C532790C1C3535D23B.e.6771\")>>,\n",
       " <bound method WebElement.get_attribute of <selenium.webdriver.remote.webelement.WebElement (session=\"ac687ca2389aaafafbed0424485d86d8\", element=\"f.B771AEED57537836239471011A6C0276.d.8A4030750D68E1C532790C1C3535D23B.e.6772\")>>,\n",
       " <bound method WebElement.get_attribute of <selenium.webdriver.remote.webelement.WebElement (session=\"ac687ca2389aaafafbed0424485d86d8\", element=\"f.B771AEED57537836239471011A6C0276.d.8A4030750D68E1C532790C1C3535D23B.e.6773\")>>,\n",
       " <bound method WebElement.get_attribute of <selenium.webdriver.remote.webelement.WebElement (session=\"ac687ca2389aaafafbed0424485d86d8\", element=\"f.B771AEED57537836239471011A6C0276.d.8A4030750D68E1C532790C1C3535D23B.e.6774\")>>,\n",
       " <bound method WebElement.get_attribute of <selenium.webdriver.remote.webelement.WebElement (session=\"ac687ca2389aaafafbed0424485d86d8\", element=\"f.B771AEED57537836239471011A6C0276.d.8A4030750D68E1C532790C1C3535D23B.e.6775\")>>,\n",
       " <bound method WebElement.get_attribute of <selenium.webdriver.remote.webelement.WebElement (session=\"ac687ca2389aaafafbed0424485d86d8\", element=\"f.B771AEED57537836239471011A6C0276.d.8A4030750D68E1C532790C1C3535D23B.e.6776\")>>,\n",
       " <bound method WebElement.get_attribute of <selenium.webdriver.remote.webelement.WebElement (session=\"ac687ca2389aaafafbed0424485d86d8\", element=\"f.B771AEED57537836239471011A6C0276.d.8A4030750D68E1C532790C1C3535D23B.e.6777\")>>,\n",
       " <bound method WebElement.get_attribute of <selenium.webdriver.remote.webelement.WebElement (session=\"ac687ca2389aaafafbed0424485d86d8\", element=\"f.B771AEED57537836239471011A6C0276.d.8A4030750D68E1C532790C1C3535D23B.e.6778\")>>,\n",
       " <bound method WebElement.get_attribute of <selenium.webdriver.remote.webelement.WebElement (session=\"ac687ca2389aaafafbed0424485d86d8\", element=\"f.B771AEED57537836239471011A6C0276.d.8A4030750D68E1C532790C1C3535D23B.e.6779\")>>]"
      ]
     },
     "execution_count": 135,
     "metadata": {},
     "output_type": "execute_result"
    }
   ],
   "source": [
    "location_url"
   ]
  },
  {
   "cell_type": "code",
   "execution_count": 136,
   "id": "c38017d2",
   "metadata": {},
   "outputs": [],
   "source": [
    "Hostel_Name=[]\n",
    "Distance=[]\n",
    "Ratings=[]\n",
    "Total_Reviews=[]\n",
    "Overall_Reviews=[]"
   ]
  },
  {
   "cell_type": "code",
   "execution_count": 143,
   "id": "50576abc",
   "metadata": {},
   "outputs": [],
   "source": [
    "name_tags=driver.find_elements(By.XPATH,'//div[@class=\"property-name\"]')\n",
    "for i in name_tags:\n",
    "    name_title=i.text\n",
    "    Hostel_Name.append(name_title)\n",
    "    \n",
    "distance_tags=driver.find_elements(By.XPATH,'//span[@class=\"distance-description\"]')\n",
    "for i in distance_tags:\n",
    "    distance_title=i.text\n",
    "    Distance.append(distance_title)\n",
    "    \n",
    "ratings_tags=driver.find_elements(By.XPATH,'//span[@class=\"number\"]')\n",
    "for i in ratings_tags:\n",
    "    ratings_title=i.text\n",
    "    Ratings.append(ratings_title)\n",
    "    \n",
    "review_tags=driver.find_elements(By.XPATH,'//span[@class=\"left-margin\"]')\n",
    "for i in review_tags:\n",
    "    review_title=i.text\n",
    "    Total_Reviews.append(review_title)\n",
    "    \n",
    "reviews_tags=driver.find_elements(By.XPATH,'//span[@class=\"keyword\"]')\n",
    "for i in reviews_tags:\n",
    "    reviews_title=i.text\n",
    "    Overall_Reviews.append(reviews_title)"
   ]
  },
  {
   "cell_type": "code",
   "execution_count": 144,
   "id": "63ed0277",
   "metadata": {},
   "outputs": [
    {
     "name": "stdout",
     "output_type": "stream",
     "text": [
      "64 64 64\n"
     ]
    }
   ],
   "source": [
    "print(len(Hostel_Name),len(Ratings),len(Overall_Reviews))"
   ]
  },
  {
   "cell_type": "code",
   "execution_count": 151,
   "id": "b0facf85",
   "metadata": {},
   "outputs": [
    {
     "data": {
      "text/html": [
       "<div>\n",
       "<style scoped>\n",
       "    .dataframe tbody tr th:only-of-type {\n",
       "        vertical-align: middle;\n",
       "    }\n",
       "\n",
       "    .dataframe tbody tr th {\n",
       "        vertical-align: top;\n",
       "    }\n",
       "\n",
       "    .dataframe thead th {\n",
       "        text-align: right;\n",
       "    }\n",
       "</style>\n",
       "<table border=\"1\" class=\"dataframe\">\n",
       "  <thead>\n",
       "    <tr style=\"text-align: right;\">\n",
       "      <th></th>\n",
       "      <th>name</th>\n",
       "      <th>ratings</th>\n",
       "      <th>reviews</th>\n",
       "    </tr>\n",
       "  </thead>\n",
       "  <tbody>\n",
       "    <tr>\n",
       "      <th>54</th>\n",
       "      <td>Hostelle - women only hostel London</td>\n",
       "      <td>8.6</td>\n",
       "      <td>Fabulous</td>\n",
       "    </tr>\n",
       "    <tr>\n",
       "      <th>55</th>\n",
       "      <td>Smart Hyde Park Inn Hostel</td>\n",
       "      <td>7.8</td>\n",
       "      <td>Very Good</td>\n",
       "    </tr>\n",
       "    <tr>\n",
       "      <th>56</th>\n",
       "      <td>London Backpackers</td>\n",
       "      <td>8.1</td>\n",
       "      <td>Fabulous</td>\n",
       "    </tr>\n",
       "    <tr>\n",
       "      <th>57</th>\n",
       "      <td>YHA London Central</td>\n",
       "      <td>8.9</td>\n",
       "      <td>Fabulous</td>\n",
       "    </tr>\n",
       "    <tr>\n",
       "      <th>58</th>\n",
       "      <td>Kabannas London St Pancras</td>\n",
       "      <td>8.3</td>\n",
       "      <td>Fabulous</td>\n",
       "    </tr>\n",
       "    <tr>\n",
       "      <th>59</th>\n",
       "      <td>Barmy Badger Backpackers</td>\n",
       "      <td>8.9</td>\n",
       "      <td>Fabulous</td>\n",
       "    </tr>\n",
       "    <tr>\n",
       "      <th>60</th>\n",
       "      <td>Astor Victoria</td>\n",
       "      <td>7.3</td>\n",
       "      <td>Very Good</td>\n",
       "    </tr>\n",
       "    <tr>\n",
       "      <th>61</th>\n",
       "      <td>Astor Kensington</td>\n",
       "      <td>8.1</td>\n",
       "      <td>Fabulous</td>\n",
       "    </tr>\n",
       "    <tr>\n",
       "      <th>62</th>\n",
       "      <td>Bell House Hostel</td>\n",
       "      <td>7.3</td>\n",
       "      <td>Very Good</td>\n",
       "    </tr>\n",
       "    <tr>\n",
       "      <th>63</th>\n",
       "      <td>Saint James Backpackers</td>\n",
       "      <td>7.3</td>\n",
       "      <td>Very Good</td>\n",
       "    </tr>\n",
       "  </tbody>\n",
       "</table>\n",
       "</div>"
      ],
      "text/plain": [
       "                                   name ratings    reviews\n",
       "54  Hostelle - women only hostel London     8.6   Fabulous\n",
       "55           Smart Hyde Park Inn Hostel     7.8  Very Good\n",
       "56                   London Backpackers     8.1   Fabulous\n",
       "57                   YHA London Central     8.9   Fabulous\n",
       "58           Kabannas London St Pancras     8.3   Fabulous\n",
       "59             Barmy Badger Backpackers     8.9   Fabulous\n",
       "60                       Astor Victoria     7.3  Very Good\n",
       "61                     Astor Kensington     8.1   Fabulous\n",
       "62                    Bell House Hostel     7.3  Very Good\n",
       "63              Saint James Backpackers     7.3  Very Good"
      ]
     },
     "execution_count": 151,
     "metadata": {},
     "output_type": "execute_result"
    }
   ],
   "source": [
    "df=pd.DataFrame({'name':Hostel_Name,'ratings':Ratings,'reviews':Overall_Reviews})\n",
    "df.tail(10)"
   ]
  },
  {
   "cell_type": "code",
   "execution_count": null,
   "id": "0c308f29",
   "metadata": {},
   "outputs": [],
   "source": []
  },
  {
   "cell_type": "code",
   "execution_count": null,
   "id": "2934b28a",
   "metadata": {},
   "outputs": [],
   "source": []
  }
 ],
 "metadata": {
  "kernelspec": {
   "display_name": "Python 3 (ipykernel)",
   "language": "python",
   "name": "python3"
  },
  "language_info": {
   "codemirror_mode": {
    "name": "ipython",
    "version": 3
   },
   "file_extension": ".py",
   "mimetype": "text/x-python",
   "name": "python",
   "nbconvert_exporter": "python",
   "pygments_lexer": "ipython3",
   "version": "3.11.4"
  }
 },
 "nbformat": 4,
 "nbformat_minor": 5
}
